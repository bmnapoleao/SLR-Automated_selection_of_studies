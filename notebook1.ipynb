{
  "nbformat": 4,
  "nbformat_minor": 0,
  "metadata": {
    "colab": {
      "provenance": [],
      "authorship_tag": "ABX9TyPVd4veuVw6ce/bKwNQdl7z",
      "include_colab_link": true
    },
    "kernelspec": {
      "name": "python3",
      "display_name": "Python 3"
    },
    "language_info": {
      "name": "python"
    }
  },
  "cells": [
    {
      "cell_type": "markdown",
      "metadata": {
        "id": "view-in-github",
        "colab_type": "text"
      },
      "source": [
        "<a href=\"https://colab.research.google.com/github/bmnapoleao/SLR-Automated_selection_of_studies/blob/main/notebook1.ipynb\" target=\"_parent\"><img src=\"https://colab.research.google.com/assets/colab-badge.svg\" alt=\"Open In Colab\"/></a>"
      ]
    },
    {
      "cell_type": "markdown",
      "source": [
        "# Summary: <todo-describe>"
      ],
      "metadata": {
        "id": "nsgy3RDNulsz"
      }
    },
    {
      "cell_type": "code",
      "source": [
        "import numpy as np\n",
        "import pandas as pd\n",
        "import matplotlib.pyplot as plt\n",
        "import matplotlib.colors as colors\n",
        "import matplotlib.patches as mpatches\n",
        "from IPython.display import display\n",
        "from sklearn import preprocessing\n",
        "from sklearn.cluster import KMeans\n",
        "from sklearn import metrics\n",
        "import networkx as nx\n",
        "from sklearn.decomposition import PCA\n",
        "import seaborn as sns"
      ],
      "metadata": {
        "id": "GwPPyeeZ7Ov5"
      },
      "execution_count": 1,
      "outputs": []
    },
    {
      "cell_type": "code",
      "source": [
        "# Lista de artigos duplicados (encontrados a partir de um script python)\n",
        "DUPLICATED_LST = ['Leveraging organizational climate theory for understanding industry-academia collaboration', 'Meeting Industry-Academia Research Collaboration Challenges with Agile Methodologies', 'Characterizing industry-academia collaborations in software engineering: evidence from 101 projects', 'Protocol and Tools for Conducting Agile Software Engineering Research in an Industrial-Academic Setting: A Preliminary Study', 'Industry-Academia research collaboration in software engineering: The Certus model', 'Fostering Industry-Academia Collaboration in Software Engineering Using Action Research: A Case Study', 'A case study of industry--academia communication in a joint software engineering research project', 'Lessons Learned on Research Co-Creation: Making Industry-Academia Collaboration Work', 'Industry-Academia Collaborations in Software Engineering: An Empirical Analysis of Challenges, Patterns and Anti-Patterns in Research Projects', 'Knowledge Management in University-Software Industry Collaboration']"
      ],
      "metadata": {
        "id": "FpcQNPRe9-Xm"
      },
      "execution_count": 2,
      "outputs": []
    },
    {
      "cell_type": "code",
      "source": [
        "len(DUPLICATED_LST)"
      ],
      "metadata": {
        "colab": {
          "base_uri": "https://localhost:8080/"
        },
        "id": "BnafUx1XDvFf",
        "outputId": "3181dd9d-fef4-4b04-cde6-8822c016f6c7"
      },
      "execution_count": 3,
      "outputs": [
        {
          "output_type": "execute_result",
          "data": {
            "text/plain": [
              "10"
            ]
          },
          "metadata": {},
          "execution_count": 3
        }
      ]
    },
    {
      "cell_type": "markdown",
      "source": [
        "# Number of features used in Feature Selection"
      ],
      "metadata": {
        "id": "gD82ktgJgAzB"
      }
    },
    {
      "cell_type": "code",
      "source": [
        "# k_fs = 100  \n",
        "# k_fs = 500  \n",
        "# k_fs = 750  # DONE\n",
        "# k_fs = 1000 # DONE\n",
        "k_fs = 1500 \n",
        "k_sufix = 'k{}'.format(k_fs)"
      ],
      "metadata": {
        "id": "jnBIF9XggAVz"
      },
      "execution_count": 4,
      "outputs": []
    },
    {
      "cell_type": "markdown",
      "source": [
        "# Choose dataset to use and where to save results"
      ],
      "metadata": {
        "id": "kwra3xyKN5xI"
      }
    },
    {
      "cell_type": "code",
      "source": [
        "# To use full dataset (2hrs to run feature selection)\n",
        "#   Training Paths to read from\n",
        "# file_path_included_training = '/content/drive/MyDrive/cslr/bibs/training-sets/training_included.bib'\n",
        "# file_path_excluded_training = '/content/drive/MyDrive/cslr/bibs/training-sets/training_excluded.bib'\n",
        "# #   Testing Paths to read from\n",
        "# file_path_included_testing = '/content/drive/MyDrive/cslr/bibs/testing-sets/testing_included_formated.bib'\n",
        "# file_path_excluded_testing = '/content/drive/MyDrive/cslr/bibs/testing-sets/testing_excluded_formated.bib'\n",
        "# #   Using complete dataset (result's dir on drive)\n",
        "# result_file_path = '/content/drive/MyDrive/cslr/results-dec/report_{}.csv'.format(k_sufix)\n",
        "\n",
        "###########################################################################################################\n",
        "\n",
        "# # # To use small sample from dataset\n",
        "# #   Training Paths to read from\n",
        "file_path_included_training = '/content/drive/MyDrive/cslr/bibs/small-samples/training-set-included.bib'\n",
        "file_path_excluded_training = '/content/drive/MyDrive/cslr/bibs/small-samples/training-set-excluded.bib'\n",
        "#   Testing Paths to read from\n",
        "file_path_included_testing =  '/content/drive/MyDrive/cslr/bibs/small-samples/testing-set-included.bib'\n",
        "file_path_excluded_testing =  '/content/drive/MyDrive/cslr/bibs/small-samples/testing-set-excluded.bib'\n",
        "##   Using small samples / part of dataset (result's dir on drive)\n",
        "k_fs = 100  # Use small number of features\n",
        "k_sufix = 'k{}'.format(k_fs)\n",
        "result_file_path = '/content/drive/MyDrive/cslr/results-dec/to-remove-test.csv'\n"
      ],
      "metadata": {
        "id": "MfaCNxWjN428"
      },
      "execution_count": 5,
      "outputs": []
    },
    {
      "cell_type": "markdown",
      "metadata": {
        "id": "MDnXLbAXQbBn"
      },
      "source": [
        "# Selection of Studies\n",
        "\n",
        "Marcelo Costalonga\n"
      ]
    },
    {
      "cell_type": "markdown",
      "source": [
        "## Bib Parser\n",
        "\n",
        "######  # BibParser(write_files=False, project_folder=project_folder, only_titles=True),"
      ],
      "metadata": {
        "id": "hHEEQJyId9Vm"
      }
    },
    {
      "cell_type": "code",
      "source": [
        "!pip install bibtexparser"
      ],
      "metadata": {
        "colab": {
          "base_uri": "https://localhost:8080/"
        },
        "id": "t15EfQQ4CyCM",
        "outputId": "08035995-6b45-45a0-c985-fa6a76d165d0"
      },
      "execution_count": 6,
      "outputs": [
        {
          "output_type": "stream",
          "name": "stdout",
          "text": [
            "Looking in indexes: https://pypi.org/simple, https://us-python.pkg.dev/colab-wheels/public/simple/\n",
            "Collecting bibtexparser\n",
            "  Downloading bibtexparser-1.4.0.tar.gz (51 kB)\n",
            "\u001b[K     |████████████████████████████████| 51 kB 194 kB/s \n",
            "\u001b[?25hRequirement already satisfied: pyparsing>=2.0.3 in /usr/local/lib/python3.8/dist-packages (from bibtexparser) (3.0.9)\n",
            "Building wheels for collected packages: bibtexparser\n",
            "  Building wheel for bibtexparser (setup.py) ... \u001b[?25l\u001b[?25hdone\n",
            "  Created wheel for bibtexparser: filename=bibtexparser-1.4.0-py3-none-any.whl size=42443 sha256=e316b931b02e6cd557cb2cbb368ca676fd763057761a3884ec3ea70ded3b89f7\n",
            "  Stored in directory: /root/.cache/pip/wheels/6d/48/ea/211993480bbd28915707cff265dc40aa95db736838b6d014a8\n",
            "Successfully built bibtexparser\n",
            "Installing collected packages: bibtexparser\n",
            "Successfully installed bibtexparser-1.4.0\n"
          ]
        }
      ]
    },
    {
      "cell_type": "markdown",
      "source": [
        "### Imports"
      ],
      "metadata": {
        "id": "fuE80dzY-vIz"
      }
    },
    {
      "cell_type": "code",
      "source": [
        "import codecs, bibtexparser\n",
        "\n",
        "import keras_preprocessing.sequence\n",
        "import numpy as np\n",
        "\n",
        "from keras.preprocessing.text import Tokenizer"
      ],
      "metadata": {
        "id": "a0-biIQ2d6Pt"
      },
      "execution_count": 7,
      "outputs": []
    },
    {
      "cell_type": "markdown",
      "source": [
        "### Loading bibs from drive (BibTexParser)"
      ],
      "metadata": {
        "id": "jfjQ4iXa6JdH"
      }
    },
    {
      "cell_type": "code",
      "source": [
        "from google.colab import drive\n",
        "drive.mount('/content/drive')"
      ],
      "metadata": {
        "colab": {
          "base_uri": "https://localhost:8080/"
        },
        "id": "QyIXr5DJ45Ls",
        "outputId": "72e6a62b-d517-4835-8477-0519c13b3b59"
      },
      "execution_count": 8,
      "outputs": [
        {
          "output_type": "stream",
          "name": "stdout",
          "text": [
            "Mounted at /content/drive\n"
          ]
        }
      ]
    },
    {
      "cell_type": "code",
      "source": [
        "def read_bib(file_path, set_name: str, was_accepted: bool):\n",
        "    texts_list = list()\n",
        "    titles_list = list()\n",
        "    duplicated_titles = dict()\n",
        "\n",
        "    with codecs.open(file_path, 'r', encoding='utf-8') as bib_file:\n",
        "        db = bibtexparser.load(bib_file)\n",
        "        for bib_index, entry in enumerate(db.entries, start=0):\n",
        "            category = 'selecionado' if was_accepted == True else 'removido'\n",
        "            title = entry['title']\n",
        "            abstract = entry['abstract']\n",
        "            year = entry['year']\n",
        "            content = u'%s\\n%s' % (title, abstract)\n",
        "            folder = file_path.split('/')[2].split('-')[0]\n",
        "\n",
        "            if (title not in titles_list): \n",
        "                titles_list.append(title)\n",
        "                content = content.split('\\n')[0]\n",
        "                texts_list.append({\n",
        "                    'title': title,\n",
        "                    'content': content,\n",
        "                    'category': category,\n",
        "                    'year': int(year)\n",
        "                })\n",
        "            else:\n",
        "                if title in duplicated_titles:\n",
        "                    duplicated_titles[title] += 1  \n",
        "                else:\n",
        "                     duplicated_titles[title] = 2\n",
        "\n",
        "        bib_file.close()\n",
        "\n",
        "        if (len(duplicated_titles) > 0):\n",
        "            print(\"\\nFound {} duplicated entries on set: {}\".format(len(duplicated_titles), set_name))\n",
        "            print(\"Each of the following entries were found Nx times (number the same title was found) and were ignored:\")\n",
        "            for title in duplicated_titles:\n",
        "                print(\"\\t({}x) - {}\".format(duplicated_titles[title], title))\n",
        "\n",
        "        return texts_list, titles_list"
      ],
      "metadata": {
        "id": "A1kVhbOS53y5"
      },
      "execution_count": 9,
      "outputs": []
    },
    {
      "cell_type": "code",
      "source": [
        "# Initialize lists\n",
        "texts_list_included_training = []\n",
        "texts_list_excluded_training = []\n",
        "texts_list_included_testing = []\n",
        "texts_list_excluded_testing = []\n",
        "\n",
        "# Read bibs according to each set (training/testing - excluded/included)\n",
        "texts_list_included_training, titles_included_training = read_bib(file_path_included_training, 'Training - Included', True)\n",
        "texts_list_excluded_training, titles_excluded_training = read_bib(file_path_excluded_training, 'Training - Excluded', False)\n",
        "texts_list_included_testing, titles_included_testing = read_bib(file_path_included_testing, 'Testing - Included', True)\n",
        "texts_list_excluded_testing, titles_excluded_testing = read_bib(file_path_excluded_testing, 'Training - Excluded', False)\n",
        "\n",
        "print(\"\\nNumber of entries in Training Set Included:\", len(texts_list_included_training))\n",
        "print(\"Number of entries in Training Set Excluded:\", len(texts_list_excluded_training))\n",
        "print(\"Number of entries in Testing Set Included:\", len(texts_list_included_testing))\n",
        "print(\"Number of entries in Testing Set Excluded:\", len(texts_list_excluded_testing))\n",
        "print(\"Total number of entries before removing dupplicates:\", len(texts_list_included_training) + len(texts_list_excluded_training) + \n",
        "      len(texts_list_included_testing) + len(texts_list_excluded_testing))\n"
      ],
      "metadata": {
        "id": "ccKVSNpUPFD6",
        "colab": {
          "base_uri": "https://localhost:8080/"
        },
        "outputId": "8ef7d8e2-5f7e-478a-e687-b90c69a49307"
      },
      "execution_count": 10,
      "outputs": [
        {
          "output_type": "stream",
          "name": "stdout",
          "text": [
            "\n",
            "Found 1 duplicated entries on set: Testing - Included\n",
            "Each of the following entries were found Nx times (number the same title was found) and were ignored:\n",
            "\t(2x) - Protocol and Tools for Conducting Agile Software Engineering Research in an Industrial-Academic Setting: A Preliminary Study\n",
            "\n",
            "Number of entries in Training Set Included: 16\n",
            "Number of entries in Training Set Excluded: 18\n",
            "Number of entries in Testing Set Included: 35\n",
            "Number of entries in Testing Set Excluded: 29\n",
            "Total number of entries before removing dupplicates: 98\n"
          ]
        }
      ]
    },
    {
      "cell_type": "code",
      "source": [],
      "metadata": {
        "id": "AO6_EQ4v-QLY"
      },
      "execution_count": 10,
      "outputs": []
    },
    {
      "cell_type": "markdown",
      "source": [
        "# Treating duplicates entries"
      ],
      "metadata": {
        "id": "8fu5U3YK-jSR"
      }
    },
    {
      "cell_type": "code",
      "source": [
        "from copy import deepcopy\n",
        "import traceback\n",
        "\n",
        "def remove_duplicates(text_lst, title_lst):\n",
        "    cp_text_lst = deepcopy(text_lst)\n",
        "    cp_title_lst = deepcopy(title_lst)\n",
        "\n",
        "    print(\"Before:\", len(cp_text_lst))\n",
        "\n",
        "    for txt_obj in text_lst:\n",
        "        # if txt_obj['content'] in DUPLICATED_LST:\n",
        "        if txt_obj['title'] in DUPLICATED_LST:\n",
        "            # print(txt_obj['title'])\n",
        "            if txt_obj in cp_text_lst:\n",
        "                cp_text_lst.remove(txt_obj)\n",
        "                cp_title_lst.remove(txt_obj['title'])\n",
        "\n",
        "    print(\"After:\", len(cp_text_lst))\n",
        "    return cp_text_lst, cp_title_lst\n",
        "\n",
        "\n",
        "# texts_list_included_testing = remove_duplicates(texts_list_included_testing)\n",
        "texts_list_excluded_testing, titles_excluded_testing = remove_duplicates(\n",
        "    texts_list_excluded_testing, titles_excluded_testing)"
      ],
      "metadata": {
        "id": "1ASEC1H--OL1",
        "colab": {
          "base_uri": "https://localhost:8080/"
        },
        "outputId": "d09221f0-75ae-45e4-8f59-f8f5eb881c75"
      },
      "execution_count": 11,
      "outputs": [
        {
          "output_type": "stream",
          "name": "stdout",
          "text": [
            "Before: 29\n",
            "After: 29\n"
          ]
        }
      ]
    },
    {
      "cell_type": "code",
      "source": [
        "print(\"Number of entries in Training Set Included:\", len(texts_list_included_training))\n",
        "print(\"Number of entries in Training Set Excluded:\", len(texts_list_excluded_training))\n",
        "print(\"Number of entries in Testing Set Included:\", len(texts_list_included_testing))\n",
        "print(\"Number of entries in Testing Set Excluded:\", len(texts_list_excluded_testing))\n",
        "print(\"Total number of entries after removing dupplicates:\", len(texts_list_included_training) + len(texts_list_excluded_training) + \n",
        "      len(texts_list_included_testing) + len(texts_list_excluded_testing))"
      ],
      "metadata": {
        "id": "tqrEwM2UAidH",
        "colab": {
          "base_uri": "https://localhost:8080/"
        },
        "outputId": "b2115749-96c4-4c47-aede-3de2ee45e438"
      },
      "execution_count": 12,
      "outputs": [
        {
          "output_type": "stream",
          "name": "stdout",
          "text": [
            "Number of entries in Training Set Included: 16\n",
            "Number of entries in Training Set Excluded: 18\n",
            "Number of entries in Testing Set Included: 35\n",
            "Number of entries in Testing Set Excluded: 29\n",
            "Total number of entries after removing dupplicates: 98\n"
          ]
        }
      ]
    },
    {
      "cell_type": "code",
      "source": [
        "def get_difference(l1, s1):\n",
        "    lst_copy = deepcopy(l1)\n",
        "    for i in s1:\n",
        "        if i in lst_copy:\n",
        "            lst_copy.remove(i)\n",
        "    return lst_copy\n",
        "\n",
        "def validate_texts(train_in, train_ex, test_in, test_ex):\n",
        "    # Assert there are no duplicates\n",
        "    duplicated_entries = list()\n",
        "    try:\n",
        "        train_titles = train_in + train_ex\n",
        "        train_tuple = set(train_in + train_ex)\n",
        "        assert len(train_titles) == len(train_tuple)\n",
        "    except AssertionError:\n",
        "        print(\"\\nTraining Sets have duplicated entries!!\")\n",
        "        print(\"Len l1+l2={} vs Len set={}\".format(len(train_titles), \n",
        "                                                  len(train_tuple)))\n",
        "        duplicated_entries = get_difference(train_titles, train_tuple)\n",
        "        print(\"The Following Entries appear both in Included and Excluded \\\n",
        "        Training sets:\\n\", duplicated_entries)\n",
        "\n",
        "    try:\n",
        "        test_titles = test_in + test_ex\n",
        "        test_tuple = set(test_in + test_ex)\n",
        "        assert len(test_titles) == len(test_tuple)\n",
        "    except AssertionError:\n",
        "        print(\"\\nTesting Sets have duplicates!!\")\n",
        "        print(\"Len l1+l2={} vs Len set={}\".format(len(test_titles), \n",
        "                                                  len(test_tuple)))    \n",
        "        duplicated_entries = get_difference(test_titles, test_tuple)\n",
        "        print(\"The Following Entries appear both in Included and Excluded Testing sets:\\n\")\n",
        "        for i in duplicated_entries:\n",
        "            print(\"\\t - {}\".format(i))\n",
        "\n",
        "    try:\n",
        "        all_titles = train_titles + test_titles\n",
        "        all_tuple = set(train_titles + test_titles)\n",
        "        assert len(all_titles) == len(all_tuple)\n",
        "    except AssertionError:\n",
        "        print(\"\\nTraining set contains entries that are also in Testing set!!\")\n",
        "        print(\"Len l1+l2={} vs Len set={}\".format(len(all_titles), \n",
        "                                                  len(all_tuple)))    \n",
        "        print(\"The Following Entries appear both in Testing and Training sets: \\\n",
        "        \\n\", duplicated_entries)\n",
        "\n",
        "    assert len(duplicated_entries) == 0, \"Found errors\"\n",
        "    return duplicated_entries\n",
        "\n",
        "# Validate Entries\n",
        "duplicated_entries = validate_texts(titles_included_training, titles_excluded_training, \n",
        "               titles_included_testing, titles_excluded_testing)\n",
        "\n"
      ],
      "metadata": {
        "id": "gXyJpoURvdSz"
      },
      "execution_count": 13,
      "outputs": []
    },
    {
      "cell_type": "code",
      "source": [
        "for i in duplicated_entries:\n",
        "    print(i)"
      ],
      "metadata": {
        "id": "dX2lAUQN23RF"
      },
      "execution_count": 14,
      "outputs": []
    },
    {
      "cell_type": "code",
      "source": [],
      "metadata": {
        "id": "skm1ohdk-S_S"
      },
      "execution_count": 14,
      "outputs": []
    },
    {
      "cell_type": "code",
      "source": [],
      "metadata": {
        "id": "GNUKrUp2-Syn"
      },
      "execution_count": 14,
      "outputs": []
    },
    {
      "cell_type": "code",
      "source": [
        "# Split into two lists (training / testing)\n",
        "texts_list_training = texts_list_included_training + texts_list_excluded_training\n",
        "texts_list_training = sorted(texts_list_training, key=lambda d: d['year'])\n",
        "\n",
        "texts_list_testing = texts_list_included_testing + texts_list_excluded_testing\n",
        "texts_list_testing = sorted(texts_list_testing, key=lambda d: d['year'])\n",
        "\n",
        "all_texts_list = texts_list_training + texts_list_testing\n",
        "all_texts_list = sorted(all_texts_list, key=lambda d: d['year'])\n",
        "\n",
        "print(len(all_texts_list))\n",
        "# for text in all_texts:\n",
        "#     print(text, len(text))"
      ],
      "metadata": {
        "id": "Bgm9Ma0b40nh",
        "colab": {
          "base_uri": "https://localhost:8080/"
        },
        "outputId": "ca68f80d-5002-46d3-88bf-b93e734ef7a3"
      },
      "execution_count": 15,
      "outputs": [
        {
          "output_type": "stream",
          "name": "stdout",
          "text": [
            "98\n"
          ]
        }
      ]
    },
    {
      "cell_type": "markdown",
      "source": [
        "## Text Filtering (preprocessing)\n",
        "\n",
        "######  # TextFilterComposite([ LemmatizerFilter(), StopWordsFilter() ]),\n",
        "\n",
        "### Imports"
      ],
      "metadata": {
        "id": "t4R3RSqa1lDk"
      }
    },
    {
      "cell_type": "code",
      "source": [
        "from nltk import pos_tag\n",
        "from nltk.corpus import stopwords\n",
        "from nltk.tokenize import word_tokenize\n",
        "from nltk.stem import WordNetLemmatizer\n",
        "from nltk.stem.porter import PorterStemmer"
      ],
      "metadata": {
        "id": "e_DSInt01yqA"
      },
      "execution_count": 16,
      "outputs": []
    },
    {
      "cell_type": "code",
      "source": [
        "import nltk\n",
        "nltk.download('punkt')\n",
        "nltk.download('averaged_perceptron_tagger')\n",
        "nltk.download('wordnet')\n",
        "nltk.download('stopwords')\n",
        "nltk.download('omw-1.4')"
      ],
      "metadata": {
        "id": "E2Bzke2xMAgx",
        "colab": {
          "base_uri": "https://localhost:8080/"
        },
        "outputId": "7f524034-cf0d-433a-cef7-a4d9b114a553"
      },
      "execution_count": 17,
      "outputs": [
        {
          "output_type": "stream",
          "name": "stderr",
          "text": [
            "[nltk_data] Downloading package punkt to /root/nltk_data...\n",
            "[nltk_data]   Unzipping tokenizers/punkt.zip.\n",
            "[nltk_data] Downloading package averaged_perceptron_tagger to\n",
            "[nltk_data]     /root/nltk_data...\n",
            "[nltk_data]   Unzipping taggers/averaged_perceptron_tagger.zip.\n",
            "[nltk_data] Downloading package wordnet to /root/nltk_data...\n",
            "[nltk_data] Downloading package stopwords to /root/nltk_data...\n",
            "[nltk_data]   Unzipping corpora/stopwords.zip.\n",
            "[nltk_data] Downloading package omw-1.4 to /root/nltk_data...\n"
          ]
        },
        {
          "output_type": "execute_result",
          "data": {
            "text/plain": [
              "True"
            ]
          },
          "metadata": {},
          "execution_count": 17
        }
      ]
    },
    {
      "cell_type": "markdown",
      "source": [
        "### Text Filters"
      ],
      "metadata": {
        "id": "ovxRnp2MJYBM"
      }
    },
    {
      "cell_type": "code",
      "source": [
        "class TextFilterComposite:\n",
        "    def __init__ (self, filters):\n",
        "        self._filters = filters\n",
        "\n",
        "    def _filter (self, tokens):\n",
        "        result = tokens\n",
        "        for f in self._filters:\n",
        "            result = f.filter(result)\n",
        "        return (' ').join(result)\n",
        "\n",
        "class LemmatizerFilter:\n",
        "    def __init__ (self):\n",
        "        print('===== Configure the lemmatizer =====')\n",
        "        self._lemmatizer = WordNetLemmatizer()\n",
        "\n",
        "    def filter (self, tokens):\n",
        "        tags = pos_tag(tokens)\n",
        "        return [ self._lemmatizer.lemmatize(token[0], pos=token[1][0].lower())\n",
        "                    if token[1][0].lower() in ('a', 'n', 'v', 'r')\n",
        "                    else self._lemmatizer.lemmatize(token[0])\n",
        "                    for token in tags ]\n",
        "\n",
        "class StopWordsFilter:\n",
        "    def __init__ (self):\n",
        "        print('===== Configuring stop words removal =====')\n",
        "\n",
        "    def filter (self, tokens):\n",
        "        return [ word for word in tokens\n",
        "                 if not word.lower() in stopwords.words('english') ]\n"
      ],
      "metadata": {
        "id": "6NIpM0_oIp35"
      },
      "execution_count": 18,
      "outputs": []
    },
    {
      "cell_type": "code",
      "source": [
        "# Tokenization \n",
        "filters = [LemmatizerFilter(), StopWordsFilter()]\n",
        "textFilterObj = TextFilterComposite(filters)\n",
        "\n",
        "def filter_text(text_list):\n",
        "    result = []\n",
        "    for text in text_list:\n",
        "        tokens = word_tokenize(text['content'])\n",
        "        \n",
        "        # Converts list to filtered str\n",
        "        #   E.g.: ['Research', 'in', 'computer', 'science', ':', 'an', 'empirical', 'study'] -> 'Research computer science : empirical study'\n",
        "        filtered_text = textFilterObj._filter(tokens)\n",
        "\n",
        "        result.append({\n",
        "            'content': filtered_text.lower(),\n",
        "            'category': text['category'],\n",
        "            'year': text['year']\n",
        "        })\n",
        "    return result\n"
      ],
      "metadata": {
        "id": "127g9XZ1Hbn7",
        "colab": {
          "base_uri": "https://localhost:8080/"
        },
        "outputId": "05a86410-c89c-4474-a471-db563913b10f"
      },
      "execution_count": 19,
      "outputs": [
        {
          "output_type": "stream",
          "name": "stdout",
          "text": [
            "===== Configure the lemmatizer =====\n",
            "===== Configuring stop words removal =====\n"
          ]
        }
      ]
    },
    {
      "cell_type": "code",
      "source": [
        "## 2) Calling filter method two times for each list (test | train)\n",
        "filtered_texts_list_testing = filter_text(texts_list_testing)\n",
        "filtered_texts_list_training = filter_text(texts_list_training)"
      ],
      "metadata": {
        "id": "KF7h8Cbe8K1u"
      },
      "execution_count": 20,
      "outputs": []
    },
    {
      "cell_type": "code",
      "source": [
        "print(\"Size of Test set:\", len(filtered_texts_list_testing))\n",
        "print(\"Size of Trainset:\", len(filtered_texts_list_training))"
      ],
      "metadata": {
        "id": "DU6-45koKZyz",
        "colab": {
          "base_uri": "https://localhost:8080/"
        },
        "outputId": "15646181-1ec8-4342-ec8a-c1ace63c4e5c"
      },
      "execution_count": 22,
      "outputs": [
        {
          "output_type": "stream",
          "name": "stdout",
          "text": [
            "Size of Test set: 64\n",
            "Size of Trainset: 34\n"
          ]
        }
      ]
    },
    {
      "cell_type": "markdown",
      "source": [
        "## Generate Dataset\n",
        "\n",
        "######  # GenerateDataset(TfidfVectorizer(ngram_range=(1,3), use_idf=True)),\n",
        "\n",
        "### Imports"
      ],
      "metadata": {
        "id": "bcjZdsU316sG"
      }
    },
    {
      "cell_type": "code",
      "source": [
        "from sklearn.feature_extraction.text import TfidfVectorizer"
      ],
      "metadata": {
        "id": "_t3uc4rJNgxx"
      },
      "execution_count": 23,
      "outputs": []
    },
    {
      "cell_type": "code",
      "source": [
        "class GenerateDataset:\n",
        "    def __init__ (self, vectorizer=TfidfVectorizer()):\n",
        "        self._vectorizer = vectorizer\n",
        "\n",
        "datasetGenerator = GenerateDataset(TfidfVectorizer(ngram_range=(1,3), use_idf=True))"
      ],
      "metadata": {
        "id": "IIjRjG9g1_Xl"
      },
      "execution_count": 24,
      "outputs": []
    },
    {
      "cell_type": "code",
      "source": [
        "def generate_dataset(filtered_text_list):\n",
        "    texts = [ text_data['content'] for text_data in filtered_text_list ]\n",
        "\n",
        "    # Category: 1 == 'selecionado' | 0 == 'removido'\n",
        "    categories = [ 1 if text_data['category'] == 'selecionado' else 0 for text_data in filtered_text_list ]\n",
        "    years = [ text_data['year'] for text_data in filtered_text_list ]\n",
        "    features = datasetGenerator._vectorizer.fit_transform(texts)\n",
        "\n",
        "    dataset = {\n",
        "        'texts': texts,\n",
        "        'features': features,\n",
        "        'categories': np.array(categories),\n",
        "        'years': years\n",
        "    }\n",
        "\n",
        "    print(dataset['features'].shape)\n",
        "    return dataset\n"
      ],
      "metadata": {
        "id": "sXJqkz2x9OO4"
      },
      "execution_count": 25,
      "outputs": []
    },
    {
      "cell_type": "code",
      "source": [
        "## 2) Calling method two times for each list (test | train)\n",
        "dataset_training = generate_dataset(filtered_texts_list_training)\n",
        "dataset_testing = generate_dataset(filtered_texts_list_testing)"
      ],
      "metadata": {
        "id": "cx8Li2cKa1IA",
        "colab": {
          "base_uri": "https://localhost:8080/"
        },
        "outputId": "4e4892d9-2e1c-4083-dd39-b04e3fa67304"
      },
      "execution_count": 26,
      "outputs": [
        {
          "output_type": "stream",
          "name": "stdout",
          "text": [
            "(34, 534)\n",
            "(64, 1063)\n"
          ]
        }
      ]
    },
    {
      "cell_type": "code",
      "source": [
        "print(dataset_testing['features'].max) "
      ],
      "metadata": {
        "id": "8xU_B1rUOZQf",
        "colab": {
          "base_uri": "https://localhost:8080/"
        },
        "outputId": "ce299bcd-2cc0-4f89-b0e5-e79f9fb0d1c3"
      },
      "execution_count": 27,
      "outputs": [
        {
          "output_type": "stream",
          "name": "stdout",
          "text": [
            "<bound method _minmax_mixin.max of <64x1063 sparse matrix of type '<class 'numpy.float64'>'\n",
            "\twith 1480 stored elements in Compressed Sparse Row format>>\n"
          ]
        }
      ]
    },
    {
      "cell_type": "markdown",
      "source": [
        "# Uses Feature Selection"
      ],
      "metadata": {
        "id": "4msLIgZg1-aj"
      }
    },
    {
      "cell_type": "code",
      "source": [
        "from sklearn.model_selection import StratifiedKFold\n",
        "from sklearn.feature_selection import RFECV, VarianceThreshold, SelectKBest, chi2"
      ],
      "metadata": {
        "id": "oMp9FsJUIXhi"
      },
      "execution_count": 28,
      "outputs": []
    },
    {
      "cell_type": "code",
      "source": [
        "class USESFeatureSelection:\n",
        "    def __init__ (self, k=-1):\n",
        "        assert k > 0\n",
        "        self._k = k\n",
        "        self._affinity_score = []\n",
        "\n",
        "    def _affinity (self, word_frequency_column, categories, category):\n",
        "        ncw = 0\n",
        "        nc = 0\n",
        "        nw = 0\n",
        "        for i in range(0, len(categories)):\n",
        "            if categories[i] == category: nc += 1\n",
        "            if word_frequency_column[i] > 0: nw += 1\n",
        "            if categories[i] == category and word_frequency_column[i] > 0: ncw += 1\n",
        "        return ncw / (nc + nw - ncw)\n",
        "\n",
        "\n",
        "    def _score (self, features, categories):\n",
        "        n_words = features.shape[1]\n",
        "        self._affinity_score = [\n",
        "            self._affinity(features[:,i], categories, 1) -\n",
        "            self._affinity(features[:,i], categories, 0)\n",
        "            for i in range(0, n_words) ]\n",
        "        return (self._affinity_score, [])\n",
        "\n",
        "    def execute(self, dt):\n",
        "        print('===== Feature selection - USES =====')\n",
        "        X = dt['features']\n",
        "        y = dt['categories']\n",
        "        fs = SelectKBest(self._score, k=self._k)\n",
        "        dt['features'] = fs.fit_transform(X, y)\n",
        "        print(dt['features'].shape)\n",
        "        return dt\n"
      ],
      "metadata": {
        "id": "WxemBTP3GWER"
      },
      "execution_count": 29,
      "outputs": []
    },
    {
      "cell_type": "markdown",
      "source": [
        "# Set number of K features at the begining of the file"
      ],
      "metadata": {
        "id": "i8UwHX8L_5YA"
      }
    },
    {
      "cell_type": "code",
      "source": [
        "# Initialize Feature Selection Class\n",
        "featureSelection = USESFeatureSelection(k=k_fs)"
      ],
      "metadata": {
        "id": "CvzfMtq2_psP"
      },
      "execution_count": 30,
      "outputs": []
    },
    {
      "cell_type": "code",
      "source": [
        "# Feature Selection for training\n",
        "dataset_training_kN_fs = featureSelection.execute(dataset_training)"
      ],
      "metadata": {
        "colab": {
          "base_uri": "https://localhost:8080/"
        },
        "outputId": "ddb4f370-89e5-4821-a4c5-f2dae11f489d",
        "id": "sbwYjSfY_psQ"
      },
      "execution_count": 31,
      "outputs": [
        {
          "output_type": "stream",
          "name": "stdout",
          "text": [
            "===== Feature selection - USES =====\n",
            "(34, 100)\n"
          ]
        }
      ]
    },
    {
      "cell_type": "code",
      "source": [
        "# Feature Selection for testing\n",
        "dataset_testing_kN_fs = featureSelection.execute(dataset_testing)"
      ],
      "metadata": {
        "colab": {
          "base_uri": "https://localhost:8080/"
        },
        "outputId": "2d66b7b2-5772-47ef-9a3b-d09ebb20a1ee",
        "id": "Z80iblDT_psQ"
      },
      "execution_count": 32,
      "outputs": [
        {
          "output_type": "stream",
          "name": "stdout",
          "text": [
            "===== Feature selection - USES =====\n",
            "(64, 100)\n"
          ]
        }
      ]
    },
    {
      "cell_type": "code",
      "source": [],
      "metadata": {
        "id": "xSaI4bxTBzq8"
      },
      "execution_count": 32,
      "outputs": []
    },
    {
      "cell_type": "markdown",
      "source": [
        "### K-Fold Split"
      ],
      "metadata": {
        "id": "ecZxQF8BJM5G"
      }
    },
    {
      "cell_type": "code",
      "source": [
        "import random\n",
        "from keras import layers\n",
        "from keras.models import Sequential\n",
        "from keras.wrappers.scikit_learn import KerasClassifier\n",
        "\n",
        "from sklearn import tree, metrics, svm, naive_bayes, ensemble, linear_model, neural_network\n",
        "from sklearn.model_selection import cross_validate, TimeSeriesSplit, GridSearchCV, train_test_split"
      ],
      "metadata": {
        "id": "er7QOi_kJiiP"
      },
      "execution_count": 33,
      "outputs": []
    },
    {
      "cell_type": "markdown",
      "source": [
        "#### Define K-Fold split method"
      ],
      "metadata": {
        "id": "IIAIuEasWGIa"
      }
    },
    {
      "cell_type": "code",
      "source": [
        "class YearsSplit:\n",
        "    def __init__ (self, n_splits=4, years=[]):\n",
        "        self._n_splits = n_splits\n",
        "        self._years = years\n",
        "        self._test_indexes = []\n",
        "        current = max(years)\n",
        "        for i in range(n_splits):\n",
        "            test_index = years.index(current)\n",
        "            if len(years[test_index:]) < 5:\n",
        "                current = max(years[:test_index])\n",
        "                test_index = years.index(current)\n",
        "\n",
        "            self._test_indexes.append(test_index)\n",
        "            current = max(years[:test_index])\n",
        "\n",
        "    def split (self, X, y, groups=None):\n",
        "        previous = len(self._years)\n",
        "        for test_index in self._test_indexes:\n",
        "            train = [ i for i in range(test_index) ]\n",
        "            test = [ i for i in range(test_index, previous) ]\n",
        "            previous = test_index\n",
        "            yield train, test\n"
      ],
      "metadata": {
        "id": "uTvdqzCCJMQ5"
      },
      "execution_count": 34,
      "outputs": []
    },
    {
      "cell_type": "markdown",
      "source": [
        "### Define simple classifier (SVM and DT)"
      ],
      "metadata": {
        "id": "oVxna1YrWKda"
      }
    },
    {
      "cell_type": "code",
      "source": [
        "class SimpleClassifier:\n",
        "    def __init__ (self, seed, n_splits=5):\n",
        "        self._seed = seed\n",
        "        self._n_splits = n_splits\n",
        "\n",
        "    def execute (self, dataset_train, dataset_test):\n",
        "        print(\"Executing...\")\n",
        "        X = dataset_train['features']\n",
        "        y = dataset_train['categories']   \n",
        "        \n",
        "        groups = dataset_train['years']\n",
        "        random.seed(self._seed)\n",
        "\n",
        "        kfold = YearsSplit(n_splits=self._n_splits, years=groups)                 \n",
        "        model = self.get_classifier(X, y)   # Pega modelo de classifier \n",
        "\n",
        "        scores = cross_validate(model, X, y, cv=kfold, scoring=['f1_macro', 'precision_macro', 'recall_macro'])\n",
        "        print(\"OUR APPROACH F-measure: %s on average and %s SD\" %\n",
        "                (scores['test_f1_macro'].mean(), scores['test_f1_macro'].std()))\n",
        "        print(\"OUR APPROACH Precision: %s on average and %s SD\" %\n",
        "                (scores['test_precision_macro'].mean(), scores['test_precision_macro'].std()))\n",
        "        print(\"OUR APPROACH Recall: %s on average and %s SD\" %\n",
        "                (scores['test_recall_macro'].mean(), scores['test_recall_macro'].std()))\n",
        "\n",
        "        X_train = dataset_train['features']\n",
        "        y_train = dataset_train['categories']\n",
        "        X_test = dataset_test['features']\n",
        "        y_test = dataset_test['categories']\n",
        "\n",
        "        model.fit(X_train, y_train)\n",
        "        y_pred = model.predict(X_test) \n",
        "        \n",
        "        return y_pred"
      ],
      "metadata": {
        "id": "0qcsfGEkJr6R"
      },
      "execution_count": 35,
      "outputs": []
    },
    {
      "cell_type": "markdown",
      "source": [
        "#### Extend Classifiers "
      ],
      "metadata": {
        "id": "6qBlZrewvFCE"
      }
    },
    {
      "cell_type": "code",
      "source": [
        "class DecisionTreeClassifier (SimpleClassifier):\n",
        "    def __init__ (self, seed=42, criterion='entropy', n_splits=5):\n",
        "        SimpleClassifier.__init__(self, seed, n_splits)\n",
        "        self.classifier_name = 'decision_tree'\n",
        "        self._criterion = criterion\n",
        "\n",
        "    def get_classifier (self, X, y):\n",
        "        print('===== Decision Tree Classifier =====')\n",
        "        print('===== Hyperparameter tunning  =====')\n",
        "        model = tree.DecisionTreeClassifier()\n",
        "        params = {\n",
        "            'criterion': [\"gini\", \"entropy\"],\n",
        "            'max_depth': [10, 50, 100, None],\n",
        "            'min_samples_split': [2, 10, 100],\n",
        "            'class_weight': [None, 'balanced']\n",
        "        }\n",
        "        cfl = GridSearchCV(model, params, cv=5, scoring='recall')\n",
        "        cfl.fit(X, y)\n",
        "        for param, value in cfl.best_params_.items():\n",
        "            print(\"%s : %s\" % (param, value))\n",
        "\n",
        "        model = tree.DecisionTreeClassifier(random_state=self._seed)\n",
        "        model.set_params(**cfl.best_params_)\n",
        "        return model\n",
        "\n",
        "\n",
        "class SVMClassifier (SimpleClassifier):\n",
        "    def __init__ (self, seed, n_splits=5):\n",
        "        SimpleClassifier.__init__(self, seed, n_splits=n_splits)\n",
        "        self.classifier_name = 'svm'\n",
        "\n",
        "    def get_classifier (self, X, y):\n",
        "        print('===== SVM Classifier =====')\n",
        "        print('===== Hyperparameter tunning  =====')\n",
        "        params = {\n",
        "            #'kernel': ['linear', 'rbf', 'poly', 'sigmoid'],\n",
        "            'kernel': ['linear', 'rbf'],\n",
        "            'C': [1, 10, 100],\n",
        "            #'degree': [1, 2, 3],\n",
        "            #'coef0': [0, 10, 100],\n",
        "            'tol': [0.001, 0.1, 1],\n",
        "            'class_weight': ['balanced', None]\n",
        "        }\n",
        "        model = svm.SVC(random_state=self._seed, probability=True)\n",
        "        cfl = GridSearchCV(model, params, cv=5, scoring='accuracy')\n",
        "        cfl.fit(X, y)\n",
        "        for param, value in cfl.best_params_.items():\n",
        "            print(\"%s : %s\" % (param, value))\n",
        "\n",
        "        model = svm.SVC(random_state=self._seed, probability=True)\n",
        "        model.set_params(**cfl.best_params_)\n",
        "        return model\n"
      ],
      "metadata": {
        "id": "qdbscTJNKMvp"
      },
      "execution_count": 36,
      "outputs": []
    },
    {
      "cell_type": "code",
      "source": [],
      "metadata": {
        "id": "6lW6EpRtvLpQ"
      },
      "execution_count": 36,
      "outputs": []
    },
    {
      "cell_type": "markdown",
      "source": [
        "### Define fixed seed (42) and number of splits to initialize Classifiers"
      ],
      "metadata": {
        "id": "KONoJPqOWPaK"
      }
    },
    {
      "cell_type": "code",
      "source": [
        "n_splits = 3\n",
        "\n",
        "dt_classifier = DecisionTreeClassifier(seed=42, criterion='gini', n_splits=n_splits)\n",
        "svm_classifier = SVMClassifier(42, n_splits=n_splits)"
      ],
      "metadata": {
        "id": "2wO6Wcl3KSZU"
      },
      "execution_count": 37,
      "outputs": []
    },
    {
      "cell_type": "markdown",
      "source": [
        "## Execute classifier for specific kN features\n"
      ],
      "metadata": {
        "id": "2wsl0bK0Whd6"
      }
    },
    {
      "cell_type": "markdown",
      "source": [
        "## Execute and store results in 'dataset_scores' dict"
      ],
      "metadata": {
        "id": "9pAn4HlseNuL"
      }
    },
    {
      "cell_type": "code",
      "source": [
        "dataset_scores = dict()"
      ],
      "metadata": {
        "id": "7tJjdmk_dUFX"
      },
      "execution_count": 38,
      "outputs": []
    },
    {
      "cell_type": "markdown",
      "source": [
        "#### DT classifier"
      ],
      "metadata": {
        "id": "NGUtdpaoe2dd"
      }
    },
    {
      "cell_type": "code",
      "source": [
        "# Execute DT classifier\n",
        "dt_y_pred_kN = dt_classifier.execute(dataset_training_kN_fs, dataset_testing_kN_fs)"
      ],
      "metadata": {
        "colab": {
          "base_uri": "https://localhost:8080/"
        },
        "id": "a_nY8O5JE8QC",
        "outputId": "aaa58edd-e9cd-42f1-d037-fe78132ca34c"
      },
      "execution_count": 39,
      "outputs": [
        {
          "output_type": "stream",
          "name": "stdout",
          "text": [
            "Executing...\n",
            "===== Decision Tree Classifier =====\n",
            "===== Hyperparameter tunning  =====\n",
            "class_weight : None\n",
            "criterion : gini\n",
            "max_depth : None\n",
            "min_samples_split : 10\n",
            "OUR APPROACH F-measure: 0.35000000000000003 on average and 0.08923543557893895 SD\n",
            "OUR APPROACH Precision: 0.3888888888888889 on average and 0.23516718079411197 SD\n",
            "OUR APPROACH Recall: 0.5 on average and 0.08164965809277258 SD\n"
          ]
        },
        {
          "output_type": "stream",
          "name": "stderr",
          "text": [
            "/usr/local/lib/python3.8/dist-packages/sklearn/metrics/_classification.py:1318: UndefinedMetricWarning: Precision is ill-defined and being set to 0.0 in labels with no predicted samples. Use `zero_division` parameter to control this behavior.\n",
            "  _warn_prf(average, modifier, msg_start, len(result))\n"
          ]
        }
      ]
    },
    {
      "cell_type": "markdown",
      "source": [
        "#### SVM classifier"
      ],
      "metadata": {
        "id": "KW4GRD8Ve6s_"
      }
    },
    {
      "cell_type": "code",
      "source": [
        "# Execute SVM classifier\n",
        "svm_y_pred_kN = svm_classifier.execute(dataset_training_kN_fs, dataset_testing_kN_fs)"
      ],
      "metadata": {
        "id": "pvOwE6vsdT_9",
        "colab": {
          "base_uri": "https://localhost:8080/"
        },
        "outputId": "2eced52d-3da8-4c73-ac60-c887841a91c9"
      },
      "execution_count": 40,
      "outputs": [
        {
          "output_type": "stream",
          "name": "stdout",
          "text": [
            "Executing...\n",
            "===== SVM Classifier =====\n",
            "===== Hyperparameter tunning  =====\n",
            "C : 1\n",
            "class_weight : balanced\n",
            "kernel : rbf\n",
            "tol : 0.001\n",
            "OUR APPROACH F-measure: 0.9576719576719577 on average and 0.05986089152901989 SD\n",
            "OUR APPROACH Precision: 0.9583333333333334 on average and 0.05892556509887896 SD\n",
            "OUR APPROACH Recall: 0.9666666666666667 on average and 0.04714045207910316 SD\n"
          ]
        }
      ]
    },
    {
      "cell_type": "markdown",
      "source": [
        "### Compare results:"
      ],
      "metadata": {
        "id": "7xPe0i_IrdLe"
      }
    },
    {
      "cell_type": "code",
      "source": [
        "# DataFrame antes do FeatureSelection\n",
        "df_training1 = pd.DataFrame.from_dict(filtered_texts_list_training)\n",
        "df_testing1 = pd.DataFrame.from_dict(filtered_texts_list_testing)\n",
        "\n",
        "df_training1.head(10) # Exemplo do estado do dataframe"
      ],
      "metadata": {
        "colab": {
          "base_uri": "https://localhost:8080/",
          "height": 363
        },
        "id": "8fAeFKV9m6_B",
        "outputId": "2c26369c-cc07-471c-a8f4-cc1d7a864ff6"
      },
      "execution_count": 41,
      "outputs": [
        {
          "output_type": "execute_result",
          "data": {
            "text/plain": [
              "                                             content     category  year\n",
              "0  evolution information technology : implication...     removido  1989\n",
              "1             partnership software industry academia     removido  2003\n",
              "2  guide project management body knowledge ( pmbo...     removido  2004\n",
              "3        design science information systems research     removido  2004\n",
              "4                 model technology transfer practice  selecionado  2006\n",
              "5                    sustainable technology transfer  selecionado  2006\n",
              "6  action research path solid research culture is...  selecionado  2007\n",
              "7  continuing professional development practition...     removido  2007\n",
              "8  factors influencing industrial practices softw...     removido  2007\n",
              "9  3-step knowledge transition : case study archi...  selecionado  2008"
            ],
            "text/html": [
              "\n",
              "  <div id=\"df-974139ab-37d2-461a-be70-04596648db6f\">\n",
              "    <div class=\"colab-df-container\">\n",
              "      <div>\n",
              "<style scoped>\n",
              "    .dataframe tbody tr th:only-of-type {\n",
              "        vertical-align: middle;\n",
              "    }\n",
              "\n",
              "    .dataframe tbody tr th {\n",
              "        vertical-align: top;\n",
              "    }\n",
              "\n",
              "    .dataframe thead th {\n",
              "        text-align: right;\n",
              "    }\n",
              "</style>\n",
              "<table border=\"1\" class=\"dataframe\">\n",
              "  <thead>\n",
              "    <tr style=\"text-align: right;\">\n",
              "      <th></th>\n",
              "      <th>content</th>\n",
              "      <th>category</th>\n",
              "      <th>year</th>\n",
              "    </tr>\n",
              "  </thead>\n",
              "  <tbody>\n",
              "    <tr>\n",
              "      <th>0</th>\n",
              "      <td>evolution information technology : implication...</td>\n",
              "      <td>removido</td>\n",
              "      <td>1989</td>\n",
              "    </tr>\n",
              "    <tr>\n",
              "      <th>1</th>\n",
              "      <td>partnership software industry academia</td>\n",
              "      <td>removido</td>\n",
              "      <td>2003</td>\n",
              "    </tr>\n",
              "    <tr>\n",
              "      <th>2</th>\n",
              "      <td>guide project management body knowledge ( pmbo...</td>\n",
              "      <td>removido</td>\n",
              "      <td>2004</td>\n",
              "    </tr>\n",
              "    <tr>\n",
              "      <th>3</th>\n",
              "      <td>design science information systems research</td>\n",
              "      <td>removido</td>\n",
              "      <td>2004</td>\n",
              "    </tr>\n",
              "    <tr>\n",
              "      <th>4</th>\n",
              "      <td>model technology transfer practice</td>\n",
              "      <td>selecionado</td>\n",
              "      <td>2006</td>\n",
              "    </tr>\n",
              "    <tr>\n",
              "      <th>5</th>\n",
              "      <td>sustainable technology transfer</td>\n",
              "      <td>selecionado</td>\n",
              "      <td>2006</td>\n",
              "    </tr>\n",
              "    <tr>\n",
              "      <th>6</th>\n",
              "      <td>action research path solid research culture is...</td>\n",
              "      <td>selecionado</td>\n",
              "      <td>2007</td>\n",
              "    </tr>\n",
              "    <tr>\n",
              "      <th>7</th>\n",
              "      <td>continuing professional development practition...</td>\n",
              "      <td>removido</td>\n",
              "      <td>2007</td>\n",
              "    </tr>\n",
              "    <tr>\n",
              "      <th>8</th>\n",
              "      <td>factors influencing industrial practices softw...</td>\n",
              "      <td>removido</td>\n",
              "      <td>2007</td>\n",
              "    </tr>\n",
              "    <tr>\n",
              "      <th>9</th>\n",
              "      <td>3-step knowledge transition : case study archi...</td>\n",
              "      <td>selecionado</td>\n",
              "      <td>2008</td>\n",
              "    </tr>\n",
              "  </tbody>\n",
              "</table>\n",
              "</div>\n",
              "      <button class=\"colab-df-convert\" onclick=\"convertToInteractive('df-974139ab-37d2-461a-be70-04596648db6f')\"\n",
              "              title=\"Convert this dataframe to an interactive table.\"\n",
              "              style=\"display:none;\">\n",
              "        \n",
              "  <svg xmlns=\"http://www.w3.org/2000/svg\" height=\"24px\"viewBox=\"0 0 24 24\"\n",
              "       width=\"24px\">\n",
              "    <path d=\"M0 0h24v24H0V0z\" fill=\"none\"/>\n",
              "    <path d=\"M18.56 5.44l.94 2.06.94-2.06 2.06-.94-2.06-.94-.94-2.06-.94 2.06-2.06.94zm-11 1L8.5 8.5l.94-2.06 2.06-.94-2.06-.94L8.5 2.5l-.94 2.06-2.06.94zm10 10l.94 2.06.94-2.06 2.06-.94-2.06-.94-.94-2.06-.94 2.06-2.06.94z\"/><path d=\"M17.41 7.96l-1.37-1.37c-.4-.4-.92-.59-1.43-.59-.52 0-1.04.2-1.43.59L10.3 9.45l-7.72 7.72c-.78.78-.78 2.05 0 2.83L4 21.41c.39.39.9.59 1.41.59.51 0 1.02-.2 1.41-.59l7.78-7.78 2.81-2.81c.8-.78.8-2.07 0-2.86zM5.41 20L4 18.59l7.72-7.72 1.47 1.35L5.41 20z\"/>\n",
              "  </svg>\n",
              "      </button>\n",
              "      \n",
              "  <style>\n",
              "    .colab-df-container {\n",
              "      display:flex;\n",
              "      flex-wrap:wrap;\n",
              "      gap: 12px;\n",
              "    }\n",
              "\n",
              "    .colab-df-convert {\n",
              "      background-color: #E8F0FE;\n",
              "      border: none;\n",
              "      border-radius: 50%;\n",
              "      cursor: pointer;\n",
              "      display: none;\n",
              "      fill: #1967D2;\n",
              "      height: 32px;\n",
              "      padding: 0 0 0 0;\n",
              "      width: 32px;\n",
              "    }\n",
              "\n",
              "    .colab-df-convert:hover {\n",
              "      background-color: #E2EBFA;\n",
              "      box-shadow: 0px 1px 2px rgba(60, 64, 67, 0.3), 0px 1px 3px 1px rgba(60, 64, 67, 0.15);\n",
              "      fill: #174EA6;\n",
              "    }\n",
              "\n",
              "    [theme=dark] .colab-df-convert {\n",
              "      background-color: #3B4455;\n",
              "      fill: #D2E3FC;\n",
              "    }\n",
              "\n",
              "    [theme=dark] .colab-df-convert:hover {\n",
              "      background-color: #434B5C;\n",
              "      box-shadow: 0px 1px 3px 1px rgba(0, 0, 0, 0.15);\n",
              "      filter: drop-shadow(0px 1px 2px rgba(0, 0, 0, 0.3));\n",
              "      fill: #FFFFFF;\n",
              "    }\n",
              "  </style>\n",
              "\n",
              "      <script>\n",
              "        const buttonEl =\n",
              "          document.querySelector('#df-974139ab-37d2-461a-be70-04596648db6f button.colab-df-convert');\n",
              "        buttonEl.style.display =\n",
              "          google.colab.kernel.accessAllowed ? 'block' : 'none';\n",
              "\n",
              "        async function convertToInteractive(key) {\n",
              "          const element = document.querySelector('#df-974139ab-37d2-461a-be70-04596648db6f');\n",
              "          const dataTable =\n",
              "            await google.colab.kernel.invokeFunction('convertToInteractive',\n",
              "                                                     [key], {});\n",
              "          if (!dataTable) return;\n",
              "\n",
              "          const docLinkHtml = 'Like what you see? Visit the ' +\n",
              "            '<a target=\"_blank\" href=https://colab.research.google.com/notebooks/data_table.ipynb>data table notebook</a>'\n",
              "            + ' to learn more about interactive tables.';\n",
              "          element.innerHTML = '';\n",
              "          dataTable['output_type'] = 'display_data';\n",
              "          await google.colab.output.renderOutput(dataTable, element);\n",
              "          const docLink = document.createElement('div');\n",
              "          docLink.innerHTML = docLinkHtml;\n",
              "          element.appendChild(docLink);\n",
              "        }\n",
              "      </script>\n",
              "    </div>\n",
              "  </div>\n",
              "  "
            ]
          },
          "metadata": {},
          "execution_count": 41
        }
      ]
    },
    {
      "cell_type": "code",
      "source": [
        "# DataFrame após resultado do FeatureSelection\n",
        "df_training2 = pd.DataFrame.from_dict(dataset_training_kN_fs)\n",
        "df_testing2 = pd.DataFrame.from_dict(dataset_testing_kN_fs)\n",
        "\n",
        "df_training2.head(10) # Exemplo do estado do dataframe"
      ],
      "metadata": {
        "colab": {
          "base_uri": "https://localhost:8080/",
          "height": 363
        },
        "id": "Dko53WSOm67T",
        "outputId": "5312a8ef-1c03-4cd6-c6c3-c6871ae7a4b5"
      },
      "execution_count": 42,
      "outputs": [
        {
          "output_type": "execute_result",
          "data": {
            "text/plain": [
              "                                               texts  \\\n",
              "0  evolution information technology : implication...   \n",
              "1             partnership software industry academia   \n",
              "2  guide project management body knowledge ( pmbo...   \n",
              "3        design science information systems research   \n",
              "4                 model technology transfer practice   \n",
              "5                    sustainable technology transfer   \n",
              "6  action research path solid research culture is...   \n",
              "7  continuing professional development practition...   \n",
              "8  factors influencing industrial practices softw...   \n",
              "9  3-step knowledge transition : case study archi...   \n",
              "\n",
              "                                            features  categories  years  \n",
              "0                       (0, 72)\\t0.21273963586201802           0   1989  \n",
              "1    (0, 0)\\t0.2916151356420139\\n  (0, 14)\\t0.223...           0   2003  \n",
              "2                                                              0   2004  \n",
              "3                        (0, 18)\\t0.1549163429457114           0   2004  \n",
              "4    (0, 17)\\t0.3030104455684067\\n  (0, 72)\\t0.26...           1   2006  \n",
              "5    (0, 67)\\t0.45367693930992475\\n  (0, 68)\\t0.4...           1   2006  \n",
              "6    (0, 2)\\t0.15159151874347532\\n  (0, 3)\\t0.163...           1   2007  \n",
              "7                                                              0   2007  \n",
              "8    (0, 4)\\t0.15607134211286572\\n  (0, 11)\\t0.15...           0   2007  \n",
              "9    (0, 4)\\t0.17976818502746583\\n  (0, 5)\\t0.206...           1   2008  "
            ],
            "text/html": [
              "\n",
              "  <div id=\"df-deee753e-d710-4b07-8535-515da5665c3c\">\n",
              "    <div class=\"colab-df-container\">\n",
              "      <div>\n",
              "<style scoped>\n",
              "    .dataframe tbody tr th:only-of-type {\n",
              "        vertical-align: middle;\n",
              "    }\n",
              "\n",
              "    .dataframe tbody tr th {\n",
              "        vertical-align: top;\n",
              "    }\n",
              "\n",
              "    .dataframe thead th {\n",
              "        text-align: right;\n",
              "    }\n",
              "</style>\n",
              "<table border=\"1\" class=\"dataframe\">\n",
              "  <thead>\n",
              "    <tr style=\"text-align: right;\">\n",
              "      <th></th>\n",
              "      <th>texts</th>\n",
              "      <th>features</th>\n",
              "      <th>categories</th>\n",
              "      <th>years</th>\n",
              "    </tr>\n",
              "  </thead>\n",
              "  <tbody>\n",
              "    <tr>\n",
              "      <th>0</th>\n",
              "      <td>evolution information technology : implication...</td>\n",
              "      <td>(0, 72)\\t0.21273963586201802</td>\n",
              "      <td>0</td>\n",
              "      <td>1989</td>\n",
              "    </tr>\n",
              "    <tr>\n",
              "      <th>1</th>\n",
              "      <td>partnership software industry academia</td>\n",
              "      <td>(0, 0)\\t0.2916151356420139\\n  (0, 14)\\t0.223...</td>\n",
              "      <td>0</td>\n",
              "      <td>2003</td>\n",
              "    </tr>\n",
              "    <tr>\n",
              "      <th>2</th>\n",
              "      <td>guide project management body knowledge ( pmbo...</td>\n",
              "      <td></td>\n",
              "      <td>0</td>\n",
              "      <td>2004</td>\n",
              "    </tr>\n",
              "    <tr>\n",
              "      <th>3</th>\n",
              "      <td>design science information systems research</td>\n",
              "      <td>(0, 18)\\t0.1549163429457114</td>\n",
              "      <td>0</td>\n",
              "      <td>2004</td>\n",
              "    </tr>\n",
              "    <tr>\n",
              "      <th>4</th>\n",
              "      <td>model technology transfer practice</td>\n",
              "      <td>(0, 17)\\t0.3030104455684067\\n  (0, 72)\\t0.26...</td>\n",
              "      <td>1</td>\n",
              "      <td>2006</td>\n",
              "    </tr>\n",
              "    <tr>\n",
              "      <th>5</th>\n",
              "      <td>sustainable technology transfer</td>\n",
              "      <td>(0, 67)\\t0.45367693930992475\\n  (0, 68)\\t0.4...</td>\n",
              "      <td>1</td>\n",
              "      <td>2006</td>\n",
              "    </tr>\n",
              "    <tr>\n",
              "      <th>6</th>\n",
              "      <td>action research path solid research culture is...</td>\n",
              "      <td>(0, 2)\\t0.15159151874347532\\n  (0, 3)\\t0.163...</td>\n",
              "      <td>1</td>\n",
              "      <td>2007</td>\n",
              "    </tr>\n",
              "    <tr>\n",
              "      <th>7</th>\n",
              "      <td>continuing professional development practition...</td>\n",
              "      <td></td>\n",
              "      <td>0</td>\n",
              "      <td>2007</td>\n",
              "    </tr>\n",
              "    <tr>\n",
              "      <th>8</th>\n",
              "      <td>factors influencing industrial practices softw...</td>\n",
              "      <td>(0, 4)\\t0.15607134211286572\\n  (0, 11)\\t0.15...</td>\n",
              "      <td>0</td>\n",
              "      <td>2007</td>\n",
              "    </tr>\n",
              "    <tr>\n",
              "      <th>9</th>\n",
              "      <td>3-step knowledge transition : case study archi...</td>\n",
              "      <td>(0, 4)\\t0.17976818502746583\\n  (0, 5)\\t0.206...</td>\n",
              "      <td>1</td>\n",
              "      <td>2008</td>\n",
              "    </tr>\n",
              "  </tbody>\n",
              "</table>\n",
              "</div>\n",
              "      <button class=\"colab-df-convert\" onclick=\"convertToInteractive('df-deee753e-d710-4b07-8535-515da5665c3c')\"\n",
              "              title=\"Convert this dataframe to an interactive table.\"\n",
              "              style=\"display:none;\">\n",
              "        \n",
              "  <svg xmlns=\"http://www.w3.org/2000/svg\" height=\"24px\"viewBox=\"0 0 24 24\"\n",
              "       width=\"24px\">\n",
              "    <path d=\"M0 0h24v24H0V0z\" fill=\"none\"/>\n",
              "    <path d=\"M18.56 5.44l.94 2.06.94-2.06 2.06-.94-2.06-.94-.94-2.06-.94 2.06-2.06.94zm-11 1L8.5 8.5l.94-2.06 2.06-.94-2.06-.94L8.5 2.5l-.94 2.06-2.06.94zm10 10l.94 2.06.94-2.06 2.06-.94-2.06-.94-.94-2.06-.94 2.06-2.06.94z\"/><path d=\"M17.41 7.96l-1.37-1.37c-.4-.4-.92-.59-1.43-.59-.52 0-1.04.2-1.43.59L10.3 9.45l-7.72 7.72c-.78.78-.78 2.05 0 2.83L4 21.41c.39.39.9.59 1.41.59.51 0 1.02-.2 1.41-.59l7.78-7.78 2.81-2.81c.8-.78.8-2.07 0-2.86zM5.41 20L4 18.59l7.72-7.72 1.47 1.35L5.41 20z\"/>\n",
              "  </svg>\n",
              "      </button>\n",
              "      \n",
              "  <style>\n",
              "    .colab-df-container {\n",
              "      display:flex;\n",
              "      flex-wrap:wrap;\n",
              "      gap: 12px;\n",
              "    }\n",
              "\n",
              "    .colab-df-convert {\n",
              "      background-color: #E8F0FE;\n",
              "      border: none;\n",
              "      border-radius: 50%;\n",
              "      cursor: pointer;\n",
              "      display: none;\n",
              "      fill: #1967D2;\n",
              "      height: 32px;\n",
              "      padding: 0 0 0 0;\n",
              "      width: 32px;\n",
              "    }\n",
              "\n",
              "    .colab-df-convert:hover {\n",
              "      background-color: #E2EBFA;\n",
              "      box-shadow: 0px 1px 2px rgba(60, 64, 67, 0.3), 0px 1px 3px 1px rgba(60, 64, 67, 0.15);\n",
              "      fill: #174EA6;\n",
              "    }\n",
              "\n",
              "    [theme=dark] .colab-df-convert {\n",
              "      background-color: #3B4455;\n",
              "      fill: #D2E3FC;\n",
              "    }\n",
              "\n",
              "    [theme=dark] .colab-df-convert:hover {\n",
              "      background-color: #434B5C;\n",
              "      box-shadow: 0px 1px 3px 1px rgba(0, 0, 0, 0.15);\n",
              "      filter: drop-shadow(0px 1px 2px rgba(0, 0, 0, 0.3));\n",
              "      fill: #FFFFFF;\n",
              "    }\n",
              "  </style>\n",
              "\n",
              "      <script>\n",
              "        const buttonEl =\n",
              "          document.querySelector('#df-deee753e-d710-4b07-8535-515da5665c3c button.colab-df-convert');\n",
              "        buttonEl.style.display =\n",
              "          google.colab.kernel.accessAllowed ? 'block' : 'none';\n",
              "\n",
              "        async function convertToInteractive(key) {\n",
              "          const element = document.querySelector('#df-deee753e-d710-4b07-8535-515da5665c3c');\n",
              "          const dataTable =\n",
              "            await google.colab.kernel.invokeFunction('convertToInteractive',\n",
              "                                                     [key], {});\n",
              "          if (!dataTable) return;\n",
              "\n",
              "          const docLinkHtml = 'Like what you see? Visit the ' +\n",
              "            '<a target=\"_blank\" href=https://colab.research.google.com/notebooks/data_table.ipynb>data table notebook</a>'\n",
              "            + ' to learn more about interactive tables.';\n",
              "          element.innerHTML = '';\n",
              "          dataTable['output_type'] = 'display_data';\n",
              "          await google.colab.output.renderOutput(dataTable, element);\n",
              "          const docLink = document.createElement('div');\n",
              "          docLink.innerHTML = docLinkHtml;\n",
              "          element.appendChild(docLink);\n",
              "        }\n",
              "      </script>\n",
              "    </div>\n",
              "  </div>\n",
              "  "
            ]
          },
          "metadata": {},
          "execution_count": 42
        }
      ]
    },
    {
      "cell_type": "code",
      "source": [
        "# DataFrames para analisar DT e SVM após execução \n",
        "from copy import deepcopy\n",
        "\n",
        "# DataFrame DT\n",
        "# dt_df_training = pd.DataFrame.from_dict(dataset_training_kN_fs)\n",
        "dt_df_testing = deepcopy(df_testing2)\n",
        "dt_df_testing['predicted'] = dt_y_pred_kN\n",
        "\n",
        "# DataFrame SVM\n",
        "# svm_df_training = pd.DataFrame.from_dict(dataset_training_kN_fs)\n",
        "svm_df_testing = deepcopy(df_testing2)\n",
        "svm_df_testing['predicted'] = svm_y_pred_kN\n"
      ],
      "metadata": {
        "id": "4iy1SyXxnrZn"
      },
      "execution_count": 43,
      "outputs": []
    },
    {
      "cell_type": "code",
      "source": [
        "df_testing = deepcopy(df_testing2)\n",
        "df_testing['DT_pred'] = dt_y_pred_kN\n",
        "df_testing['SVM_pred'] = svm_y_pred_kN\n"
      ],
      "metadata": {
        "id": "lxjp1O_Qxb8N"
      },
      "execution_count": 44,
      "outputs": []
    },
    {
      "cell_type": "markdown",
      "source": [
        "#### Decision Tree vs SVM"
      ],
      "metadata": {
        "id": "tPYEfq0mrm_3"
      }
    },
    {
      "cell_type": "code",
      "source": [
        "df_testing.head(20)"
      ],
      "metadata": {
        "colab": {
          "base_uri": "https://localhost:8080/",
          "height": 677
        },
        "outputId": "25833176-6b1c-4800-a6f1-45264d180a55",
        "id": "iNgrw1ScnrZn"
      },
      "execution_count": 45,
      "outputs": [
        {
          "output_type": "execute_result",
          "data": {
            "text/plain": [
              "                                                texts  \\\n",
              "0   planning unknown : lessons learned ten months ...   \n",
              "1   exploratory study technology transfer software...   \n",
              "2   fast feedback cycles empirical software engine...   \n",
              "3   integration se research industry : reflections...   \n",
              "4   researcher ’ experiences supporting industrial...   \n",
              "5   softcoder approach : promoting software engine...   \n",
              "6   research framework build spi proposal small or...   \n",
              "7   academic industrial software testing conferenc...   \n",
              "8   applying data analytics towards optimized issu...   \n",
              "9   meeting industry-academia research collaborati...   \n",
              "10  industry-academia collaborations software engi...   \n",
              "11  industry -- academia collaboration software te...   \n",
              "12  serp-test : taxonomy support industry -- acade...   \n",
              "13  model-based testing digital tvs : industry-as-...   \n",
              "14  structuring automotive product line feature mo...   \n",
              "15  case studies industry-academia research collab...   \n",
              "16  wide band patch antenna structures cognitive r...   \n",
              "17  concept analysis programming language research...   \n",
              "18  exploring interconnectivity risk management , ...   \n",
              "19           inventorying systems : action research .   \n",
              "\n",
              "                                             features  categories  years  \\\n",
              "0     (0, 21)\\t0.14958509341845988\\n  (0, 24)\\t0.0...           1   2015   \n",
              "1     (0, 17)\\t0.14232047367077214\\n  (0, 21)\\t0.2...           1   2015   \n",
              "2     (0, 13)\\t0.19531677287385588\\n  (0, 14)\\t0.2...           1   2015   \n",
              "3     (0, 24)\\t0.0934486830681684\\n  (0, 35)\\t0.09...           1   2015   \n",
              "4     (0, 23)\\t0.166421288531331\\n  (0, 38)\\t0.088...           1   2016   \n",
              "5     (0, 0)\\t0.0932000917621854\\n  (0, 17)\\t0.085...           1   2016   \n",
              "6                        (0, 35)\\t0.09027327981061076           1   2016   \n",
              "7     (0, 23)\\t0.17069480186168143\\n  (0, 38)\\t0.0...           0   2016   \n",
              "8                         (0, 23)\\t0.1362476225050109           0   2016   \n",
              "9     (0, 0)\\t0.12545450748786866\\n  (0, 4)\\t0.229...           1   2017   \n",
              "10    (0, 0)\\t0.08963012942684441\\n  (0, 5)\\t0.163...           1   2017   \n",
              "11    (0, 0)\\t0.11151179612439246\\n  (0, 1)\\t0.148...           1   2017   \n",
              "12    (0, 0)\\t0.13118237054669415\\n  (0, 3)\\t0.222...           1   2017   \n",
              "13    (0, 24)\\t0.08952160159982998\\n  (0, 77)\\t0.2...           1   2017   \n",
              "14                       (0, 21)\\t0.16877554754502608           0   2017   \n",
              "15    (0, 0)\\t0.11950713640089392\\n  (0, 24)\\t0.09...           0   2017   \n",
              "16                                                              0   2017   \n",
              "17                        (0, 35)\\t0.0958660112782843           0   2017   \n",
              "18                       (0, 35)\\t0.08165843280212062           0   2017   \n",
              "19                       (0, 35)\\t0.15913523609531297           0   2017   \n",
              "\n",
              "    DT_pred  SVM_pred  \n",
              "0         1         1  \n",
              "1         0         1  \n",
              "2         1         1  \n",
              "3         0         1  \n",
              "4         0         0  \n",
              "5         0         0  \n",
              "6         0         0  \n",
              "7         0         0  \n",
              "8         0         0  \n",
              "9         0         1  \n",
              "10        0         0  \n",
              "11        0         1  \n",
              "12        0         0  \n",
              "13        0         0  \n",
              "14        0         0  \n",
              "15        0         0  \n",
              "16        0         0  \n",
              "17        0         0  \n",
              "18        0         0  \n",
              "19        0         0  "
            ],
            "text/html": [
              "\n",
              "  <div id=\"df-8c31a3ae-89ed-40ea-a88d-09e9dcf43c0a\">\n",
              "    <div class=\"colab-df-container\">\n",
              "      <div>\n",
              "<style scoped>\n",
              "    .dataframe tbody tr th:only-of-type {\n",
              "        vertical-align: middle;\n",
              "    }\n",
              "\n",
              "    .dataframe tbody tr th {\n",
              "        vertical-align: top;\n",
              "    }\n",
              "\n",
              "    .dataframe thead th {\n",
              "        text-align: right;\n",
              "    }\n",
              "</style>\n",
              "<table border=\"1\" class=\"dataframe\">\n",
              "  <thead>\n",
              "    <tr style=\"text-align: right;\">\n",
              "      <th></th>\n",
              "      <th>texts</th>\n",
              "      <th>features</th>\n",
              "      <th>categories</th>\n",
              "      <th>years</th>\n",
              "      <th>DT_pred</th>\n",
              "      <th>SVM_pred</th>\n",
              "    </tr>\n",
              "  </thead>\n",
              "  <tbody>\n",
              "    <tr>\n",
              "      <th>0</th>\n",
              "      <td>planning unknown : lessons learned ten months ...</td>\n",
              "      <td>(0, 21)\\t0.14958509341845988\\n  (0, 24)\\t0.0...</td>\n",
              "      <td>1</td>\n",
              "      <td>2015</td>\n",
              "      <td>1</td>\n",
              "      <td>1</td>\n",
              "    </tr>\n",
              "    <tr>\n",
              "      <th>1</th>\n",
              "      <td>exploratory study technology transfer software...</td>\n",
              "      <td>(0, 17)\\t0.14232047367077214\\n  (0, 21)\\t0.2...</td>\n",
              "      <td>1</td>\n",
              "      <td>2015</td>\n",
              "      <td>0</td>\n",
              "      <td>1</td>\n",
              "    </tr>\n",
              "    <tr>\n",
              "      <th>2</th>\n",
              "      <td>fast feedback cycles empirical software engine...</td>\n",
              "      <td>(0, 13)\\t0.19531677287385588\\n  (0, 14)\\t0.2...</td>\n",
              "      <td>1</td>\n",
              "      <td>2015</td>\n",
              "      <td>1</td>\n",
              "      <td>1</td>\n",
              "    </tr>\n",
              "    <tr>\n",
              "      <th>3</th>\n",
              "      <td>integration se research industry : reflections...</td>\n",
              "      <td>(0, 24)\\t0.0934486830681684\\n  (0, 35)\\t0.09...</td>\n",
              "      <td>1</td>\n",
              "      <td>2015</td>\n",
              "      <td>0</td>\n",
              "      <td>1</td>\n",
              "    </tr>\n",
              "    <tr>\n",
              "      <th>4</th>\n",
              "      <td>researcher ’ experiences supporting industrial...</td>\n",
              "      <td>(0, 23)\\t0.166421288531331\\n  (0, 38)\\t0.088...</td>\n",
              "      <td>1</td>\n",
              "      <td>2016</td>\n",
              "      <td>0</td>\n",
              "      <td>0</td>\n",
              "    </tr>\n",
              "    <tr>\n",
              "      <th>5</th>\n",
              "      <td>softcoder approach : promoting software engine...</td>\n",
              "      <td>(0, 0)\\t0.0932000917621854\\n  (0, 17)\\t0.085...</td>\n",
              "      <td>1</td>\n",
              "      <td>2016</td>\n",
              "      <td>0</td>\n",
              "      <td>0</td>\n",
              "    </tr>\n",
              "    <tr>\n",
              "      <th>6</th>\n",
              "      <td>research framework build spi proposal small or...</td>\n",
              "      <td>(0, 35)\\t0.09027327981061076</td>\n",
              "      <td>1</td>\n",
              "      <td>2016</td>\n",
              "      <td>0</td>\n",
              "      <td>0</td>\n",
              "    </tr>\n",
              "    <tr>\n",
              "      <th>7</th>\n",
              "      <td>academic industrial software testing conferenc...</td>\n",
              "      <td>(0, 23)\\t0.17069480186168143\\n  (0, 38)\\t0.0...</td>\n",
              "      <td>0</td>\n",
              "      <td>2016</td>\n",
              "      <td>0</td>\n",
              "      <td>0</td>\n",
              "    </tr>\n",
              "    <tr>\n",
              "      <th>8</th>\n",
              "      <td>applying data analytics towards optimized issu...</td>\n",
              "      <td>(0, 23)\\t0.1362476225050109</td>\n",
              "      <td>0</td>\n",
              "      <td>2016</td>\n",
              "      <td>0</td>\n",
              "      <td>0</td>\n",
              "    </tr>\n",
              "    <tr>\n",
              "      <th>9</th>\n",
              "      <td>meeting industry-academia research collaborati...</td>\n",
              "      <td>(0, 0)\\t0.12545450748786866\\n  (0, 4)\\t0.229...</td>\n",
              "      <td>1</td>\n",
              "      <td>2017</td>\n",
              "      <td>0</td>\n",
              "      <td>1</td>\n",
              "    </tr>\n",
              "    <tr>\n",
              "      <th>10</th>\n",
              "      <td>industry-academia collaborations software engi...</td>\n",
              "      <td>(0, 0)\\t0.08963012942684441\\n  (0, 5)\\t0.163...</td>\n",
              "      <td>1</td>\n",
              "      <td>2017</td>\n",
              "      <td>0</td>\n",
              "      <td>0</td>\n",
              "    </tr>\n",
              "    <tr>\n",
              "      <th>11</th>\n",
              "      <td>industry -- academia collaboration software te...</td>\n",
              "      <td>(0, 0)\\t0.11151179612439246\\n  (0, 1)\\t0.148...</td>\n",
              "      <td>1</td>\n",
              "      <td>2017</td>\n",
              "      <td>0</td>\n",
              "      <td>1</td>\n",
              "    </tr>\n",
              "    <tr>\n",
              "      <th>12</th>\n",
              "      <td>serp-test : taxonomy support industry -- acade...</td>\n",
              "      <td>(0, 0)\\t0.13118237054669415\\n  (0, 3)\\t0.222...</td>\n",
              "      <td>1</td>\n",
              "      <td>2017</td>\n",
              "      <td>0</td>\n",
              "      <td>0</td>\n",
              "    </tr>\n",
              "    <tr>\n",
              "      <th>13</th>\n",
              "      <td>model-based testing digital tvs : industry-as-...</td>\n",
              "      <td>(0, 24)\\t0.08952160159982998\\n  (0, 77)\\t0.2...</td>\n",
              "      <td>1</td>\n",
              "      <td>2017</td>\n",
              "      <td>0</td>\n",
              "      <td>0</td>\n",
              "    </tr>\n",
              "    <tr>\n",
              "      <th>14</th>\n",
              "      <td>structuring automotive product line feature mo...</td>\n",
              "      <td>(0, 21)\\t0.16877554754502608</td>\n",
              "      <td>0</td>\n",
              "      <td>2017</td>\n",
              "      <td>0</td>\n",
              "      <td>0</td>\n",
              "    </tr>\n",
              "    <tr>\n",
              "      <th>15</th>\n",
              "      <td>case studies industry-academia research collab...</td>\n",
              "      <td>(0, 0)\\t0.11950713640089392\\n  (0, 24)\\t0.09...</td>\n",
              "      <td>0</td>\n",
              "      <td>2017</td>\n",
              "      <td>0</td>\n",
              "      <td>0</td>\n",
              "    </tr>\n",
              "    <tr>\n",
              "      <th>16</th>\n",
              "      <td>wide band patch antenna structures cognitive r...</td>\n",
              "      <td></td>\n",
              "      <td>0</td>\n",
              "      <td>2017</td>\n",
              "      <td>0</td>\n",
              "      <td>0</td>\n",
              "    </tr>\n",
              "    <tr>\n",
              "      <th>17</th>\n",
              "      <td>concept analysis programming language research...</td>\n",
              "      <td>(0, 35)\\t0.0958660112782843</td>\n",
              "      <td>0</td>\n",
              "      <td>2017</td>\n",
              "      <td>0</td>\n",
              "      <td>0</td>\n",
              "    </tr>\n",
              "    <tr>\n",
              "      <th>18</th>\n",
              "      <td>exploring interconnectivity risk management , ...</td>\n",
              "      <td>(0, 35)\\t0.08165843280212062</td>\n",
              "      <td>0</td>\n",
              "      <td>2017</td>\n",
              "      <td>0</td>\n",
              "      <td>0</td>\n",
              "    </tr>\n",
              "    <tr>\n",
              "      <th>19</th>\n",
              "      <td>inventorying systems : action research .</td>\n",
              "      <td>(0, 35)\\t0.15913523609531297</td>\n",
              "      <td>0</td>\n",
              "      <td>2017</td>\n",
              "      <td>0</td>\n",
              "      <td>0</td>\n",
              "    </tr>\n",
              "  </tbody>\n",
              "</table>\n",
              "</div>\n",
              "      <button class=\"colab-df-convert\" onclick=\"convertToInteractive('df-8c31a3ae-89ed-40ea-a88d-09e9dcf43c0a')\"\n",
              "              title=\"Convert this dataframe to an interactive table.\"\n",
              "              style=\"display:none;\">\n",
              "        \n",
              "  <svg xmlns=\"http://www.w3.org/2000/svg\" height=\"24px\"viewBox=\"0 0 24 24\"\n",
              "       width=\"24px\">\n",
              "    <path d=\"M0 0h24v24H0V0z\" fill=\"none\"/>\n",
              "    <path d=\"M18.56 5.44l.94 2.06.94-2.06 2.06-.94-2.06-.94-.94-2.06-.94 2.06-2.06.94zm-11 1L8.5 8.5l.94-2.06 2.06-.94-2.06-.94L8.5 2.5l-.94 2.06-2.06.94zm10 10l.94 2.06.94-2.06 2.06-.94-2.06-.94-.94-2.06-.94 2.06-2.06.94z\"/><path d=\"M17.41 7.96l-1.37-1.37c-.4-.4-.92-.59-1.43-.59-.52 0-1.04.2-1.43.59L10.3 9.45l-7.72 7.72c-.78.78-.78 2.05 0 2.83L4 21.41c.39.39.9.59 1.41.59.51 0 1.02-.2 1.41-.59l7.78-7.78 2.81-2.81c.8-.78.8-2.07 0-2.86zM5.41 20L4 18.59l7.72-7.72 1.47 1.35L5.41 20z\"/>\n",
              "  </svg>\n",
              "      </button>\n",
              "      \n",
              "  <style>\n",
              "    .colab-df-container {\n",
              "      display:flex;\n",
              "      flex-wrap:wrap;\n",
              "      gap: 12px;\n",
              "    }\n",
              "\n",
              "    .colab-df-convert {\n",
              "      background-color: #E8F0FE;\n",
              "      border: none;\n",
              "      border-radius: 50%;\n",
              "      cursor: pointer;\n",
              "      display: none;\n",
              "      fill: #1967D2;\n",
              "      height: 32px;\n",
              "      padding: 0 0 0 0;\n",
              "      width: 32px;\n",
              "    }\n",
              "\n",
              "    .colab-df-convert:hover {\n",
              "      background-color: #E2EBFA;\n",
              "      box-shadow: 0px 1px 2px rgba(60, 64, 67, 0.3), 0px 1px 3px 1px rgba(60, 64, 67, 0.15);\n",
              "      fill: #174EA6;\n",
              "    }\n",
              "\n",
              "    [theme=dark] .colab-df-convert {\n",
              "      background-color: #3B4455;\n",
              "      fill: #D2E3FC;\n",
              "    }\n",
              "\n",
              "    [theme=dark] .colab-df-convert:hover {\n",
              "      background-color: #434B5C;\n",
              "      box-shadow: 0px 1px 3px 1px rgba(0, 0, 0, 0.15);\n",
              "      filter: drop-shadow(0px 1px 2px rgba(0, 0, 0, 0.3));\n",
              "      fill: #FFFFFF;\n",
              "    }\n",
              "  </style>\n",
              "\n",
              "      <script>\n",
              "        const buttonEl =\n",
              "          document.querySelector('#df-8c31a3ae-89ed-40ea-a88d-09e9dcf43c0a button.colab-df-convert');\n",
              "        buttonEl.style.display =\n",
              "          google.colab.kernel.accessAllowed ? 'block' : 'none';\n",
              "\n",
              "        async function convertToInteractive(key) {\n",
              "          const element = document.querySelector('#df-8c31a3ae-89ed-40ea-a88d-09e9dcf43c0a');\n",
              "          const dataTable =\n",
              "            await google.colab.kernel.invokeFunction('convertToInteractive',\n",
              "                                                     [key], {});\n",
              "          if (!dataTable) return;\n",
              "\n",
              "          const docLinkHtml = 'Like what you see? Visit the ' +\n",
              "            '<a target=\"_blank\" href=https://colab.research.google.com/notebooks/data_table.ipynb>data table notebook</a>'\n",
              "            + ' to learn more about interactive tables.';\n",
              "          element.innerHTML = '';\n",
              "          dataTable['output_type'] = 'display_data';\n",
              "          await google.colab.output.renderOutput(dataTable, element);\n",
              "          const docLink = document.createElement('div');\n",
              "          docLink.innerHTML = docLinkHtml;\n",
              "          element.appendChild(docLink);\n",
              "        }\n",
              "      </script>\n",
              "    </div>\n",
              "  </div>\n",
              "  "
            ]
          },
          "metadata": {},
          "execution_count": 45
        }
      ]
    },
    {
      "cell_type": "code",
      "source": [
        "# 'SVM_pred' or 'DT_pred'\n",
        "def get_real_negatives(classifier_type: str):\n",
        "    return df_testing.loc[(df_testing['categories'] == 0) & (df_testing['categories'] == df_testing[classifier_type]), ['texts', 'categories', classifier_type]]\n",
        "\n",
        "def get_real_positives(classifier_type: str):\n",
        "    return df_testing.loc[(df_testing['categories'] == 1) & (df_testing['categories'] == df_testing[classifier_type]), ['texts', 'categories', classifier_type]]\n",
        "\n",
        "def get_false_negative(classifier_type: str):\n",
        "    return df_testing.loc[(df_testing['categories'] == 1) & (df_testing[classifier_type] == 0), ['texts', 'categories', classifier_type]]\n",
        "\n",
        "def get_false_positive(classifier_type: str):\n",
        "    return df_testing.loc[(df_testing['categories'] == 0) & (df_testing[classifier_type] == 1), ['texts', 'categories', classifier_type]] "
      ],
      "metadata": {
        "id": "DIezcgGH6uv5"
      },
      "execution_count": 46,
      "outputs": []
    },
    {
      "cell_type": "markdown",
      "source": [
        "#### DT analysis"
      ],
      "metadata": {
        "id": "O8z8teBz3cBj"
      }
    },
    {
      "cell_type": "code",
      "source": [
        "cls_type = 'DT_pred'\n",
        "df_dt_real_negatives = get_real_negatives(cls_type)\n",
        "df_dt_real_positives = get_real_positives(cls_type)\n",
        "df_dt_false_negative = get_false_negative(cls_type)\n",
        "df_dt_false_positive = get_false_positive(cls_type)"
      ],
      "metadata": {
        "id": "kn0bfCPW3ZAl"
      },
      "execution_count": 47,
      "outputs": []
    },
    {
      "cell_type": "code",
      "source": [
        "print(\"RN\",len(df_dt_real_negatives))\n",
        "print(\"RP\", len(df_dt_real_positives))\n",
        "print(\"FN\", len(df_dt_false_negative))\n",
        "print(\"FP\", len(df_dt_false_positive))"
      ],
      "metadata": {
        "colab": {
          "base_uri": "https://localhost:8080/"
        },
        "id": "4WNTICcH4PTB",
        "outputId": "b17bcacf-62a2-4659-e97b-1fb07535b574"
      },
      "execution_count": 48,
      "outputs": [
        {
          "output_type": "stream",
          "name": "stdout",
          "text": [
            "RN 29\n",
            "RP 5\n",
            "FN 30\n",
            "FP 0\n"
          ]
        }
      ]
    },
    {
      "cell_type": "code",
      "source": [
        "df_dt_real_positives"
      ],
      "metadata": {
        "colab": {
          "base_uri": "https://localhost:8080/",
          "height": 206
        },
        "id": "YsWp_GWc4UIq",
        "outputId": "1fe9677d-a4ce-4032-c801-7dc94a1d3589"
      },
      "execution_count": 49,
      "outputs": [
        {
          "output_type": "execute_result",
          "data": {
            "text/plain": [
              "                                                texts  categories  DT_pred\n",
              "0   planning unknown : lessons learned ten months ...           1        1\n",
              "2   fast feedback cycles empirical software engine...           1        1\n",
              "22  recruitment , engagement feedback empirical so...           1        1\n",
              "23  continuous collaborative technology transfer :...           1        1\n",
              "39  design science paradigm frame empirical softwa...           1        1"
            ],
            "text/html": [
              "\n",
              "  <div id=\"df-c0a497b5-c5e9-406d-9a33-9937d0abeeb5\">\n",
              "    <div class=\"colab-df-container\">\n",
              "      <div>\n",
              "<style scoped>\n",
              "    .dataframe tbody tr th:only-of-type {\n",
              "        vertical-align: middle;\n",
              "    }\n",
              "\n",
              "    .dataframe tbody tr th {\n",
              "        vertical-align: top;\n",
              "    }\n",
              "\n",
              "    .dataframe thead th {\n",
              "        text-align: right;\n",
              "    }\n",
              "</style>\n",
              "<table border=\"1\" class=\"dataframe\">\n",
              "  <thead>\n",
              "    <tr style=\"text-align: right;\">\n",
              "      <th></th>\n",
              "      <th>texts</th>\n",
              "      <th>categories</th>\n",
              "      <th>DT_pred</th>\n",
              "    </tr>\n",
              "  </thead>\n",
              "  <tbody>\n",
              "    <tr>\n",
              "      <th>0</th>\n",
              "      <td>planning unknown : lessons learned ten months ...</td>\n",
              "      <td>1</td>\n",
              "      <td>1</td>\n",
              "    </tr>\n",
              "    <tr>\n",
              "      <th>2</th>\n",
              "      <td>fast feedback cycles empirical software engine...</td>\n",
              "      <td>1</td>\n",
              "      <td>1</td>\n",
              "    </tr>\n",
              "    <tr>\n",
              "      <th>22</th>\n",
              "      <td>recruitment , engagement feedback empirical so...</td>\n",
              "      <td>1</td>\n",
              "      <td>1</td>\n",
              "    </tr>\n",
              "    <tr>\n",
              "      <th>23</th>\n",
              "      <td>continuous collaborative technology transfer :...</td>\n",
              "      <td>1</td>\n",
              "      <td>1</td>\n",
              "    </tr>\n",
              "    <tr>\n",
              "      <th>39</th>\n",
              "      <td>design science paradigm frame empirical softwa...</td>\n",
              "      <td>1</td>\n",
              "      <td>1</td>\n",
              "    </tr>\n",
              "  </tbody>\n",
              "</table>\n",
              "</div>\n",
              "      <button class=\"colab-df-convert\" onclick=\"convertToInteractive('df-c0a497b5-c5e9-406d-9a33-9937d0abeeb5')\"\n",
              "              title=\"Convert this dataframe to an interactive table.\"\n",
              "              style=\"display:none;\">\n",
              "        \n",
              "  <svg xmlns=\"http://www.w3.org/2000/svg\" height=\"24px\"viewBox=\"0 0 24 24\"\n",
              "       width=\"24px\">\n",
              "    <path d=\"M0 0h24v24H0V0z\" fill=\"none\"/>\n",
              "    <path d=\"M18.56 5.44l.94 2.06.94-2.06 2.06-.94-2.06-.94-.94-2.06-.94 2.06-2.06.94zm-11 1L8.5 8.5l.94-2.06 2.06-.94-2.06-.94L8.5 2.5l-.94 2.06-2.06.94zm10 10l.94 2.06.94-2.06 2.06-.94-2.06-.94-.94-2.06-.94 2.06-2.06.94z\"/><path d=\"M17.41 7.96l-1.37-1.37c-.4-.4-.92-.59-1.43-.59-.52 0-1.04.2-1.43.59L10.3 9.45l-7.72 7.72c-.78.78-.78 2.05 0 2.83L4 21.41c.39.39.9.59 1.41.59.51 0 1.02-.2 1.41-.59l7.78-7.78 2.81-2.81c.8-.78.8-2.07 0-2.86zM5.41 20L4 18.59l7.72-7.72 1.47 1.35L5.41 20z\"/>\n",
              "  </svg>\n",
              "      </button>\n",
              "      \n",
              "  <style>\n",
              "    .colab-df-container {\n",
              "      display:flex;\n",
              "      flex-wrap:wrap;\n",
              "      gap: 12px;\n",
              "    }\n",
              "\n",
              "    .colab-df-convert {\n",
              "      background-color: #E8F0FE;\n",
              "      border: none;\n",
              "      border-radius: 50%;\n",
              "      cursor: pointer;\n",
              "      display: none;\n",
              "      fill: #1967D2;\n",
              "      height: 32px;\n",
              "      padding: 0 0 0 0;\n",
              "      width: 32px;\n",
              "    }\n",
              "\n",
              "    .colab-df-convert:hover {\n",
              "      background-color: #E2EBFA;\n",
              "      box-shadow: 0px 1px 2px rgba(60, 64, 67, 0.3), 0px 1px 3px 1px rgba(60, 64, 67, 0.15);\n",
              "      fill: #174EA6;\n",
              "    }\n",
              "\n",
              "    [theme=dark] .colab-df-convert {\n",
              "      background-color: #3B4455;\n",
              "      fill: #D2E3FC;\n",
              "    }\n",
              "\n",
              "    [theme=dark] .colab-df-convert:hover {\n",
              "      background-color: #434B5C;\n",
              "      box-shadow: 0px 1px 3px 1px rgba(0, 0, 0, 0.15);\n",
              "      filter: drop-shadow(0px 1px 2px rgba(0, 0, 0, 0.3));\n",
              "      fill: #FFFFFF;\n",
              "    }\n",
              "  </style>\n",
              "\n",
              "      <script>\n",
              "        const buttonEl =\n",
              "          document.querySelector('#df-c0a497b5-c5e9-406d-9a33-9937d0abeeb5 button.colab-df-convert');\n",
              "        buttonEl.style.display =\n",
              "          google.colab.kernel.accessAllowed ? 'block' : 'none';\n",
              "\n",
              "        async function convertToInteractive(key) {\n",
              "          const element = document.querySelector('#df-c0a497b5-c5e9-406d-9a33-9937d0abeeb5');\n",
              "          const dataTable =\n",
              "            await google.colab.kernel.invokeFunction('convertToInteractive',\n",
              "                                                     [key], {});\n",
              "          if (!dataTable) return;\n",
              "\n",
              "          const docLinkHtml = 'Like what you see? Visit the ' +\n",
              "            '<a target=\"_blank\" href=https://colab.research.google.com/notebooks/data_table.ipynb>data table notebook</a>'\n",
              "            + ' to learn more about interactive tables.';\n",
              "          element.innerHTML = '';\n",
              "          dataTable['output_type'] = 'display_data';\n",
              "          await google.colab.output.renderOutput(dataTable, element);\n",
              "          const docLink = document.createElement('div');\n",
              "          docLink.innerHTML = docLinkHtml;\n",
              "          element.appendChild(docLink);\n",
              "        }\n",
              "      </script>\n",
              "    </div>\n",
              "  </div>\n",
              "  "
            ]
          },
          "metadata": {},
          "execution_count": 49
        }
      ]
    },
    {
      "cell_type": "markdown",
      "source": [
        "#### SVM analysis"
      ],
      "metadata": {
        "id": "WxUtnrnA3gzf"
      }
    },
    {
      "cell_type": "code",
      "source": [
        "cls_type = 'SVM_pred'\n",
        "df_svm_real_negatives = get_real_negatives(cls_type)\n",
        "df_svm_real_positives = get_real_positives(cls_type)\n",
        "df_svm_false_negative = get_false_negative(cls_type)\n",
        "df_svm_false_positive = get_false_positive(cls_type)"
      ],
      "metadata": {
        "id": "Ldey0vS03Yh9"
      },
      "execution_count": 50,
      "outputs": []
    },
    {
      "cell_type": "code",
      "source": [
        "print(\"RN\",len(df_svm_real_negatives))\n",
        "print(\"RP\",len(df_svm_real_positives))\n",
        "print(\"FN\",len(df_svm_false_negative))\n",
        "print(\"FP\",len(df_svm_false_positive))\n",
        "\n",
        "print(\"\\n\",df_svm_false_positive)"
      ],
      "metadata": {
        "colab": {
          "base_uri": "https://localhost:8080/"
        },
        "id": "qlTYjrXj6uhi",
        "outputId": "9ecc5c26-8f44-45b8-cf65-6ac815e6dfa6"
      },
      "execution_count": 51,
      "outputs": [
        {
          "output_type": "stream",
          "name": "stdout",
          "text": [
            "RN 28\n",
            "RP 26\n",
            "FN 9\n",
            "FP 1\n",
            "\n",
            "                                                 texts  categories  SVM_pred\n",
            "52  guiding selection research methodology industr...           0         1\n"
          ]
        }
      ]
    },
    {
      "cell_type": "code",
      "source": [
        "df_svm_real_positives"
      ],
      "metadata": {
        "colab": {
          "base_uri": "https://localhost:8080/",
          "height": 865
        },
        "id": "MQIYlCys74Q-",
        "outputId": "401a4d54-baec-4b5e-d829-bba1ba3507c5"
      },
      "execution_count": 52,
      "outputs": [
        {
          "output_type": "execute_result",
          "data": {
            "text/plain": [
              "                                                texts  categories  SVM_pred\n",
              "0   planning unknown : lessons learned ten months ...           1         1\n",
              "1   exploratory study technology transfer software...           1         1\n",
              "2   fast feedback cycles empirical software engine...           1         1\n",
              "3   integration se research industry : reflections...           1         1\n",
              "9   meeting industry-academia research collaborati...           1         1\n",
              "11  industry -- academia collaboration software te...           1         1\n",
              "20  leveraging organizational climate theory under...           1         1\n",
              "21  protocol tools conducting agile software engin...           1         1\n",
              "22  recruitment , engagement feedback empirical so...           1         1\n",
              "23  continuous collaborative technology transfer :...           1         1\n",
              "24  towards model transfer knowledge software engi...           1         1\n",
              "27  characterizing industry-academia collaboration...           1         1\n",
              "29  contextualizing research evidence knowledge tr...           1         1\n",
              "31  successful engagement practitioners software e...           1         1\n",
              "32  together stronger : evidence-based reflection ...           1         1\n",
              "33  fostering industry-academia collaboration soft...           1         1\n",
              "34  exploring improving industry-academia communic...           1         1\n",
              "35  lessons learned research co-creation : making ...           1         1\n",
              "36  university-software industry collaboration : e...           1         1\n",
              "37  framework improve university -- industry colla...           1         1\n",
              "38  third generation industrial co-production soft...           1         1\n",
              "46  industry-academia research collaboration softw...           1         1\n",
              "47  guiding selection research methodology industr...           1         1\n",
              "48  case study industry -- academia communication ...           1         1\n",
              "49  knowledge management university-software indus...           1         1\n",
              "51  context checklist industrial software engineer...           1         1"
            ],
            "text/html": [
              "\n",
              "  <div id=\"df-c20d589c-898d-40e8-b83c-da656b09a187\">\n",
              "    <div class=\"colab-df-container\">\n",
              "      <div>\n",
              "<style scoped>\n",
              "    .dataframe tbody tr th:only-of-type {\n",
              "        vertical-align: middle;\n",
              "    }\n",
              "\n",
              "    .dataframe tbody tr th {\n",
              "        vertical-align: top;\n",
              "    }\n",
              "\n",
              "    .dataframe thead th {\n",
              "        text-align: right;\n",
              "    }\n",
              "</style>\n",
              "<table border=\"1\" class=\"dataframe\">\n",
              "  <thead>\n",
              "    <tr style=\"text-align: right;\">\n",
              "      <th></th>\n",
              "      <th>texts</th>\n",
              "      <th>categories</th>\n",
              "      <th>SVM_pred</th>\n",
              "    </tr>\n",
              "  </thead>\n",
              "  <tbody>\n",
              "    <tr>\n",
              "      <th>0</th>\n",
              "      <td>planning unknown : lessons learned ten months ...</td>\n",
              "      <td>1</td>\n",
              "      <td>1</td>\n",
              "    </tr>\n",
              "    <tr>\n",
              "      <th>1</th>\n",
              "      <td>exploratory study technology transfer software...</td>\n",
              "      <td>1</td>\n",
              "      <td>1</td>\n",
              "    </tr>\n",
              "    <tr>\n",
              "      <th>2</th>\n",
              "      <td>fast feedback cycles empirical software engine...</td>\n",
              "      <td>1</td>\n",
              "      <td>1</td>\n",
              "    </tr>\n",
              "    <tr>\n",
              "      <th>3</th>\n",
              "      <td>integration se research industry : reflections...</td>\n",
              "      <td>1</td>\n",
              "      <td>1</td>\n",
              "    </tr>\n",
              "    <tr>\n",
              "      <th>9</th>\n",
              "      <td>meeting industry-academia research collaborati...</td>\n",
              "      <td>1</td>\n",
              "      <td>1</td>\n",
              "    </tr>\n",
              "    <tr>\n",
              "      <th>11</th>\n",
              "      <td>industry -- academia collaboration software te...</td>\n",
              "      <td>1</td>\n",
              "      <td>1</td>\n",
              "    </tr>\n",
              "    <tr>\n",
              "      <th>20</th>\n",
              "      <td>leveraging organizational climate theory under...</td>\n",
              "      <td>1</td>\n",
              "      <td>1</td>\n",
              "    </tr>\n",
              "    <tr>\n",
              "      <th>21</th>\n",
              "      <td>protocol tools conducting agile software engin...</td>\n",
              "      <td>1</td>\n",
              "      <td>1</td>\n",
              "    </tr>\n",
              "    <tr>\n",
              "      <th>22</th>\n",
              "      <td>recruitment , engagement feedback empirical so...</td>\n",
              "      <td>1</td>\n",
              "      <td>1</td>\n",
              "    </tr>\n",
              "    <tr>\n",
              "      <th>23</th>\n",
              "      <td>continuous collaborative technology transfer :...</td>\n",
              "      <td>1</td>\n",
              "      <td>1</td>\n",
              "    </tr>\n",
              "    <tr>\n",
              "      <th>24</th>\n",
              "      <td>towards model transfer knowledge software engi...</td>\n",
              "      <td>1</td>\n",
              "      <td>1</td>\n",
              "    </tr>\n",
              "    <tr>\n",
              "      <th>27</th>\n",
              "      <td>characterizing industry-academia collaboration...</td>\n",
              "      <td>1</td>\n",
              "      <td>1</td>\n",
              "    </tr>\n",
              "    <tr>\n",
              "      <th>29</th>\n",
              "      <td>contextualizing research evidence knowledge tr...</td>\n",
              "      <td>1</td>\n",
              "      <td>1</td>\n",
              "    </tr>\n",
              "    <tr>\n",
              "      <th>31</th>\n",
              "      <td>successful engagement practitioners software e...</td>\n",
              "      <td>1</td>\n",
              "      <td>1</td>\n",
              "    </tr>\n",
              "    <tr>\n",
              "      <th>32</th>\n",
              "      <td>together stronger : evidence-based reflection ...</td>\n",
              "      <td>1</td>\n",
              "      <td>1</td>\n",
              "    </tr>\n",
              "    <tr>\n",
              "      <th>33</th>\n",
              "      <td>fostering industry-academia collaboration soft...</td>\n",
              "      <td>1</td>\n",
              "      <td>1</td>\n",
              "    </tr>\n",
              "    <tr>\n",
              "      <th>34</th>\n",
              "      <td>exploring improving industry-academia communic...</td>\n",
              "      <td>1</td>\n",
              "      <td>1</td>\n",
              "    </tr>\n",
              "    <tr>\n",
              "      <th>35</th>\n",
              "      <td>lessons learned research co-creation : making ...</td>\n",
              "      <td>1</td>\n",
              "      <td>1</td>\n",
              "    </tr>\n",
              "    <tr>\n",
              "      <th>36</th>\n",
              "      <td>university-software industry collaboration : e...</td>\n",
              "      <td>1</td>\n",
              "      <td>1</td>\n",
              "    </tr>\n",
              "    <tr>\n",
              "      <th>37</th>\n",
              "      <td>framework improve university -- industry colla...</td>\n",
              "      <td>1</td>\n",
              "      <td>1</td>\n",
              "    </tr>\n",
              "    <tr>\n",
              "      <th>38</th>\n",
              "      <td>third generation industrial co-production soft...</td>\n",
              "      <td>1</td>\n",
              "      <td>1</td>\n",
              "    </tr>\n",
              "    <tr>\n",
              "      <th>46</th>\n",
              "      <td>industry-academia research collaboration softw...</td>\n",
              "      <td>1</td>\n",
              "      <td>1</td>\n",
              "    </tr>\n",
              "    <tr>\n",
              "      <th>47</th>\n",
              "      <td>guiding selection research methodology industr...</td>\n",
              "      <td>1</td>\n",
              "      <td>1</td>\n",
              "    </tr>\n",
              "    <tr>\n",
              "      <th>48</th>\n",
              "      <td>case study industry -- academia communication ...</td>\n",
              "      <td>1</td>\n",
              "      <td>1</td>\n",
              "    </tr>\n",
              "    <tr>\n",
              "      <th>49</th>\n",
              "      <td>knowledge management university-software indus...</td>\n",
              "      <td>1</td>\n",
              "      <td>1</td>\n",
              "    </tr>\n",
              "    <tr>\n",
              "      <th>51</th>\n",
              "      <td>context checklist industrial software engineer...</td>\n",
              "      <td>1</td>\n",
              "      <td>1</td>\n",
              "    </tr>\n",
              "  </tbody>\n",
              "</table>\n",
              "</div>\n",
              "      <button class=\"colab-df-convert\" onclick=\"convertToInteractive('df-c20d589c-898d-40e8-b83c-da656b09a187')\"\n",
              "              title=\"Convert this dataframe to an interactive table.\"\n",
              "              style=\"display:none;\">\n",
              "        \n",
              "  <svg xmlns=\"http://www.w3.org/2000/svg\" height=\"24px\"viewBox=\"0 0 24 24\"\n",
              "       width=\"24px\">\n",
              "    <path d=\"M0 0h24v24H0V0z\" fill=\"none\"/>\n",
              "    <path d=\"M18.56 5.44l.94 2.06.94-2.06 2.06-.94-2.06-.94-.94-2.06-.94 2.06-2.06.94zm-11 1L8.5 8.5l.94-2.06 2.06-.94-2.06-.94L8.5 2.5l-.94 2.06-2.06.94zm10 10l.94 2.06.94-2.06 2.06-.94-2.06-.94-.94-2.06-.94 2.06-2.06.94z\"/><path d=\"M17.41 7.96l-1.37-1.37c-.4-.4-.92-.59-1.43-.59-.52 0-1.04.2-1.43.59L10.3 9.45l-7.72 7.72c-.78.78-.78 2.05 0 2.83L4 21.41c.39.39.9.59 1.41.59.51 0 1.02-.2 1.41-.59l7.78-7.78 2.81-2.81c.8-.78.8-2.07 0-2.86zM5.41 20L4 18.59l7.72-7.72 1.47 1.35L5.41 20z\"/>\n",
              "  </svg>\n",
              "      </button>\n",
              "      \n",
              "  <style>\n",
              "    .colab-df-container {\n",
              "      display:flex;\n",
              "      flex-wrap:wrap;\n",
              "      gap: 12px;\n",
              "    }\n",
              "\n",
              "    .colab-df-convert {\n",
              "      background-color: #E8F0FE;\n",
              "      border: none;\n",
              "      border-radius: 50%;\n",
              "      cursor: pointer;\n",
              "      display: none;\n",
              "      fill: #1967D2;\n",
              "      height: 32px;\n",
              "      padding: 0 0 0 0;\n",
              "      width: 32px;\n",
              "    }\n",
              "\n",
              "    .colab-df-convert:hover {\n",
              "      background-color: #E2EBFA;\n",
              "      box-shadow: 0px 1px 2px rgba(60, 64, 67, 0.3), 0px 1px 3px 1px rgba(60, 64, 67, 0.15);\n",
              "      fill: #174EA6;\n",
              "    }\n",
              "\n",
              "    [theme=dark] .colab-df-convert {\n",
              "      background-color: #3B4455;\n",
              "      fill: #D2E3FC;\n",
              "    }\n",
              "\n",
              "    [theme=dark] .colab-df-convert:hover {\n",
              "      background-color: #434B5C;\n",
              "      box-shadow: 0px 1px 3px 1px rgba(0, 0, 0, 0.15);\n",
              "      filter: drop-shadow(0px 1px 2px rgba(0, 0, 0, 0.3));\n",
              "      fill: #FFFFFF;\n",
              "    }\n",
              "  </style>\n",
              "\n",
              "      <script>\n",
              "        const buttonEl =\n",
              "          document.querySelector('#df-c20d589c-898d-40e8-b83c-da656b09a187 button.colab-df-convert');\n",
              "        buttonEl.style.display =\n",
              "          google.colab.kernel.accessAllowed ? 'block' : 'none';\n",
              "\n",
              "        async function convertToInteractive(key) {\n",
              "          const element = document.querySelector('#df-c20d589c-898d-40e8-b83c-da656b09a187');\n",
              "          const dataTable =\n",
              "            await google.colab.kernel.invokeFunction('convertToInteractive',\n",
              "                                                     [key], {});\n",
              "          if (!dataTable) return;\n",
              "\n",
              "          const docLinkHtml = 'Like what you see? Visit the ' +\n",
              "            '<a target=\"_blank\" href=https://colab.research.google.com/notebooks/data_table.ipynb>data table notebook</a>'\n",
              "            + ' to learn more about interactive tables.';\n",
              "          element.innerHTML = '';\n",
              "          dataTable['output_type'] = 'display_data';\n",
              "          await google.colab.output.renderOutput(dataTable, element);\n",
              "          const docLink = document.createElement('div');\n",
              "          docLink.innerHTML = docLinkHtml;\n",
              "          element.appendChild(docLink);\n",
              "        }\n",
              "      </script>\n",
              "    </div>\n",
              "  </div>\n",
              "  "
            ]
          },
          "metadata": {},
          "execution_count": 52
        }
      ]
    },
    {
      "cell_type": "code",
      "source": [
        "print(df_svm_real_positives)\n"
      ],
      "metadata": {
        "colab": {
          "base_uri": "https://localhost:8080/"
        },
        "id": "dQc7C-O2slla",
        "outputId": "af63af32-f218-47b4-e581-3b335dd033f8"
      },
      "execution_count": 53,
      "outputs": [
        {
          "output_type": "stream",
          "name": "stdout",
          "text": [
            "                                                texts  categories  SVM_pred\n",
            "0   planning unknown : lessons learned ten months ...           1         1\n",
            "1   exploratory study technology transfer software...           1         1\n",
            "2   fast feedback cycles empirical software engine...           1         1\n",
            "3   integration se research industry : reflections...           1         1\n",
            "9   meeting industry-academia research collaborati...           1         1\n",
            "11  industry -- academia collaboration software te...           1         1\n",
            "20  leveraging organizational climate theory under...           1         1\n",
            "21  protocol tools conducting agile software engin...           1         1\n",
            "22  recruitment , engagement feedback empirical so...           1         1\n",
            "23  continuous collaborative technology transfer :...           1         1\n",
            "24  towards model transfer knowledge software engi...           1         1\n",
            "27  characterizing industry-academia collaboration...           1         1\n",
            "29  contextualizing research evidence knowledge tr...           1         1\n",
            "31  successful engagement practitioners software e...           1         1\n",
            "32  together stronger : evidence-based reflection ...           1         1\n",
            "33  fostering industry-academia collaboration soft...           1         1\n",
            "34  exploring improving industry-academia communic...           1         1\n",
            "35  lessons learned research co-creation : making ...           1         1\n",
            "36  university-software industry collaboration : e...           1         1\n",
            "37  framework improve university -- industry colla...           1         1\n",
            "38  third generation industrial co-production soft...           1         1\n",
            "46  industry-academia research collaboration softw...           1         1\n",
            "47  guiding selection research methodology industr...           1         1\n",
            "48  case study industry -- academia communication ...           1         1\n",
            "49  knowledge management university-software indus...           1         1\n",
            "51  context checklist industrial software engineer...           1         1\n"
          ]
        }
      ]
    },
    {
      "cell_type": "markdown",
      "source": [
        "## Convert dataframe to CSV and send to drive"
      ],
      "metadata": {
        "id": "_zoBLmfts_Gv"
      }
    },
    {
      "cell_type": "code",
      "source": [
        "df_report = df_testing\n",
        "\n",
        "unused_columns = ['features', 'years']\n",
        "df_report.drop(unused_columns, inplace=True, axis=1)\n",
        "df_report.rename(columns = {'categories':'Was Selected?'}, inplace = True)\n",
        "\n",
        "with codecs.open(result_file_path, 'w', encoding='utf-8') as report_file:\n",
        "    df_report.to_csv(report_file, index=False)"
      ],
      "metadata": {
        "id": "6KBbuejMw-FT"
      },
      "execution_count": 54,
      "outputs": []
    },
    {
      "cell_type": "markdown",
      "source": [
        "# END"
      ],
      "metadata": {
        "id": "ibELgG7qoQpP"
      }
    }
  ]
}