{
  "nbformat": 4,
  "nbformat_minor": 0,
  "metadata": {
    "colab": {
      "provenance": [],
      "collapsed_sections": [
        "ovxRnp2MJYBM",
        "bcjZdsU316sG"
      ],
      "authorship_tag": "ABX9TyPQUM3xyXNbx0AtFiHLZvAY",
      "include_colab_link": true
    },
    "kernelspec": {
      "name": "python3",
      "display_name": "Python 3"
    },
    "language_info": {
      "name": "python"
    }
  },
  "cells": [
    {
      "cell_type": "markdown",
      "metadata": {
        "id": "view-in-github",
        "colab_type": "text"
      },
      "source": [
        "<a href=\"https://colab.research.google.com/github/bmnapoleao/SLR-Automated_selection_of_studies/blob/main/notebook1.ipynb\" target=\"_parent\"><img src=\"https://colab.research.google.com/assets/colab-badge.svg\" alt=\"Open In Colab\"/></a>"
      ]
    },
    {
      "cell_type": "markdown",
      "source": [
        "# Summary: Using predict() instead of predict_proba()"
      ],
      "metadata": {
        "id": "nsgy3RDNulsz"
      }
    },
    {
      "cell_type": "markdown",
      "source": [
        "# Summary: Only running predict_proba ONCE"
      ],
      "metadata": {
        "id": "xbongjtvudiv"
      }
    },
    {
      "cell_type": "code",
      "source": [
        "import numpy as np\n",
        "import pandas as pd\n",
        "import matplotlib.pyplot as plt\n",
        "import matplotlib.colors as colors\n",
        "import matplotlib.patches as mpatches\n",
        "from IPython.display import display\n",
        "from sklearn import preprocessing\n",
        "from sklearn.cluster import KMeans\n",
        "from sklearn import metrics\n",
        "import networkx as nx\n",
        "from sklearn.decomposition import PCA\n",
        "import seaborn as sns"
      ],
      "metadata": {
        "id": "GwPPyeeZ7Ov5"
      },
      "execution_count": 1,
      "outputs": []
    },
    {
      "cell_type": "code",
      "source": [
        "# Lista de artigos duplicados (encontrados a partir de um script python)\n",
        "DUPLICATED_LST = ['Leveraging organizational climate theory for understanding industry-academia collaboration', 'Meeting Industry-Academia Research Collaboration Challenges with Agile Methodologies', 'Characterizing industry-academia collaborations in software engineering: evidence from 101 projects', 'Protocol and Tools for Conducting Agile Software Engineering Research in an Industrial-Academic Setting: A Preliminary Study', 'Industry-Academia research collaboration in software engineering: The Certus model', 'Fostering Industry-Academia Collaboration in Software Engineering Using Action Research: A Case Study', 'A case study of industry--academia communication in a joint software engineering research project', 'Lessons Learned on Research Co-Creation: Making Industry-Academia Collaboration Work', 'Industry-Academia Collaborations in Software Engineering: An Empirical Analysis of Challenges, Patterns and Anti-Patterns in Research Projects', 'Knowledge Management in University-Software Industry Collaboration']"
      ],
      "metadata": {
        "id": "FpcQNPRe9-Xm"
      },
      "execution_count": 2,
      "outputs": []
    },
    {
      "cell_type": "code",
      "source": [
        "len(DUPLICATED_LST)"
      ],
      "metadata": {
        "colab": {
          "base_uri": "https://localhost:8080/"
        },
        "id": "BnafUx1XDvFf",
        "outputId": "2a57a0f4-e16b-4734-f63a-09ce8063cf14"
      },
      "execution_count": 3,
      "outputs": [
        {
          "output_type": "execute_result",
          "data": {
            "text/plain": [
              "10"
            ]
          },
          "metadata": {},
          "execution_count": 3
        }
      ]
    },
    {
      "cell_type": "markdown",
      "source": [
        "# Number of features used in Feature Selection"
      ],
      "metadata": {
        "id": "gD82ktgJgAzB"
      }
    },
    {
      "cell_type": "code",
      "source": [
        "# k_fs = 100  \n",
        "# k_fs = 500  \n",
        "# k_fs = 750  # DONE\n",
        "k_fs = 1000 \n",
        "# k_fs = 1500 \n",
        "k_sufix = 'k{}'.format(k_fs)"
      ],
      "metadata": {
        "id": "jnBIF9XggAVz"
      },
      "execution_count": 4,
      "outputs": []
    },
    {
      "cell_type": "markdown",
      "source": [
        "# Choose dataset to use and where to save results"
      ],
      "metadata": {
        "id": "kwra3xyKN5xI"
      }
    },
    {
      "cell_type": "code",
      "source": [
        "# To use full dataset (2hrs to run feature selection)\n",
        "#   Training Paths to read from\n",
        "file_path_included_training = '/content/drive/MyDrive/cslr/bibs/training-sets/training_included.bib'\n",
        "file_path_excluded_training = '/content/drive/MyDrive/cslr/bibs/training-sets/training_excluded.bib'\n",
        "#   Testing Paths to read from\n",
        "file_path_included_testing = '/content/drive/MyDrive/cslr/bibs/testing-sets/testing_included_formated.bib'\n",
        "file_path_excluded_testing = '/content/drive/MyDrive/cslr/bibs/testing-sets/testing_excluded_formated.bib'\n",
        "#   Using complete dataset (result's dir on drive)\n",
        "result_file_path = '/content/drive/MyDrive/cslr/results-dec/report_{}.csv'.format(k_sufix)\n",
        "\n",
        "###########################################################################################################\n",
        "\n",
        "# # # To use small sample from dataset\n",
        "# #   Training Paths to read from\n",
        "# file_path_included_training = '/content/drive/MyDrive/cslr/bibs/small-samples/training-set-included.bib'\n",
        "# file_path_excluded_training = '/content/drive/MyDrive/cslr/bibs/small-samples/training-set-excluded.bib'\n",
        "# #   Testing Paths to read from\n",
        "# file_path_included_testing =  '/content/drive/MyDrive/cslr/bibs/small-samples/testing-set-included.bib'\n",
        "# file_path_excluded_testing =  '/content/drive/MyDrive/cslr/bibs/small-samples/testing-set-excluded.bib'\n",
        "# ##   Using small samples / part of dataset (result's dir on drive)\n",
        "# k_fs = 100  # Use small number of features\n",
        "# k_sufix = 'k{}'.format(k_fs)\n",
        "# result_file_path = '/content/drive/MyDrive/cslr/results-dec/to-remove-test.csv'\n"
      ],
      "metadata": {
        "id": "MfaCNxWjN428"
      },
      "execution_count": 5,
      "outputs": []
    },
    {
      "cell_type": "markdown",
      "metadata": {
        "id": "MDnXLbAXQbBn"
      },
      "source": [
        "# Selection of Studies\n",
        "\n",
        "Marcelo Costalonga\n"
      ]
    },
    {
      "cell_type": "markdown",
      "source": [
        "## Bib Parser\n",
        "\n",
        "######  # BibParser(write_files=False, project_folder=project_folder, only_titles=True),"
      ],
      "metadata": {
        "id": "hHEEQJyId9Vm"
      }
    },
    {
      "cell_type": "code",
      "source": [
        "!pip install bibtexparser"
      ],
      "metadata": {
        "colab": {
          "base_uri": "https://localhost:8080/"
        },
        "id": "t15EfQQ4CyCM",
        "outputId": "cee60c13-66f0-426f-9ec1-1ba724af134e"
      },
      "execution_count": 6,
      "outputs": [
        {
          "output_type": "stream",
          "name": "stdout",
          "text": [
            "Looking in indexes: https://pypi.org/simple, https://us-python.pkg.dev/colab-wheels/public/simple/\n",
            "Requirement already satisfied: bibtexparser in /usr/local/lib/python3.8/dist-packages (1.4.0)\n",
            "Requirement already satisfied: pyparsing>=2.0.3 in /usr/local/lib/python3.8/dist-packages (from bibtexparser) (3.0.9)\n"
          ]
        }
      ]
    },
    {
      "cell_type": "markdown",
      "source": [
        "### Imports"
      ],
      "metadata": {
        "id": "fuE80dzY-vIz"
      }
    },
    {
      "cell_type": "code",
      "source": [
        "import codecs, bibtexparser\n",
        "\n",
        "import keras_preprocessing.sequence\n",
        "import numpy as np\n",
        "\n",
        "from keras.preprocessing.text import Tokenizer"
      ],
      "metadata": {
        "id": "a0-biIQ2d6Pt"
      },
      "execution_count": 7,
      "outputs": []
    },
    {
      "cell_type": "markdown",
      "source": [
        "### Loading bibs from drive (BibTexParser)"
      ],
      "metadata": {
        "id": "jfjQ4iXa6JdH"
      }
    },
    {
      "cell_type": "code",
      "source": [
        "from google.colab import drive\n",
        "drive.mount('/content/drive')"
      ],
      "metadata": {
        "colab": {
          "base_uri": "https://localhost:8080/"
        },
        "id": "QyIXr5DJ45Ls",
        "outputId": "e7f7681e-69c3-4568-9a64-727f9771a6fa"
      },
      "execution_count": 8,
      "outputs": [
        {
          "output_type": "stream",
          "name": "stdout",
          "text": [
            "Drive already mounted at /content/drive; to attempt to forcibly remount, call drive.mount(\"/content/drive\", force_remount=True).\n"
          ]
        }
      ]
    },
    {
      "cell_type": "code",
      "source": [
        "def read_bib(file_path, set_name: str, was_accepted: bool):\n",
        "    texts_list = list()\n",
        "    titles_list = list()\n",
        "    duplicated_titles = dict()\n",
        "\n",
        "    with codecs.open(file_path, 'r', encoding='utf-8') as bib_file:\n",
        "        db = bibtexparser.load(bib_file)\n",
        "        for bib_index, entry in enumerate(db.entries, start=0):\n",
        "            category = 'selecionado' if was_accepted == True else 'removido'\n",
        "            title = entry['title']\n",
        "            abstract = entry['abstract']\n",
        "            year = entry['year']\n",
        "            content = u'%s\\n%s' % (title, abstract)\n",
        "            folder = file_path.split('/')[2].split('-')[0]\n",
        "\n",
        "            if (title not in titles_list): \n",
        "                titles_list.append(title)\n",
        "                content = content.split('\\n')[0]\n",
        "                texts_list.append({\n",
        "                    'title': title,\n",
        "                    'content': content,\n",
        "                    'category': category,\n",
        "                    'year': int(year)\n",
        "                })\n",
        "            else:\n",
        "                if title in duplicated_titles:\n",
        "                    duplicated_titles[title] += 1  \n",
        "                else:\n",
        "                     duplicated_titles[title] = 2\n",
        "\n",
        "        bib_file.close()\n",
        "\n",
        "        if (len(duplicated_titles) > 0):\n",
        "            print(\"\\nFound {} duplicated entries on set: {}\".format(len(duplicated_titles), set_name))\n",
        "            print(\"Each of the following entries were found Nx times (number the same title was found) and were ignored:\")\n",
        "            for title in duplicated_titles:\n",
        "                print(\"\\t({}x) - {}\".format(duplicated_titles[title], title))\n",
        "\n",
        "        return texts_list, titles_list"
      ],
      "metadata": {
        "id": "A1kVhbOS53y5"
      },
      "execution_count": 9,
      "outputs": []
    },
    {
      "cell_type": "code",
      "source": [
        "# Initialize lists\n",
        "texts_list_included_training = []\n",
        "texts_list_excluded_training = []\n",
        "texts_list_included_testing = []\n",
        "texts_list_excluded_testing = []\n",
        "\n",
        "# Read bibs according to each set (training/testing - excluded/included)\n",
        "texts_list_included_training, titles_included_training = read_bib(file_path_included_training, 'Training - Included', True)\n",
        "texts_list_excluded_training, titles_excluded_training = read_bib(file_path_excluded_training, 'Training - Excluded', False)\n",
        "texts_list_included_testing, titles_included_testing = read_bib(file_path_included_testing, 'Testing - Included', True)\n",
        "texts_list_excluded_testing, titles_excluded_testing = read_bib(file_path_excluded_testing, 'Training - Excluded', False)\n",
        "\n",
        "print(\"\\nNumber of entries in Training Set Included:\", len(texts_list_included_training))\n",
        "print(\"Number of entries in Training Set Excluded:\", len(texts_list_excluded_training))\n",
        "print(\"Number of entries in Testing Set Included:\", len(texts_list_included_testing))\n",
        "print(\"Number of entries in Testing Set Excluded:\", len(texts_list_excluded_testing))\n",
        "print(\"Total number of entries before removing dupplicates:\", len(texts_list_included_training) + len(texts_list_excluded_training) + \n",
        "      len(texts_list_included_testing) + len(texts_list_excluded_testing))\n"
      ],
      "metadata": {
        "id": "ccKVSNpUPFD6",
        "colab": {
          "base_uri": "https://localhost:8080/"
        },
        "outputId": "17b61e39-c28f-4f33-ef12-1e5702832cf4"
      },
      "execution_count": 10,
      "outputs": [
        {
          "output_type": "stream",
          "name": "stdout",
          "text": [
            "\n",
            "Found 1 duplicated entries on set: Testing - Included\n",
            "Each of the following entries were found Nx times (number the same title was found) and were ignored:\n",
            "\t(2x) - Protocol and Tools for Conducting Agile Software Engineering Research in an Industrial-Academic Setting: A Preliminary Study\n",
            "\n",
            "Found 15 duplicated entries on set: Training - Excluded\n",
            "Each of the following entries were found Nx times (number the same title was found) and were ignored:\n",
            "\t(2x) - Applying Data Analytics towards Optimized Issue Management: An Industrial Case Study\n",
            "\t(2x) - Wide Band Patch Antenna Structures for Cognitive Radio Applications\n",
            "\t(2x) - Exploring the industry's challenges in software testing: An empirical study\n",
            "\t(2x) - Benefits and Drawbacks of Software Reference Architectures\n",
            "\t(2x) - Start-up ecosystems as a framework for the cooperation between start-up companies and knowledge-based institutions in Poland\n",
            "\t(2x) - How to Increase the Likelihood of Successful Transfer to Industry -- Going Beyond the Empirical\n",
            "\t(3x) - Technology transfer - Requirements Engineering research to industrial practice an open (ended) debate\n",
            "\t(2x) - A case study of industry--academia communication in a joint software engineering research project\n",
            "\t(2x) - Large-scale information retrieval in software engineering-an experience report from industrial application\n",
            "\t(2x) - On the Alignment of Source Code Quality Perspectives through Experimentation: An Industrial Case\n",
            "\t(4x) - Approaches, success factors, and barriers for technology transfer in software engineering—Results of a systematic literature review\n",
            "\t(2x) - Adapting Behavior Driven Development (BDD) for large-scale software systems\n",
            "\t(2x) - Using argumentation theory to analyse software practitionersâ defeasible evidence, inference and belief\n",
            "\t(2x) - Secure complex monitoring event processing\n",
            "\t(2x) - Practice-based computing: Empirically grounded conceptualizations derived from design case studies\n",
            "\n",
            "Number of entries in Training Set Included: 45\n",
            "Number of entries in Training Set Excluded: 86\n",
            "Number of entries in Testing Set Included: 35\n",
            "Number of entries in Testing Set Excluded: 482\n",
            "Total number of entries before removing dupplicates: 648\n"
          ]
        }
      ]
    },
    {
      "cell_type": "code",
      "source": [],
      "metadata": {
        "id": "AO6_EQ4v-QLY"
      },
      "execution_count": 10,
      "outputs": []
    },
    {
      "cell_type": "markdown",
      "source": [
        "# Treating duplicates entries"
      ],
      "metadata": {
        "id": "8fu5U3YK-jSR"
      }
    },
    {
      "cell_type": "code",
      "source": [
        "from copy import deepcopy\n",
        "import traceback\n",
        "\n",
        "def remove_duplicates(text_lst, title_lst):\n",
        "    cp_text_lst = deepcopy(text_lst)\n",
        "    cp_title_lst = deepcopy(title_lst)\n",
        "\n",
        "    print(\"Before:\", len(cp_text_lst))\n",
        "\n",
        "    for txt_obj in text_lst:\n",
        "        # if txt_obj['content'] in DUPLICATED_LST:\n",
        "        if txt_obj['title'] in DUPLICATED_LST:\n",
        "            # print(txt_obj['title'])\n",
        "            if txt_obj in cp_text_lst:\n",
        "                cp_text_lst.remove(txt_obj)\n",
        "                cp_title_lst.remove(txt_obj['title'])\n",
        "\n",
        "    print(\"After:\", len(cp_text_lst))\n",
        "    return cp_text_lst, cp_title_lst\n",
        "\n",
        "\n",
        "# texts_list_included_testing = remove_duplicates(texts_list_included_testing)\n",
        "texts_list_excluded_testing, titles_excluded_testing = remove_duplicates(\n",
        "    texts_list_excluded_testing, titles_excluded_testing)"
      ],
      "metadata": {
        "id": "1ASEC1H--OL1",
        "colab": {
          "base_uri": "https://localhost:8080/"
        },
        "outputId": "0cdc6274-a610-4b86-b7c6-f28ebe1ee8b9"
      },
      "execution_count": 11,
      "outputs": [
        {
          "output_type": "stream",
          "name": "stdout",
          "text": [
            "Before: 482\n",
            "After: 472\n"
          ]
        }
      ]
    },
    {
      "cell_type": "code",
      "source": [
        "print(\"Number of entries in Training Set Included:\", len(texts_list_included_training))\n",
        "print(\"Number of entries in Training Set Excluded:\", len(texts_list_excluded_training))\n",
        "print(\"Number of entries in Testing Set Included:\", len(texts_list_included_testing))\n",
        "print(\"Number of entries in Testing Set Excluded:\", len(texts_list_excluded_testing))\n",
        "print(\"Total number of entries after removing dupplicates:\", len(texts_list_included_training) + len(texts_list_excluded_training) + \n",
        "      len(texts_list_included_testing) + len(texts_list_excluded_testing))"
      ],
      "metadata": {
        "id": "tqrEwM2UAidH",
        "colab": {
          "base_uri": "https://localhost:8080/"
        },
        "outputId": "ce7da94a-ac21-47e1-828a-c1afa4db21f7"
      },
      "execution_count": 12,
      "outputs": [
        {
          "output_type": "stream",
          "name": "stdout",
          "text": [
            "Number of entries in Training Set Included: 45\n",
            "Number of entries in Training Set Excluded: 86\n",
            "Number of entries in Testing Set Included: 35\n",
            "Number of entries in Testing Set Excluded: 472\n",
            "Total number of entries after removing dupplicates: 638\n"
          ]
        }
      ]
    },
    {
      "cell_type": "code",
      "source": [
        "def get_difference(l1, s1):\n",
        "    lst_copy = deepcopy(l1)\n",
        "    for i in s1:\n",
        "        if i in lst_copy:\n",
        "            lst_copy.remove(i)\n",
        "    return lst_copy\n",
        "\n",
        "def validate_texts(train_in, train_ex, test_in, test_ex):\n",
        "    # Assert there are no duplicates\n",
        "    duplicated_entries = list()\n",
        "    try:\n",
        "        train_titles = train_in + train_ex\n",
        "        train_tuple = set(train_in + train_ex)\n",
        "        assert len(train_titles) == len(train_tuple)\n",
        "    except AssertionError:\n",
        "        print(\"\\nTraining Sets have duplicated entries!!\")\n",
        "        print(\"Len l1+l2={} vs Len set={}\".format(len(train_titles), \n",
        "                                                  len(train_tuple)))\n",
        "        duplicated_entries = get_difference(train_titles, train_tuple)\n",
        "        print(\"The Following Entries appear both in Included and Excluded \\\n",
        "        Training sets:\\n\", duplicated_entries)\n",
        "\n",
        "    try:\n",
        "        test_titles = test_in + test_ex\n",
        "        test_tuple = set(test_in + test_ex)\n",
        "        assert len(test_titles) == len(test_tuple)\n",
        "    except AssertionError:\n",
        "        print(\"\\nTesting Sets have duplicates!!\")\n",
        "        print(\"Len l1+l2={} vs Len set={}\".format(len(test_titles), \n",
        "                                                  len(test_tuple)))    \n",
        "        duplicated_entries = get_difference(test_titles, test_tuple)\n",
        "        print(\"The Following Entries appear both in Included and Excluded Testing sets:\\n\")\n",
        "        for i in duplicated_entries:\n",
        "            print(\"\\t - {}\".format(i))\n",
        "\n",
        "    try:\n",
        "        all_titles = train_titles + test_titles\n",
        "        all_tuple = set(train_titles + test_titles)\n",
        "        assert len(all_titles) == len(all_tuple)\n",
        "    except AssertionError:\n",
        "        print(\"\\nTraining set contains entries that are also in Testing set!!\")\n",
        "        print(\"Len l1+l2={} vs Len set={}\".format(len(all_titles), \n",
        "                                                  len(all_tuple)))    \n",
        "        print(\"The Following Entries appear both in Testing and Training sets: \\\n",
        "        \\n\", duplicated_entries)\n",
        "\n",
        "    assert len(duplicated_entries) == 0, \"Found errors\"\n",
        "    return duplicated_entries\n",
        "\n",
        "# Validate Entries\n",
        "duplicated_entries = validate_texts(titles_included_training, titles_excluded_training, \n",
        "               titles_included_testing, titles_excluded_testing)\n",
        "\n"
      ],
      "metadata": {
        "id": "gXyJpoURvdSz"
      },
      "execution_count": 13,
      "outputs": []
    },
    {
      "cell_type": "code",
      "source": [
        "for i in duplicated_entries:\n",
        "    print(i)"
      ],
      "metadata": {
        "id": "dX2lAUQN23RF"
      },
      "execution_count": 14,
      "outputs": []
    },
    {
      "cell_type": "code",
      "source": [],
      "metadata": {
        "id": "skm1ohdk-S_S"
      },
      "execution_count": 14,
      "outputs": []
    },
    {
      "cell_type": "code",
      "source": [],
      "metadata": {
        "id": "GNUKrUp2-Syn"
      },
      "execution_count": 14,
      "outputs": []
    },
    {
      "cell_type": "code",
      "source": [
        "# Split into two lists (training / testing)\n",
        "texts_list_training = texts_list_included_training + texts_list_excluded_training\n",
        "texts_list_training = sorted(texts_list_training, key=lambda d: d['year'])\n",
        "\n",
        "texts_list_testing = texts_list_included_testing + texts_list_excluded_testing\n",
        "texts_list_testing = sorted(texts_list_testing, key=lambda d: d['year'])\n",
        "\n",
        "all_texts_list = texts_list_training + texts_list_testing\n",
        "all_texts_list = sorted(all_texts_list, key=lambda d: d['year'])\n",
        "\n",
        "print(len(all_texts_list))\n",
        "# for text in all_texts:\n",
        "#     print(text, len(text))"
      ],
      "metadata": {
        "id": "Bgm9Ma0b40nh",
        "colab": {
          "base_uri": "https://localhost:8080/"
        },
        "outputId": "6eca3d18-2466-481e-a58c-360e02ab7e2b"
      },
      "execution_count": 15,
      "outputs": [
        {
          "output_type": "stream",
          "name": "stdout",
          "text": [
            "638\n"
          ]
        }
      ]
    },
    {
      "cell_type": "markdown",
      "source": [
        "## Text Filtering (preprocessing)\n",
        "\n",
        "######  # TextFilterComposite([ LemmatizerFilter(), StopWordsFilter() ]),\n",
        "\n",
        "### Imports"
      ],
      "metadata": {
        "id": "t4R3RSqa1lDk"
      }
    },
    {
      "cell_type": "code",
      "source": [
        "from nltk import pos_tag\n",
        "from nltk.corpus import stopwords\n",
        "from nltk.tokenize import word_tokenize\n",
        "from nltk.stem import WordNetLemmatizer\n",
        "from nltk.stem.porter import PorterStemmer"
      ],
      "metadata": {
        "id": "e_DSInt01yqA"
      },
      "execution_count": 16,
      "outputs": []
    },
    {
      "cell_type": "code",
      "source": [
        "import nltk\n",
        "nltk.download('punkt')\n",
        "nltk.download('averaged_perceptron_tagger')\n",
        "nltk.download('wordnet')\n",
        "nltk.download('stopwords')\n",
        "nltk.download('omw-1.4')"
      ],
      "metadata": {
        "id": "E2Bzke2xMAgx",
        "colab": {
          "base_uri": "https://localhost:8080/"
        },
        "outputId": "deb79d55-2aa3-4864-d525-4292f1841e63"
      },
      "execution_count": 17,
      "outputs": [
        {
          "output_type": "stream",
          "name": "stderr",
          "text": [
            "[nltk_data] Downloading package punkt to /root/nltk_data...\n",
            "[nltk_data]   Package punkt is already up-to-date!\n",
            "[nltk_data] Downloading package averaged_perceptron_tagger to\n",
            "[nltk_data]     /root/nltk_data...\n",
            "[nltk_data]   Package averaged_perceptron_tagger is already up-to-\n",
            "[nltk_data]       date!\n",
            "[nltk_data] Downloading package wordnet to /root/nltk_data...\n",
            "[nltk_data]   Package wordnet is already up-to-date!\n",
            "[nltk_data] Downloading package stopwords to /root/nltk_data...\n",
            "[nltk_data]   Package stopwords is already up-to-date!\n",
            "[nltk_data] Downloading package omw-1.4 to /root/nltk_data...\n",
            "[nltk_data]   Package omw-1.4 is already up-to-date!\n"
          ]
        },
        {
          "output_type": "execute_result",
          "data": {
            "text/plain": [
              "True"
            ]
          },
          "metadata": {},
          "execution_count": 17
        }
      ]
    },
    {
      "cell_type": "markdown",
      "source": [
        "### Text Filters"
      ],
      "metadata": {
        "id": "ovxRnp2MJYBM"
      }
    },
    {
      "cell_type": "code",
      "source": [
        "class TextFilterComposite:\n",
        "    def __init__ (self, filters):\n",
        "        self._filters = filters\n",
        "\n",
        "    def _filter (self, tokens):\n",
        "        result = tokens\n",
        "        for f in self._filters:\n",
        "            result = f.filter(result)\n",
        "        return (' ').join(result)\n",
        "\n",
        "class LemmatizerFilter:\n",
        "    def __init__ (self):\n",
        "        print('===== Configure the lemmatizer =====')\n",
        "        self._lemmatizer = WordNetLemmatizer()\n",
        "\n",
        "    def filter (self, tokens):\n",
        "        tags = pos_tag(tokens)\n",
        "        return [ self._lemmatizer.lemmatize(token[0], pos=token[1][0].lower())\n",
        "                    if token[1][0].lower() in ('a', 'n', 'v', 'r')\n",
        "                    else self._lemmatizer.lemmatize(token[0])\n",
        "                    for token in tags ]\n",
        "\n",
        "class StopWordsFilter:\n",
        "    def __init__ (self):\n",
        "        print('===== Configuring stop words removal =====')\n",
        "\n",
        "    def filter (self, tokens):\n",
        "        return [ word for word in tokens\n",
        "                 if not word.lower() in stopwords.words('english') ]\n"
      ],
      "metadata": {
        "id": "6NIpM0_oIp35"
      },
      "execution_count": 18,
      "outputs": []
    },
    {
      "cell_type": "code",
      "source": [
        "# Tokenization \n",
        "filters = [LemmatizerFilter(), StopWordsFilter()]\n",
        "textFilterObj = TextFilterComposite(filters)\n",
        "\n",
        "def filter_text(text_list):\n",
        "    result = []\n",
        "    for text in text_list:\n",
        "        tokens = word_tokenize(text['content'])\n",
        "        \n",
        "        # Converts list to filtered str\n",
        "        #   E.g.: ['Research', 'in', 'computer', 'science', ':', 'an', 'empirical', 'study'] -> 'Research computer science : empirical study'\n",
        "        filtered_text = textFilterObj._filter(tokens)\n",
        "\n",
        "        result.append({\n",
        "            'content': filtered_text.lower(),\n",
        "            'category': text['category'],\n",
        "            'year': text['year']\n",
        "        })\n",
        "    return result\n"
      ],
      "metadata": {
        "id": "127g9XZ1Hbn7",
        "colab": {
          "base_uri": "https://localhost:8080/"
        },
        "outputId": "ad6a549d-3c2d-433e-bc4e-7653276e8cd7"
      },
      "execution_count": 19,
      "outputs": [
        {
          "output_type": "stream",
          "name": "stdout",
          "text": [
            "===== Configure the lemmatizer =====\n",
            "===== Configuring stop words removal =====\n"
          ]
        }
      ]
    },
    {
      "cell_type": "code",
      "source": [
        "## 2) Calling filter method two times for each list (test | train)\n",
        "filtered_texts_list_testing = filter_text(texts_list_testing)\n",
        "filtered_texts_list_training = filter_text(texts_list_training)"
      ],
      "metadata": {
        "id": "KF7h8Cbe8K1u"
      },
      "execution_count": 20,
      "outputs": []
    },
    {
      "cell_type": "code",
      "source": [
        "print(len(filtered_texts_list_testing), filtered_texts_list_testing)\n",
        "print(len(filtered_texts_list_training), filtered_texts_list_training)"
      ],
      "metadata": {
        "id": "_YG7ZyPQLVhr",
        "colab": {
          "base_uri": "https://localhost:8080/"
        },
        "outputId": "de437dcb-0f3c-4378-c72b-603ebf5c94ae"
      },
      "execution_count": 21,
      "outputs": [
        {
          "output_type": "stream",
          "name": "stdout",
          "text": [
            "507 [{'content': 'operations technology organizational structure .', 'category': 'removido', 'year': 1976}, {'content': 'design science nested problem solve', 'category': 'removido', 'year': 2009}, {'content': \"large-scale empirical study practitioners ' use object-oriented concepts\", 'category': 'removido', 'year': 2010}, {'content': 'planning unknown : lessons learned ten months non-participant exploratory observations industry', 'category': 'selecionado', 'year': 2015}, {'content': 'exploratory study technology transfer software engineering', 'category': 'selecionado', 'year': 2015}, {'content': 'fast feedback cycles empirical software engineering research', 'category': 'selecionado', 'year': 2015}, {'content': 'integration se research industry : reflections , theories illustrative example', 'category': 'selecionado', 'year': 2015}, {'content': 'towards approach matching cmd dsr improve academia-industry software development partnership : case agile ux integration', 'category': 'removido', 'year': 2015}, {'content': 'proposal using design science educational technology research projects', 'category': 'removido', 'year': 2015}, {'content': 'university-industry collaboration open source software ( oss ) dataset mining software repository ( msr ) research', 'category': 'removido', 'year': 2015}, {'content': 'bibliometric analysis turkish software engineering research community', 'category': 'removido', 'year': 2015}, {'content': 'improved indoor positioning method based received signal strengths', 'category': 'removido', 'year': 2015}, {'content': 'industry-academia collaboration software testing : overview taic part 2015', 'category': 'removido', 'year': 2015}, {'content': 'alignment source code quality perspectives experimentation : industrial case', 'category': 'removido', 'year': 2015}, {'content': 'measuring software reliability : trend using machine learning techniques', 'category': 'removido', 'year': 2015}, {'content': 'industrial case study improving quality integrated software product use defect dependency .', 'category': 'removido', 'year': 2015}, {'content': 'challenges structured reuse adoption—lessons learn', 'category': 'removido', 'year': 2015}, {'content': 'establishing long-lasting relationships industry academia .', 'category': 'removido', 'year': 2015}, {'content': 'towards proactive management technical debt software metric .', 'category': 'removido', 'year': 2015}, {'content': 'difficulty factors obtaining access empirical studies industry', 'category': 'removido', 'year': 2015}, {'content': 'general theory software engineering : balancing human , social organizational capital', 'category': 'removido', 'year': 2015}, {'content': 'assessing requirement engineering software test alignmentâ\\x80\\x94five case study', 'category': 'removido', 'year': 2015}, {'content': 'technology transfer - requirements engineering research industrial practice open ( end ) debate', 'category': 'removido', 'year': 2015}, {'content': 'increase likelihood successful transfer industry -- going beyond empirical', 'category': 'removido', 'year': 2015}, {'content': 'fontys ict , partners education program : intensifying collaborations higher education software industry', 'category': 'removido', 'year': 2015}, {'content': 'organized innovation : framework effectively manage innovation', 'category': 'removido', 'year': 2015}, {'content': 'industrial collaboration vocational college : preliminary study', 'category': 'removido', 'year': 2015}, {'content': 'contextual nature innovation â\\x80\\x93 empirical investigation three software intensive product', 'category': 'removido', 'year': 2015}, {'content': 'requirements communication balancing large-scale software-intensive product development', 'category': 'removido', 'year': 2015}, {'content': 'development framework integrated model technology transfer', 'category': 'removido', 'year': 2015}, {'content': 'mutual knowledge transfer industry academia improve test withdefect taxonomy', 'category': 'removido', 'year': 2015}, {'content': 'experimental validation risk assessment method', 'category': 'removido', 'year': 2015}, {'content': 'model-based framework legal policy simulation legal compliance checking', 'category': 'removido', 'year': 2015}, {'content': 'model-driven engineering support development , test maintenance communication middleware', 'category': 'removido', 'year': 2015}, {'content': 'investigating probabilistic sampling approach large-scale survey software engineering', 'category': 'removido', 'year': 2015}, {'content': 'characterizing sampling frames software engineering surveys .', 'category': 'removido', 'year': 2015}, {'content': 'software quality research : process model-based technique', 'category': 'removido', 'year': 2015}, {'content': 'tasks challenges prototype development novel technology -- empirical study', 'category': 'removido', 'year': 2015}, {'content': 'see_me : software engineering education methodology exploration', 'category': 'removido', 'year': 2015}, {'content': 'design simulation perturb observe maximum power point tracking matlab simulink', 'category': 'removido', 'year': 2015}, {'content': 'teaching software engineering comic micro-movie design project', 'category': 'removido', 'year': 2015}, {'content': 'using case study teach student find fix logic flaw software', 'category': 'removido', 'year': 2015}, {'content': 'towards operationalization test-driven development skill : industrial empirical study', 'category': 'removido', 'year': 2015}, {'content': 'roadmapping problem practice : value creation perspective customer', 'category': 'removido', 'year': 2015}, {'content': 'requirement management -- control quality upstream commercial software project management', 'category': 'removido', 'year': 2015}, {'content': 'systematic study requirement engineering process practice mauritius', 'category': 'removido', 'year': 2015}, {'content': 'adaptive requirement prioritization ( arp ) : improving decision conflicting requirement', 'category': 'removido', 'year': 2015}, {'content': 'lessons learn local industrial energy efficiency initiative', 'category': 'removido', 'year': 2015}, {'content': 'learning lesson regional industrial energy efficiency initiative', 'category': 'removido', 'year': 2015}, {'content': 'mapping software test practice software test research — serp-test taxonomy', 'category': 'removido', 'year': 2015}, {'content': 'applying uml/marte industrial project : challenge , experience , guideline', 'category': 'removido', 'year': 2015}, {'content': 'user-centered adoption-centered design : case study hci research innovation becoming product', 'category': 'removido', 'year': 2015}, {'content': 'quest proper mediums technology transfer software engineering', 'category': 'removido', 'year': 2015}, {'content': 'case study artefact-based improvement practice', 'category': 'removido', 'year': 2015}, {'content': 'unending quest valid , useful software engineering theories', 'category': 'removido', 'year': 2015}, {'content': 'assessing kinect technology acceptance/diffusion healthcare ( case physical therapy )', 'category': 'removido', 'year': 2015}, {'content': 'top consortium : keeping control consortium-building ict r amp ; programme', 'category': 'removido', 'year': 2015}, {'content': 'comparative study software process improvement implementation success factor', 'category': 'removido', 'year': 2015}, {'content': 'difficulties running experiments software industry : experiences trenches', 'category': 'removido', 'year': 2015}, {'content': 'tracking project progress earned value management metrics', 'category': 'removido', 'year': 2015}, {'content': 'maturation empirical studies', 'category': 'removido', 'year': 2015}, {'content': 'step-by-step performance assessment improvement method erp implementation : action case study chinese company', 'category': 'removido', 'year': 2015}, {'content': 'practice-based computing : empirically ground conceptualization derive design case study', 'category': 'removido', 'year': 2015}, {'content': 'big data system development : embedded case study global outsourcing firm', 'category': 'removido', 'year': 2015}, {'content': 'competing value framework application organizational effectiveness voluntary organization : case study', 'category': 'removido', 'year': 2015}, {'content': 'evaluation information system investment : value dial approach close theory-practice gap', 'category': 'removido', 'year': 2015}, {'content': 'demystifying big data adoption : beyond fashion relative advantage', 'category': 'removido', 'year': 2015}, {'content': 'applying options thinking shape generativity digital innovation : action research connected cars', 'category': 'removido', 'year': 2015}, {'content': 'knowledge transfer planning execution offshore outsourcing : applied approach', 'category': 'removido', 'year': 2015}, {'content': 'assessing effect introduce new software development process : methodological description', 'category': 'removido', 'year': 2015}, {'content': 'continuous api design software ecosystems', 'category': 'removido', 'year': 2015}, {'content': 'teaching software developers perform ux tasks', 'category': 'removido', 'year': 2015}, {'content': 'nine challenge e-government action researcher', 'category': 'removido', 'year': 2015}, {'content': 'action design research : design e-wil manufacturing industry', 'category': 'removido', 'year': 2015}, {'content': 'closing practice loop : practice design research', 'category': 'removido', 'year': 2015}, {'content': 'researching dynamic phenomena complex organizations : collaborative practice research theory triangulation', 'category': 'removido', 'year': 2015}, {'content': 'organization innovation implications implementation information systems', 'category': 'removido', 'year': 2015}, {'content': 'analysis design web based system lppm umn', 'category': 'removido', 'year': 2015}, {'content': 'researcher ’ experiences supporting industrial software process improvement', 'category': 'selecionado', 'year': 2016}, {'content': 'softcoder approach : promoting software engineering academia-industry partnership use cmd , dsr ese', 'category': 'selecionado', 'year': 2016}, {'content': 'research framework build spi proposal small organization : competisoft experience', 'category': 'selecionado', 'year': 2016}, {'content': 'academic industrial software testing conferences : survey synergies', 'category': 'removido', 'year': 2016}, {'content': 'applying data analytics towards optimized issue management : industrial case study', 'category': 'removido', 'year': 2016}, {'content': 'applying design science research design evaluate real-time road traffic state estimation framework', 'category': 'removido', 'year': 2016}, {'content': 'survey types industry-academia collaboration', 'category': 'removido', 'year': 2016}, {'content': 'capturing cost avoidance reuse : systematic literature review industrial evaluation', 'category': 'removido', 'year': 2016}, {'content': 'botched releases : need roll back ? empirical study commercial web app', 'category': 'removido', 'year': 2016}, {'content': 'academy-industry collaboration effect involvement undergraduate student real world activity', 'category': 'removido', 'year': 2016}, {'content': 'heuristic approaches improve product quality large scale integrated software products', 'category': 'removido', 'year': 2016}, {'content': 'challenges best practice industry-academia collaboration software engineering : systematic literature review', 'category': 'removido', 'year': 2016}, {'content': 'mesram - method assess robustness measurement program large software development organization industrial evaluation', 'category': 'removido', 'year': 2016}, {'content': 'survey type industry-academia collaboration', 'category': 'removido', 'year': 2016}, {'content': 'systematic mapping study current practice indian software engineering', 'category': 'removido', 'year': 2016}, {'content': 'software startup -- research agenda', 'category': 'removido', 'year': 2016}, {'content': 'selecting right topics industry-academia collaborations software testing : experience report', 'category': 'removido', 'year': 2016}, {'content': 'empirical research software architecture : far come ?', 'category': 'removido', 'year': 2016}, {'content': 'impact analysis regional industry—university interaction : case industrial phd school', 'category': 'removido', 'year': 2016}, {'content': 'large-scale information retrieval software engineering-an experience report industrial application', 'category': 'removido', 'year': 2016}, {'content': 'critical view plm/alm convergence practice research', 'category': 'removido', 'year': 2016}, {'content': 'software development startup companies : greenfield startup model', 'category': 'removido', 'year': 2016}, {'content': 'software test process improvement approach : systematic literature review industrial case study', 'category': 'removido', 'year': 2016}, {'content': 'workshop video requirement communication', 'category': 'removido', 'year': 2016}, {'content': 'two-component language adaptation : design , semantics program analysis', 'category': 'removido', 'year': 2016}, {'content': 'comparing value-driven methods : experiment design .', 'category': 'removido', 'year': 2016}, {'content': 'technology transfer model : typology generic model', 'category': 'removido', 'year': 2016}, {'content': 'harnessing automated test case generators gui testing industry', 'category': 'removido', 'year': 2016}, {'content': 'effectiveness sufficient choose intervention ? considering resource use empirical software engineering', 'category': 'removido', 'year': 2016}, {'content': 'requirements traceability technologies selection industry', 'category': 'removido', 'year': 2016}, {'content': 'valorization assistive technology cognition : lessons practice', 'category': 'removido', 'year': 2016}, {'content': 'conceptual ux-aware model requirements', 'category': 'removido', 'year': 2016}, {'content': 'lean development design science research : deliberating principles , prospects pitfalls', 'category': 'removido', 'year': 2016}, {'content': 'requirements engineering innovation journalism : research preview', 'category': 'removido', 'year': 2016}, {'content': 'key management process technology transfer success', 'category': 'removido', 'year': 2016}, {'content': 'success factors technology transfer government laboratories', 'category': 'removido', 'year': 2016}, {'content': 'challenges staying together moving fast : exploratory study', 'category': 'removido', 'year': 2016}, {'content': 'technology transfer concepts', 'category': 'removido', 'year': 2016}, {'content': 'retrospective analysis sac requirements : engineering track', 'category': 'removido', 'year': 2016}, {'content': 'decision architect â\\x80\\x93 decision documentation tool industry', 'category': 'removido', 'year': 2016}, {'content': 'drr technology share transfer web-based platform : lessons learn korean study', 'category': 'removido', 'year': 2016}, {'content': 'project-based learning examples industry university courses : experience report undergraduate requirements engineering course', 'category': 'removido', 'year': 2016}, {'content': 'supervised approach automatic web document topic extraction use well-known web design feature', 'category': 'removido', 'year': 2016}, {'content': 'costs obstacle encounter technical debt management â\\x80\\x93 case study', 'category': 'removido', 'year': 2016}, {'content': 'practical guide select quality indicators assessing pareto-based search algorithms search-based software engineering', 'category': 'removido', 'year': 2016}, {'content': 'nonconformity resolving recommendations product line configuration', 'category': 'removido', 'year': 2016}, {'content': 'model-based incremental conformance check enable interactive product configuration', 'category': 'removido', 'year': 2016}, {'content': 'search-based decision order facilitate product line engineering cyber-physical system', 'category': 'removido', 'year': 2016}, {'content': 'design science method theory construction engineering context : “ phronetic tale research ”', 'category': 'removido', 'year': 2016}, {'content': 'towards improve adoption : effectiveness research tools real world .', 'category': 'removido', 'year': 2016}, {'content': 'mediating effect internalization technology adoption', 'category': 'removido', 'year': 2016}, {'content': 'secure complex monitoring event processing', 'category': 'removido', 'year': 2016}, {'content': 'communal antecedents adoption secure coding methodologies', 'category': 'removido', 'year': 2016}, {'content': 'evolution enterprise system implementation methodology adaptation reflexivity', 'category': 'removido', 'year': 2016}, {'content': 'software product assurance german space agency', 'category': 'removido', 'year': 2016}, {'content': 'managing software process evolution spacecraft customer ’ perspective', 'category': 'removido', 'year': 2016}, {'content': 'local spectral unmixing target detection', 'category': 'removido', 'year': 2016}, {'content': 'university corporation co-operation—social computing medium enterprises', 'category': 'removido', 'year': 2016}, {'content': 'agile big data analytics web-based systems : architecture-centric approach', 'category': 'removido', 'year': 2016}, {'content': 'inconsistent incongruent frame it-enabled change : action research study sale process innovation', 'category': 'removido', 'year': 2016}, {'content': 'current state social media research eparticipation developing countries : literature review', 'category': 'removido', 'year': 2016}, {'content': 'communication developers testers distributed continuous agile testing', 'category': 'removido', 'year': 2016}, {'content': 'danish agenda rethink project management', 'category': 'removido', 'year': 2016}, {'content': 'evaluation information system research framework : empirical evidence design science research project', 'category': 'removido', 'year': 2016}, {'content': 'applying service-dominant logic recurrent release software : action research study', 'category': 'removido', 'year': 2016}, {'content': 'collaborative research partnership knowledge mobilisation', 'category': 'removido', 'year': 2016}, {'content': 'action action research : elaborating concept action , role dilemma public e-service development project', 'category': 'removido', 'year': 2016}, {'content': 'reduce ux bottleneck -- train software developer', 'category': 'removido', 'year': 2016}, {'content': 'engaged problem formulation research', 'category': 'removido', 'year': 2016}, {'content': 'enablers , challenge relationship research impact theory generation', 'category': 'removido', 'year': 2016}, {'content': 'improving isd agility fast-moving software organization', 'category': 'removido', 'year': 2016}, {'content': 'agile method inspire project management-the half double initiative', 'category': 'removido', 'year': 2016}, {'content': 'mediating boundary knowledge knowing : ict r4d praxis', 'category': 'removido', 'year': 2016}, {'content': 'designing orchestrate embedded innovation network : inquiry microfranchising bangladesh', 'category': 'removido', 'year': 2016}, {'content': 'six issue cscw research community differ', 'category': 'removido', 'year': 2016}, {'content': 'agile method inspire industrywide project management initiative', 'category': 'removido', 'year': 2016}, {'content': 'innovation processes indigenous communities north-cultural , psychological technological knowledge practice', 'category': 'removido', 'year': 2016}, {'content': \"'let 's reinvent wheel ' : qualitative investigation collaboration australian gp education training sector\", 'category': 'removido', 'year': 2016}, {'content': 'integrated model strategizing base pyramid : action research mexican agribusiness', 'category': 'removido', 'year': 2016}, {'content': 'it-based revenue cycle management : action research relational coordination', 'category': 'removido', 'year': 2016}, {'content': \"scientists ' involvement partnership generation dissemination horticultural technology innovation africa\", 'category': 'removido', 'year': 2016}, {'content': 'meeting industry-academia research collaboration challenges agile methodologies', 'category': 'selecionado', 'year': 2017}, {'content': 'industry-academia collaborations software engineering : empirical analysis challenges , patterns anti-patterns research projects', 'category': 'selecionado', 'year': 2017}, {'content': 'industry -- academia collaboration software testing : experience success story canada turkey', 'category': 'selecionado', 'year': 2017}, {'content': 'serp-test : taxonomy support industry -- academia communication', 'category': 'selecionado', 'year': 2017}, {'content': 'model-based testing digital tvs : industry-as-laboratory approach', 'category': 'selecionado', 'year': 2017}, {'content': 'structuring automotive product line feature model : exploratory study opel', 'category': 'removido', 'year': 2017}, {'content': 'case studies industry-academia research collaborations software development agile', 'category': 'removido', 'year': 2017}, {'content': 'wide band patch antenna structures cognitive radio applications', 'category': 'removido', 'year': 2017}, {'content': 'concept analysis programming language research : done well right', 'category': 'removido', 'year': 2017}, {'content': 'exploring interconnectivity risk management , human element , action research : canadian arctic perspective', 'category': 'removido', 'year': 2017}, {'content': 'inventorying systems : action research .', 'category': 'removido', 'year': 2017}, {'content': 'benefits drawbacks software reference architectures', 'category': 'removido', 'year': 2017}, {'content': 'systematic literature review agile software development : tertiary study', 'category': 'removido', 'year': 2017}, {'content': 'using visual abstract lens communicating promoting design science research software engineering', 'category': 'removido', 'year': 2017}, {'content': 'empirical studies question-answering systems : discussion', 'category': 'removido', 'year': 2017}, {'content': 'benefits drawback software reference architecture : case study', 'category': 'removido', 'year': 2017}, {'content': 'case study industry-academia research collaboration software development agile', 'category': 'removido', 'year': 2017}, {'content': 'industry-academia collaboration : conflicts strategies stimulate innovation employability', 'category': 'removido', 'year': 2017}, {'content': 'ensuring quality research objects earth science domain', 'category': 'removido', 'year': 2017}, {'content': 'teaching software product lines : snapshot current practices challenges', 'category': 'removido', 'year': 2017}, {'content': 'external assessors ’ perception towards final year project', 'category': 'removido', 'year': 2017}, {'content': 'academia-industry linkages : nurturing entrepreneurial graduates -- case study university sains islam malaysia ( usim )', 'category': 'removido', 'year': 2017}, {'content': 'supporting change impact analysis using recommendation system : industrial case study safety-critical context', 'category': 'removido', 'year': 2017}, {'content': 'experience-based guidelines effective efficient data extraction systematic reviews software engineering', 'category': 'removido', 'year': 2017}, {'content': 'idispenser — big data enabled intelligent dispenser', 'category': 'removido', 'year': 2017}, {'content': 'approach align business perspectives soa service identification', 'category': 'removido', 'year': 2017}, {'content': 'use case self-organizing adaptive supply chain', 'category': 'removido', 'year': 2017}, {'content': 'supporting defect causal analysis practice cross-company data cause requirement engineering problem', 'category': 'removido', 'year': 2017}, {'content': 'loco coco : automatically construct coordination communication network model-based system engineering data', 'category': 'removido', 'year': 2017}, {'content': 'estimating energy impact software releases deployment strategies : kpmg case study', 'category': 'removido', 'year': 2017}, {'content': 'evaluating efficacy value-driven method : controlled experiment', 'category': 'removido', 'year': 2017}, {'content': 'piggybacking autonomous hauler : business models enabling system-of-systems approach mapping underground mine', 'category': 'removido', 'year': 2017}, {'content': 'improving classification accuracy crowdsourcing hierarchical reorganization', 'category': 'removido', 'year': 2017}, {'content': 'programming language adoption epidemiological phenomenon', 'category': 'removido', 'year': 2017}, {'content': 'continuous management design- run-time artifacts self-adaptive systems', 'category': 'removido', 'year': 2017}, {'content': 'government strategies towards ip management', 'category': 'removido', 'year': 2017}, {'content': 'software product management', 'category': 'removido', 'year': 2017}, {'content': 'systematic mapping study dsl evolution', 'category': 'removido', 'year': 2017}, {'content': 'complex nature mde evolution impact changeability', 'category': 'removido', 'year': 2017}, {'content': \"structured approach academic technology transfer : lesson learn imec 's 101 programme\", 'category': 'removido', 'year': 2017}, {'content': 'extraction protein-protein interaction use natural language processing base pattern match', 'category': 'removido', 'year': 2017}, {'content': 'teaching research methodologies robot cs lab course', 'category': 'removido', 'year': 2017}, {'content': 'dissection test-driven development process : really matter test-first test-last ?', 'category': 'removido', 'year': 2017}, {'content': 'practitioners perceive relevance requirements engineering research ? ongoing study', 'category': 'removido', 'year': 2017}, {'content': 'reducing excess requirements orthogonal categorizations problem formulation : results factorial experiment', 'category': 'removido', 'year': 2017}, {'content': 'new frontiers requirements engineering', 'category': 'removido', 'year': 2017}, {'content': 'understanding problem formulation system engineering influence system affordability : system think investigation', 'category': 'removido', 'year': 2017}, {'content': 'higher education support small medium enterprises : local experience energy efficiency', 'category': 'removido', 'year': 2017}, {'content': 'empowering testing activities modeling', 'category': 'removido', 'year': 2017}, {'content': 'revisiting criteria description mde artifacts', 'category': 'removido', 'year': 2017}, {'content': 'using argumentation theory analyse software practitionersâ\\x80\\x99 defeasible evidence , inference belief', 'category': 'removido', 'year': 2017}, {'content': 'server virtualization implementation business public organization worthwhile investment ?', 'category': 'removido', 'year': 2017}, {'content': 'towards scalable non-monotonic stream reasoning via input dependency analysis', 'category': 'removido', 'year': 2017}, {'content': 'adoption smp : technology acceptance model ( tam ) perspective', 'category': 'removido', 'year': 2017}, {'content': \"brazilian smes ' innovation strategy : agro-industry , construction retail industry\", 'category': 'removido', 'year': 2017}, {'content': 'grounded design-a praxeological research perspective', 'category': 'removido', 'year': 2017}, {'content': 'improving use analytics big data change decision-making culture : design approach', 'category': 'removido', 'year': 2017}, {'content': 'governing nonprofit platform ecosystems -- information platform refugee', 'category': 'removido', 'year': 2017}, {'content': 'enabling effective operational risk management financial institution : action research study', 'category': 'removido', 'year': 2017}, {'content': 'reflective technology assimilation : facilitating electronic health record assimilation small physician practice', 'category': 'removido', 'year': 2017}, {'content': 'useful business case : value creation project', 'category': 'removido', 'year': 2017}, {'content': 'adding value every sprint : case study large-scale continuous requirements engineering .', 'category': 'removido', 'year': 2017}, {'content': 'political maneuvering business process transformation : pluralist approach', 'category': 'removido', 'year': 2017}, {'content': 'product innovation scrum : longitudinal case study', 'category': 'removido', 'year': 2017}, {'content': 'project portfolio governance practice : investigation work design problem', 'category': 'removido', 'year': 2017}, {'content': 'insights practitioner design science research', 'category': 'removido', 'year': 2017}, {'content': 'adoption ux evaluation practice : action research study software organization', 'category': 'removido', 'year': 2017}, {'content': 'leveraging organizational climate theory understand industry-academia collaboration', 'category': 'selecionado', 'year': 2018}, {'content': 'protocol tools conducting agile software engineering research industrial-academic setting : preliminary study', 'category': 'selecionado', 'year': 2018}, {'content': 'recruitment , engagement feedback empirical software engineering study industrial context', 'category': 'selecionado', 'year': 2018}, {'content': 'continuous collaborative technology transfer : software engineering research real-time industry impact', 'category': 'selecionado', 'year': 2018}, {'content': 'towards model transfer knowledge software engineering research practice', 'category': 'selecionado', 'year': 2018}, {'content': 'sustainability analysis ease learn artifact-based requirement engineering : newest member family study ( ’ girl ! )', 'category': 'removido', 'year': 2018}, {'content': 'light-touch interventions improve software development security', 'category': 'removido', 'year': 2018}, {'content': 'approaches , success factor , barrier technology transfer software engineering—results systematic literature review', 'category': 'removido', 'year': 2018}, {'content': 'empirical study evaluation perspective knowledge capitalisation brazilian software industry', 'category': 'removido', 'year': 2018}, {'content': 'scaling agile large organization : practices , challenge , success factor', 'category': 'removido', 'year': 2018}, {'content': 'semantic knowledge management system support software engineer : implementation static evaluation interview ericsson', 'category': 'removido', 'year': 2018}, {'content': 'codex : metamodel ontology guide execution cod experiment', 'category': 'removido', 'year': 2018}, {'content': 'toward improving industrial adoption : choice programming languages development environments', 'category': 'removido', 'year': 2018}, {'content': 'collaborative research project network : knowledge transfer fuzzy front end innovation', 'category': 'removido', 'year': 2018}, {'content': 'cooperation knowledge-based institution business : empirical study network theory', 'category': 'removido', 'year': 2018}, {'content': 'certus : organizational effort towards research-based innovation software verification validation', 'category': 'removido', 'year': 2018}, {'content': 'degree apprenticeship : disruption business usual', 'category': 'removido', 'year': 2018}, {'content': 'empirical investigation transferring research software technology innovation : case data-driven national security software', 'category': 'removido', 'year': 2018}, {'content': 'start-up ecosystem framework cooperation start-up company knowledge-based institution poland', 'category': 'removido', 'year': 2018}, {'content': 'abc software engineering research', 'category': 'removido', 'year': 2018}, {'content': 'study comparison industrial v . academic software product line research published splc', 'category': 'removido', 'year': 2018}, {'content': 'effective customer relationship management atb financial : case study industry-academia collaboration data analytics', 'category': 'removido', 'year': 2018}, {'content': 'making medicine : case study innovative academia -- industry educational partnership', 'category': 'removido', 'year': 2018}, {'content': 'bridging industry-academia collaboration gap focus towards final year projects', 'category': 'removido', 'year': 2018}, {'content': 'board 34 : cross-institution collaboration : analysis power electronic technologies solar panel arrays', 'category': 'removido', 'year': 2018}, {'content': 'university-industry collaboration : new way educate future generation engineer india', 'category': 'removido', 'year': 2018}, {'content': 'reformations promoting active learning via course based research [ cbr ] university fiji .', 'category': 'removido', 'year': 2018}, {'content': 'traceability information model small entities iso/iec 29110', 'category': 'removido', 'year': 2018}, {'content': \"study effect of'university administration 's effort ' and'trust iu'on'industry-university barrier '\", 'category': 'removido', 'year': 2018}, {'content': 'empirical software engineering expert use student professional experiment', 'category': 'removido', 'year': 2018}, {'content': 'motivating contribution : open innovation perspective share open source software', 'category': 'removido', 'year': 2018}, {'content': 'detecting requirement defect nlp pattern : industrial experience railway domain', 'category': 'removido', 'year': 2018}, {'content': 'technology transfer model element university-industry collaboration', 'category': 'removido', 'year': 2018}, {'content': 'developing use checklist improve software effort estimation : multi-case study', 'category': 'removido', 'year': 2018}, {'content': 'similarity-based prioritization test case automation', 'category': 'removido', 'year': 2018}, {'content': 'improving continuous integration similarity-based test case selection', 'category': 'removido', 'year': 2018}, {'content': 'transferring interactive search-based software test industry', 'category': 'removido', 'year': 2018}, {'content': 'impact semantic transparency understanding reviewing social goal models', 'category': 'removido', 'year': 2018}, {'content': 'software-intensive product engineering start-ups : taxonomy', 'category': 'removido', 'year': 2018}, {'content': 'applying automated test case generation industry : retrospective', 'category': 'removido', 'year': 2018}, {'content': 'evidence-based risk management requirement engineering', 'category': 'removido', 'year': 2018}, {'content': 'platform automated provisioning architecture information large-scale service-oriented software system', 'category': 'removido', 'year': 2018}, {'content': 'supporting diagnosis requirements violations systems systems', 'category': 'removido', 'year': 2018}, {'content': 'assessment safety processes requirements engineering', 'category': 'removido', 'year': 2018}, {'content': 'artifact compatibility enabling collaboration artificial intelligence ecosystem', 'category': 'removido', 'year': 2018}, {'content': 'investigation inner source software development : preliminary findings systematic literature review', 'category': 'removido', 'year': 2018}, {'content': 'motivating contributions', 'category': 'removido', 'year': 2018}, {'content': 'accelerating microbiota product development : societal impact value cycle conceptual model shape improve public-private valorization process', 'category': 'removido', 'year': 2018}, {'content': 'open meta-modelling framework via meta-object protocol', 'category': 'removido', 'year': 2018}, {'content': 'scrum-centric framework organize software engineering academic course', 'category': 'removido', 'year': 2018}, {'content': 'assessment impact information technology marketing advertising', 'category': 'removido', 'year': 2018}, {'content': 'team composition software engineering project courses', 'category': 'removido', 'year': 2018}, {'content': 'involving external stakeholders project courses', 'category': 'removido', 'year': 2018}, {'content': 'critical issues requirements engineering education', 'category': 'removido', 'year': 2018}, {'content': 'reaching steady state software engineering project courses .', 'category': 'removido', 'year': 2018}, {'content': 'effectiveness unit tests test-driven development', 'category': 'removido', 'year': 2018}, {'content': 'quality requirements analysis machine learning .', 'category': 'removido', 'year': 2018}, {'content': 'predicting substance use disorder adhd patients use long-short term memory model', 'category': 'removido', 'year': 2018}, {'content': 'scenario-driven continuous mobility requirements analysis mobile app maintenance', 'category': 'removido', 'year': 2018}, {'content': \"experiences using practitioner 's checklists evaluate industrial relevance requirements engineering experiments\", 'category': 'removido', 'year': 2018}, {'content': 'zero-permission acoustic cross-device tracking', 'category': 'removido', 'year': 2018}, {'content': 'use system development methodologies development mobile applications : worthy use ?', 'category': 'removido', 'year': 2018}, {'content': 'technical debt management brazilian software organizations : need , expectation , fact ?', 'category': 'removido', 'year': 2018}, {'content': 'unified model technology push process application workshop setting', 'category': 'removido', 'year': 2018}, {'content': 'transfering software form univesities industries : case study ictl', 'category': 'removido', 'year': 2018}, {'content': 'framework empirical examination model structural dependency among inhibitor impact spi implementation initiative software smes', 'category': 'removido', 'year': 2018}, {'content': 'emperor ’ new clothes : transparency metrication customer-supplier relationship', 'category': 'removido', 'year': 2018}, {'content': 'design science field : practice design research', 'category': 'removido', 'year': 2018}, {'content': 'comparison single , dual triple rapid serial visual presentation paradigms p300 speller', 'category': 'removido', 'year': 2018}, {'content': 'researching cooperation communication continuous software engineering', 'category': 'removido', 'year': 2018}, {'content': 'scrum product innovation : longitudinal embed case study', 'category': 'removido', 'year': 2018}, {'content': 'hierarchical multi-tenancy business business software services', 'category': 'removido', 'year': 2018}, {'content': 'management strategies knowledge transformation : study learning effects industry-union-university collaborative e-learning initiatives', 'category': 'removido', 'year': 2018}, {'content': 'evaluating emergency management decision support system practitioner-driven scenario : action design research', 'category': 'removido', 'year': 2018}, {'content': 'characterizing industry-academia collaboration software engineering : evidence 101 project', 'category': 'selecionado', 'year': 2019}, {'content': 'generative modeling games exploratory industry-academic research', 'category': 'selecionado', 'year': 2019}, {'content': 'contextualizing research evidence knowledge translation software engineering', 'category': 'selecionado', 'year': 2019}, {'content': 'interventions software security : creating lightweight program assurance techniques developers', 'category': 'removido', 'year': 2019}, {'content': 'search industry-relevant regression test research', 'category': 'removido', 'year': 2019}, {'content': 'machine learn software engineering practice : industrial case study', 'category': 'removido', 'year': 2019}, {'content': 'gap academia industry : case empirical evaluation three software test method', 'category': 'removido', 'year': 2019}, {'content': 'pearson correlation analysis softwareengineering practice micro small-sizedsoftware industry sinaloa , mexico', 'category': 'removido', 'year': 2019}, {'content': 'increasing impact industry -- academia collaboration co-production', 'category': 'removido', 'year': 2019}, {'content': 'fashion education sri lanka : nexus formal informal education', 'category': 'removido', 'year': 2019}, {'content': 'software models source code maintainability : systematic literature review', 'category': 'removido', 'year': 2019}, {'content': 'critical success factor ( csfs ) university-industry collaboration ( uic ) project research university', 'category': 'removido', 'year': 2019}, {'content': 'research effectiveness technology transfer technology alliance : evidence turkish smes', 'category': 'removido', 'year': 2019}, {'content': 'models , process , role university technology transfer management : systematic review', 'category': 'removido', 'year': 2019}, {'content': 'optimization technology transfer process use gantt chart critical path analysis flow diagram : case study korean automobile industry', 'category': 'removido', 'year': 2019}, {'content': 'chatbot goal-oriented requirement model', 'category': 'removido', 'year': 2019}, {'content': 'quality-aware rapid software development project : q-rapids project', 'category': 'removido', 'year': 2019}, {'content': 'practical experience value apply software analytics manage quality', 'category': 'removido', 'year': 2019}, {'content': 'framework analysis multi-party collaboration', 'category': 'removido', 'year': 2019}, {'content': 'scalable software testing verification industrial-scale systems : challenges', 'category': 'removido', 'year': 2019}, {'content': 'reasoning research quality alignment software engineering', 'category': 'removido', 'year': 2019}, {'content': 'effectively reduce tens millions tests : industrial case study adaptive random testing', 'category': 'removido', 'year': 2019}, {'content': 'apprentice perception work base learning : preliminary observation', 'category': 'removido', 'year': 2019}, {'content': 'collaborative method identification selection data sources market-driven requirement engineering', 'category': 'removido', 'year': 2019}, {'content': 'method evaluate knowledge resources agile software development', 'category': 'removido', 'year': 2019}, {'content': 'extraction test cases procedures textual use cases reduce test effort : test factory experience report', 'category': 'removido', 'year': 2019}, {'content': 'adaboost-multilayer perceptron predict student ’ performance software engineering', 'category': 'removido', 'year': 2019}, {'content': 'transfer commercialization technologies universities small companies south africa', 'category': 'removido', 'year': 2019}, {'content': \"study determinants enterprise 's capacity absorb new technologies .\", 'category': 'removido', 'year': 2019}, {'content': 'participating industry based social service program : report student perception learn need', 'category': 'removido', 'year': 2019}, {'content': 'syllabus usability engineering multi-project courses .', 'category': 'removido', 'year': 2019}, {'content': 'industry project requirement engineering education : application university course us comparison germany', 'category': 'removido', 'year': 2019}, {'content': \"final year students ' approaches implementing complex distributed systems\", 'category': 'removido', 'year': 2019}, {'content': 'step towards introducing data analytics visualization students electrical sciences : initiative machine learning course', 'category': 'removido', 'year': 2019}, {'content': 'practitioners really want : requirement visual notation conceptual modeling', 'category': 'removido', 'year': 2019}, {'content': 'knowledge transfer , sharing , management system based causality requirements change management', 'category': 'removido', 'year': 2019}, {'content': 'taxonomy improving industry-academia communication iot vulnerability management', 'category': 'removido', 'year': 2019}, {'content': 'automated refactoring ocl constraints search', 'category': 'removido', 'year': 2019}, {'content': 'ethical interviews software engineering', 'category': 'removido', 'year': 2019}, {'content': 'integrative double kaizen loop ( idkl ) : towards culture continuous learning sustainable improvements software organizations', 'category': 'removido', 'year': 2019}, {'content': 'exploring role knowledge , innovation technology management ( knit ) capabilities influence research development', 'category': 'removido', 'year': 2019}, {'content': 'ict-enabled refugee integration : research agenda', 'category': 'removido', 'year': 2019}, {'content': 'cerse - catalog empirical research software engineering : systematic mapping study', 'category': 'removido', 'year': 2019}, {'content': 'flipped healthcare better worse', 'category': 'removido', 'year': 2019}, {'content': 'digital inclusion elderly citizen sustainable society', 'category': 'removido', 'year': 2019}, {'content': 'strategizing bottom pyramid : action research mexican agribusiness', 'category': 'removido', 'year': 2019}, {'content': 'impact erp system academic performance : case study approach', 'category': 'removido', 'year': 2019}, {'content': 'socio-technical approach manage analytics-as-a-service -- result action design research project', 'category': 'removido', 'year': 2019}, {'content': 'action research', 'category': 'removido', 'year': 2019}, {'content': 'release cycle management : action research study software company', 'category': 'removido', 'year': 2019}, {'content': 'contextualizing competence learning industry 4.0', 'category': 'removido', 'year': 2019}, {'content': 'work-integrated learning outcome use action design research practice', 'category': 'removido', 'year': 2019}, {'content': 'hybrid rsa-dh cipher signed encrypted messages', 'category': 'removido', 'year': 2019}, {'content': 'applying action design research ( { adr } ) develop collaboration virtual programming laboratory supporting system student centered learning', 'category': 'removido', 'year': 2019}, {'content': 'information system india : dare cross', 'category': 'removido', 'year': 2019}, {'content': 'successful engagement practitioners software engineering researchers : evidence 26 international industry–academia collaborative projects', 'category': 'selecionado', 'year': 2020}, {'content': 'together stronger : evidence-based reflection industry-academia collaboration software test', 'category': 'selecionado', 'year': 2020}, {'content': 'fostering industry-academia collaboration software engineering using action research : case study', 'category': 'selecionado', 'year': 2020}, {'content': 'exploring improving industry-academia communication software engineering', 'category': 'selecionado', 'year': 2020}, {'content': 'lessons learned research co-creation : making industry-academia collaboration work', 'category': 'selecionado', 'year': 2020}, {'content': 'university-software industry collaboration : empirical study base knowledge management', 'category': 'selecionado', 'year': 2020}, {'content': 'framework improve university -- industry collaboration', 'category': 'selecionado', 'year': 2020}, {'content': 'third generation industrial co-production software engineering', 'category': 'selecionado', 'year': 2020}, {'content': 'design science paradigm frame empirical software engineering', 'category': 'selecionado', 'year': 2020}, {'content': 'interventions long-term software security : creating lightweight program assurance technique developer', 'category': 'removido', 'year': 2020}, {'content': \"exploring industry 's challenge software testing : empirical study\", 'category': 'removido', 'year': 2020}, {'content': 'measuring improving agile processes small-size software development company', 'category': 'removido', 'year': 2020}, {'content': 'action research improving sustainability assessment framework instruments', 'category': 'removido', 'year': 2020}, {'content': 'towards automated detection data pipeline faults', 'category': 'removido', 'year': 2020}, {'content': 'action research user requirements processes brazilian public institution', 'category': 'removido', 'year': 2020}, {'content': 'start problems solutions ? medical device design industry academia', 'category': 'removido', 'year': 2020}, {'content': 'measurement process micro small software maintenance company : empirical study', 'category': 'removido', 'year': 2020}, {'content': 'suspense driver university-industry collaboration', 'category': 'removido', 'year': 2020}, {'content': 'guidelines conduct interactive rapid review software engineering -- focus technology transfer knowledge exchange', 'category': 'removido', 'year': 2020}, {'content': 'ivory tower democratization industrialization : landscape view real-world adaptation artificial intelligence', 'category': 'removido', 'year': 2020}, {'content': 'action research research methodology software engineering', 'category': 'removido', 'year': 2020}, {'content': 'deploying testar enable remote test industrial ci pipeline : case-based evaluation', 'category': 'removido', 'year': 2020}, {'content': 'generating real-world impact academic research : experience report university impact hub', 'category': 'removido', 'year': 2020}, {'content': 'anti-patterns industrial phd field ict', 'category': 'removido', 'year': 2020}, {'content': 'ensuring sustainability knowledge', 'category': 'removido', 'year': 2020}, {'content': 'um ensaio sobre ensino de engenharia de software brasil e mundo : li { \\\\c { c } } { \\\\~o } e para ufop .', 'category': 'removido', 'year': 2020}, {'content': \"colabora { \\\\c { c } } { \\\\~a } universidade-empresa contexto da ind { \\\\ ' u } stria 4.0\", 'category': 'removido', 'year': 2020}, {'content': 'practical relevance software engineering research : synthesize community ’ voice', 'category': 'removido', 'year': 2020}, {'content': 'towards unified catalog attribute guide industry software test technique selection', 'category': 'removido', 'year': 2020}, {'content': 'misinformation battle revisited : counter strategies clinics artificial intelligence', 'category': 'removido', 'year': 2020}, {'content': 'knowledge , skills , abilities specialized curricula cyber defense : results interviews cyber professionals', 'category': 'removido', 'year': 2020}, {'content': 'collaborating deliver value health care : exploring condition require successful healthcare life science sector collaboration', 'category': 'removido', 'year': 2020}, {'content': 'establishing implement data collaboration public good : critical factor analysis scale practice', 'category': 'removido', 'year': 2020}, {'content': 'representing software project vision mean video : quality model vision video', 'category': 'removido', 'year': 2020}, {'content': 'key factor university-to-university knowledge technology transfer international student mobility', 'category': 'removido', 'year': 2020}, {'content': 'requirements engineering safety-critical systems : interview study industry practitioners', 'category': 'removido', 'year': 2020}, {'content': 'safety practices requirements engineering : uni-repm safety module', 'category': 'removido', 'year': 2020}, {'content': 'threat modeling : infancy maturity', 'category': 'removido', 'year': 2020}, {'content': 'industrial applicability augmented testing : empirical study', 'category': 'removido', 'year': 2020}, {'content': 'evaluating strategizing onboarding software developer large-scale globally distribute project', 'category': 'removido', 'year': 2020}, {'content': 'share , , : balance objective complexity open source software contribution', 'category': 'removido', 'year': 2020}, {'content': 'using context-aware approach recommend code reviewers : findings industrial case study', 'category': 'removido', 'year': 2020}, {'content': 'test automation gauge framework : experience best practice', 'category': 'removido', 'year': 2020}, {'content': \"two decades empirical research developers ' information needs : preliminary analysis\", 'category': 'removido', 'year': 2020}, {'content': 'amalthea rcm back : practical architectural mapping scheme', 'category': 'removido', 'year': 2020}, {'content': 'critical success factor stage technological transfer university industry : study andean country', 'category': 'removido', 'year': 2020}, {'content': 'automotive virtual verification ecosystem : impediments enablers', 'category': 'removido', 'year': 2020}, {'content': 'role simulation-based study software engineering research', 'category': 'removido', 'year': 2020}, {'content': 'team discussions dynamics devops tool adoptions oss projects', 'category': 'removido', 'year': 2020}, {'content': 'inner source software development : current thinking agenda future research', 'category': 'removido', 'year': 2020}, {'content': 'comprehensive software project management framework', 'category': 'removido', 'year': 2020}, {'content': 'towards lightweight approach evaluation requirement engineering impact project area', 'category': 'removido', 'year': 2020}, {'content': 'application topsis method preliminary assessment technological transfer options .', 'category': 'removido', 'year': 2020}, {'content': 'teaching requirements engineering industry case examples .', 'category': 'removido', 'year': 2020}, {'content': 'questions data scientists software engineering : replication', 'category': 'removido', 'year': 2020}, {'content': 'software requirement interoperable standard-based power system modeling tool', 'category': 'removido', 'year': 2020}, {'content': 'engineering education gaming : case study engineering ethics game modeling', 'category': 'removido', 'year': 2020}, {'content': 'software engineering research align design science : review', 'category': 'removido', 'year': 2020}, {'content': 'quality indicators search-based software engineering : empirical evaluation', 'category': 'removido', 'year': 2020}, {'content': 'artificial intelligence digital agency', 'category': 'removido', 'year': 2020}, {'content': 'data governance collective action problem', 'category': 'removido', 'year': 2020}, {'content': 'accumulating design knowledge reference model : insight 12 year ’ research data management', 'category': 'removido', 'year': 2020}, {'content': 'mind gap : collaborative competence e-learning model university industry', 'category': 'removido', 'year': 2020}, {'content': 'accumulating design knowledge : mechanisms-based approach', 'category': 'removido', 'year': 2020}, {'content': 'management analytics-as-a-service-results action design research project', 'category': 'removido', 'year': 2020}, {'content': 'international scientific collaboration artificial intelligence analysis based web data', 'category': 'removido', 'year': 2020}, {'content': 'mobilising knowledge : action design research case study use technology safeguard endanger nature-based tourism attraction', 'category': 'removido', 'year': 2020}, {'content': 'assessment interprofessional collaborative practice : spanish version aitcs scale', 'category': 'removido', 'year': 2020}, {'content': 'bridging design thinking entrecomp entrepreneurship workshops : learning experience', 'category': 'removido', 'year': 2020}, {'content': 'learning platform owner : bmw enhances app development cars', 'category': 'removido', 'year': 2020}, {'content': 'tailored participatory action research fo community', 'category': 'removido', 'year': 2020}, {'content': 'problematizing design research', 'category': 'removido', 'year': 2020}, {'content': 'industry-academia research collaboration software engineering : certus model', 'category': 'selecionado', 'year': 2021}, {'content': 'guiding selection research methodology industryâ\\x80\\x93academia collaboration software engineering', 'category': 'selecionado', 'year': 2021}, {'content': 'case study industry -- academia communication joint software engineering research project', 'category': 'selecionado', 'year': 2021}, {'content': 'knowledge management university-software industry collaboration', 'category': 'selecionado', 'year': 2021}, {'content': 'exploring dimensions university-company collaborations : research , talent , beyond', 'category': 'selecionado', 'year': 2021}, {'content': 'context checklist industrial software engineering research practice', 'category': 'selecionado', 'year': 2021}, {'content': 'guiding selection research methodology industry–academia collaboration software engineering', 'category': 'removido', 'year': 2021}, {'content': 'model-based testing practice : experience report web application domain', 'category': 'removido', 'year': 2021}, {'content': 'experiences adopting automated data validation industrial machine learning project', 'category': 'removido', 'year': 2021}, {'content': 'automotive ux design data-driven development : narrowing gap support practitioner', 'category': 'removido', 'year': 2021}, {'content': 'realizing systematic reuse automated acceptance test practice', 'category': 'removido', 'year': 2021}, {'content': 'diversity gamification evaluation software engineering education industry : trends , comparisons gaps', 'category': 'removido', 'year': 2021}, {'content': 'toward efficient academia-industry collaboration : case study joint vr system development', 'category': 'removido', 'year': 2021}, {'content': 'blackboard office : look practitioners perceive software testing education', 'category': 'removido', 'year': 2021}, {'content': 'factors adopting implementing accessibility cornerstone software development processes organizations', 'category': 'removido', 'year': 2021}, {'content': 'data management data pipelines : empirical investigation embedded system domain', 'category': 'removido', 'year': 2021}, {'content': 'towards lean service sustainability : action research approach', 'category': 'removido', 'year': 2021}, {'content': \"die entwicklungsbeschleunigung von robotic process automation l { \\\\ '' } sungen -- fallstudie einer deutschen gesundheitsbeh { \\\\ '' } rde\", 'category': 'removido', 'year': 2021}, {'content': 'business value appropriation roadmap artificial intelligence', 'category': 'removido', 'year': 2021}, {'content': 'case study industry–academia communication joint software engineering research project', 'category': 'removido', 'year': 2021}, {'content': 'university challenge collaboration relationship industry', 'category': 'removido', 'year': 2021}, {'content': 'software team manager want skill identification ?', 'category': 'removido', 'year': 2021}, {'content': 'leading fair adoption across institution : collaboration academic library technology provider', 'category': 'removido', 'year': 2021}, {'content': 'complementary technology traces software practice : retrospective reflection sixteen years evolution ericsson', 'category': 'removido', 'year': 2021}, {'content': 'lessons learned lean r\\\\ & project', 'category': 'removido', 'year': 2021}, {'content': 'meteamâ\\x80\\x94a method characterize mature software metric team', 'category': 'removido', 'year': 2021}, {'content': 'robust machine learning critical care—software engineering medical perspectives', 'category': 'removido', 'year': 2021}, {'content': 'take flywheel fly : kickstarting growing a/b test momentum scale', 'category': 'removido', 'year': 2021}, {'content': \"pr { \\\\ ' } cticas en la gesti { \\\\ ' } n de colaboraciones cient { \\\\'\\\\i } fica tecnol { \\\\ ' } gicas universidad-industria desde la unidades de investigaci { \\\\ ' } n universitarias\", 'category': 'removido', 'year': 2021}, {'content': 'empirical strategies software engineering research : literature survey', 'category': 'removido', 'year': 2021}, {'content': \"'s circular argument : examining novel configuration impact information flow submarine control room\", 'category': 'removido', 'year': 2021}, {'content': 'marketplace industrial case studies software engineering', 'category': 'removido', 'year': 2021}, {'content': 'trends challenges software engineering mobile domain', 'category': 'removido', 'year': 2021}, {'content': 'solving problems enabling problem-solving ? purity empirical software engineering effective co-production ( invited keynote )', 'category': 'removido', 'year': 2021}, {'content': 'bridging gap : voices industry research industrial relevance splc', 'category': 'removido', 'year': 2021}, {'content': 'modeling software prototyping process research context', 'category': 'removido', 'year': 2021}, {'content': 'academic industry collaboration : literature review', 'category': 'removido', 'year': 2021}, {'content': 'changing museums cooperation collaboration', 'category': 'removido', 'year': 2021}, {'content': 'critical success factor university-industry collaboration : bibliometric analysis', 'category': 'removido', 'year': 2021}, {'content': 'testdcat 3.0 : catalog test debt subtypes management activity', 'category': 'removido', 'year': 2021}, {'content': 'modeling simulation service infrastructure capability discovery , composition execution simulation service', 'category': 'removido', 'year': 2021}, {'content': 'knowledge technology transfer sustainability report : fomenting stakeholder engagement sustainable development', 'category': 'removido', 'year': 2021}, {'content': 'technology transfer orient sustainable development : proposal theoretical model base barrier opportunity', 'category': 'removido', 'year': 2021}, {'content': 'model-based automation test script generation across product variants : railway perspective', 'category': 'removido', 'year': 2021}, {'content': 'adapting behavior driven development ( bdd ) large-scale software system', 'category': 'removido', 'year': 2021}, {'content': 'industry-academia research collaborations covid-19', 'category': 'removido', 'year': 2021}, {'content': 'analysis conceptual theoretical approaches problem technology transfer foreign universities .', 'category': 'removido', 'year': 2021}, {'content': 'transferring model-based development methodology automotive industry', 'category': 'removido', 'year': 2021}, {'content': 'using bayesian networks support managing technological risk software projects', 'category': 'removido', 'year': 2021}, {'content': 'using machine intelligence prioritise code review requests', 'category': 'removido', 'year': 2021}, {'content': 'towards evaluation usability portability serious games', 'category': 'removido', 'year': 2021}, {'content': 'status technology transfer innovation ethiopia', 'category': 'removido', 'year': 2021}, {'content': 'towards methodology participant selection software engineering experiments : vision future', 'category': 'removido', 'year': 2021}, {'content': 'self-adaptation driven sysml goal models -- literature review', 'category': 'removido', 'year': 2021}, {'content': 'evaluation stakeholder satisfaction-oriented method prioritising change requests', 'category': 'removido', 'year': 2021}, {'content': 'redesigning postgraduate software engineering module increase engagement', 'category': 'removido', 'year': 2021}, {'content': 'structural equation model technology transfer non-profit organisation community product entrepreneur', 'category': 'removido', 'year': 2021}, {'content': 'assisted requirement selection cluster', 'category': 'removido', 'year': 2021}, {'content': 'varied : editor collaborative , real-time feature modeling', 'category': 'removido', 'year': 2021}, {'content': 'startups born academia : structural pattern monetization failures , rectified', 'category': 'removido', 'year': 2021}, {'content': 'exploring capability international technology transfer intermediary emerge developed country', 'category': 'removido', 'year': 2021}, {'content': 'interspecies information system', 'category': 'removido', 'year': 2021}, {'content': 'emerging requirement engineering models : identifying challenges important providing solutions even better', 'category': 'removido', 'year': 2021}, {'content': 'industry-academia , multidisciplinary expertise-heterogeneous design approach : case study design mobility', 'category': 'removido', 'year': 2021}, {'content': 'enablers facilitate industry-academia , transnational education university-community partnering agility higher education', 'category': 'removido', 'year': 2021}, {'content': 'bridging ‘ valley death ’ : agile principles applied industry-academia research innovation projects ?', 'category': 'removido', 'year': 2021}, {'content': 'evaluation software fault proneness support vector machine biomedical applications', 'category': 'removido', 'year': 2021}, {'content': 'toward complex adaptive system : case zhongguancun entrepreneurship ecosystem', 'category': 'removido', 'year': 2021}, {'content': 'pluralist theory building : methodology generalize data theory', 'category': 'removido', 'year': 2021}, {'content': 'project strategy matrix : systematizing design management explicit project strategy', 'category': 'removido', 'year': 2021}, {'content': 'ambidexterity entrepreneurship studies : literature review research agenda', 'category': 'removido', 'year': 2021}, {'content': 'realize business value big data analytics capability -- results action design research approach', 'category': 'removido', 'year': 2021}, {'content': 'improving impact big data analytics projects benefits dependency networks', 'category': 'removido', 'year': 2021}, {'content': 'research perspectives : improving action research integrating methods', 'category': 'removido', 'year': 2021}, {'content': 'educating global maritime professional—a case collaborative e-learning', 'category': 'removido', 'year': 2021}, {'content': 'exploring opportunities experimental use communicative spaces overcome defensive routines increase information systems utilization', 'category': 'removido', 'year': 2021}, {'content': 'enabling automate integration architectural language : experience report automotive domain', 'category': 'removido', 'year': 2022}, {'content': 'mapping state art scientific production requirements engineering research : bibliometric analysis', 'category': 'removido', 'year': 2022}, {'content': 'making design research relevant design practice : way ?', 'category': 'removido', 'year': 2022}, {'content': 'method assess argue practical significance software engineering', 'category': 'removido', 'year': 5555}]\n",
            "131 [{'content': 'action research—a scientific approach ?', 'category': 'removido', 'year': 1955}, {'content': \"popper 's definition verisimilitude\", 'category': 'removido', 'year': 1974}, {'content': 'assessment scientific merits action research .', 'category': 'removido', 'year': 1978}, {'content': 'evolution information technology : implications curriculum', 'category': 'removido', 'year': 1989}, {'content': 'framework experience learning : essential nature action research', 'category': 'removido', 'year': 1991}, {'content': 'assessment system software engineering scholar institution', 'category': 'removido', 'year': 1994}, {'content': 'experimental software engineering : report state art', 'category': 'removido', 'year': 1995}, {'content': 'design natural science research information technology', 'category': 'removido', 'year': 1995}, {'content': '4+1 view model architecture', 'category': 'removido', 'year': 1995}, {'content': 'role experimentation software engineering : past , current , future', 'category': 'removido', 'year': 1996}, {'content': 'technology transfer research university : search boundary university-industry collaboration', 'category': 'removido', 'year': 1996}, {'content': 'collaborations : close industry-academia gap', 'category': 'removido', 'year': 1997}, {'content': 'economics product line development', 'category': 'removido', 'year': 1997}, {'content': 'information technology future cities', 'category': 'removido', 'year': 1998}, {'content': 'guidelines conducting software process improvement studies industry', 'category': 'selecionado', 'year': 1999}, {'content': 'strategies industrial relevance software engineering education', 'category': 'selecionado', 'year': 1999}, {'content': 'understanding improve technology transfer software engineering', 'category': 'selecionado', 'year': 1999}, {'content': 'rigor relevance mis research : beyond approach positivism alone', 'category': 'removido', 'year': 1999}, {'content': 'haemo dialysis software architecture design experiences', 'category': 'removido', 'year': 1999}, {'content': 'investigating information systems action research', 'category': 'removido', 'year': 1999}, {'content': 'research relevancy manifesto', 'category': 'removido', 'year': 1999}, {'content': 'fraunhofer : german model apply research technology transfer', 'category': 'selecionado', 'year': 2000}, {'content': 'push make software engineering respectable', 'category': 'removido', 'year': 2000}, {'content': 'applying adjust software process improvement model practice : use ideal model small software enterprise', 'category': 'removido', 'year': 2000}, {'content': 'sustainability university-industry research collaboration : empirical assessment', 'category': 'removido', 'year': 2000}, {'content': 'dual imperative action research', 'category': 'removido', 'year': 2001}, {'content': 'requirements engineering technology transfer : obstacle , incentive improvement agenda', 'category': 'selecionado', 'year': 2002}, {'content': 'collaborative practice research', 'category': 'selecionado', 'year': 2002}, {'content': 'lessons learned 25 years process improvement : rise fall nasa software engineering laboratory', 'category': 'selecionado', 'year': 2002}, {'content': 'using qualitative research method build software maintenance methodology', 'category': 'removido', 'year': 2002}, {'content': 'make good research software engineering ?', 'category': 'removido', 'year': 2002}, {'content': 'research software engineering : analysis literature', 'category': 'removido', 'year': 2002}, {'content': 'effective university â\\x80\\x93 industry interaction : : multi-case evaluation collaborative r & projects', 'category': 'removido', 'year': 2002}, {'content': 'external experiments -- workable paradigm collaboration industry academia', 'category': 'selecionado', 'year': 2003}, {'content': 'requirements engineering technology transfer : experience report', 'category': 'selecionado', 'year': 2003}, {'content': 'partnership software industry academia', 'category': 'removido', 'year': 2003}, {'content': 'guide project management body knowledge ( pmbok guides )', 'category': 'removido', 'year': 2004}, {'content': 'design science information systems research', 'category': 'removido', 'year': 2004}, {'content': 'determining factor success r & cooperative agreement firm research organization', 'category': 'removido', 'year': 2004}, {'content': 'design science information system research', 'category': 'removido', 'year': 2004}, {'content': 'implementing requirement engineering process throughout organization : success factor challenge', 'category': 'removido', 'year': 2004}, {'content': 'designing secure database', 'category': 'removido', 'year': 2005}, {'content': 'developing use cases scenarios requirements process', 'category': 'removido', 'year': 2005}, {'content': 'requirements abstraction model', 'category': 'removido', 'year': 2005}, {'content': 'model technology transfer practice', 'category': 'selecionado', 'year': 2006}, {'content': 'sustainable technology transfer', 'category': 'selecionado', 'year': 2006}, {'content': \"technology transfer : succeed n't\", 'category': 'selecionado', 'year': 2006}, {'content': 'co-evolutionary service-oriented model technology transfer software engineering', 'category': 'selecionado', 'year': 2006}, {'content': 'empirical assessment use stereotype improve comprehension uml model : set experiment', 'category': 'removido', 'year': 2006}, {'content': 'validity action research - validity action research', 'category': 'removido', 'year': 2006}, {'content': 'testing telecoms software quviq quickcheck', 'category': 'removido', 'year': 2006}, {'content': 'action research path solid research culture is/se costa rica ?', 'category': 'selecionado', 'year': 2007}, {'content': 'research collaborations academia industry', 'category': 'selecionado', 'year': 2007}, {'content': 'continuing professional development practitioner integrated learning', 'category': 'removido', 'year': 2007}, {'content': 'factors influencing industrial practices software architecture evaluation : empirical investigation', 'category': 'removido', 'year': 2007}, {'content': 'anatomy design theory', 'category': 'removido', 'year': 2007}, {'content': 'university-industry collaboration : grafting entrepreneurial paradigm onto academic structure', 'category': 'removido', 'year': 2007}, {'content': 'university industry relationships open innovation : towards research agenda', 'category': 'removido', 'year': 2007}, {'content': 'design science research methodology information systems research', 'category': 'removido', 'year': 2007}, {'content': '3-step knowledge transition : case study architecture evaluation', 'category': 'selecionado', 'year': 2008}, {'content': 'requirements engineering process improvement : knowledge transfer experience', 'category': 'selecionado', 'year': 2008}, {'content': 'management university -- industry collaborations involving empirical studies software enginee', 'category': 'selecionado', 'year': 2008}, {'content': 'theory development design science research : anatomy research project', 'category': 'removido', 'year': 2008}, {'content': 'predicting weekly defect inflow large software project base project planning test status', 'category': 'removido', 'year': 2008}, {'content': 'engaging scholar : three type academic consulting impact university industry', 'category': 'removido', 'year': 2008}, {'content': 'guidelines conduct report case study research software engineering', 'category': 'removido', 'year': 2008}, {'content': 'software engineering technology innovation turning research result industrial success', 'category': 'selecionado', 'year': 2009}, {'content': 'industry academia collaboration : experience report small university', 'category': 'selecionado', 'year': 2009}, {'content': 'context industrial software engineering research', 'category': 'removido', 'year': 2009}, {'content': 'concern visibility base station development -- - empirical investigation', 'category': 'removido', 'year': 2009}, {'content': 'technology transfer decision support requirement engineering research : systematic review rej', 'category': 'removido', 'year': 2009}, {'content': 'framework develop measurement system industrial evaluation', 'category': 'removido', 'year': 2009}, {'content': 'action research use software engineering : initial survey', 'category': 'removido', 'year': 2009}, {'content': 'industrial impact lessons learned', 'category': 'selecionado', 'year': 2010}, {'content': 'observations industry-as-laboratory research project darwin 1', 'category': 'selecionado', 'year': 2010}, {'content': \"modeling language 's evolution driven tight interaction academia industry\", 'category': 'selecionado', 'year': 2010}, {'content': 'prioritizing countermeasures countermeasure method software security ( cm-sec )', 'category': 'removido', 'year': 2010}, {'content': 'systematic review regression test selection technique', 'category': 'removido', 'year': 2010}, {'content': 'systematic review application empirical investigation search-based test case generation', 'category': 'removido', 'year': 2010}, {'content': 'focus groups artifact refinement evaluation design research', 'category': 'removido', 'year': 2010}, {'content': 'agile collaborative research : action principles industry-academia collaboration', 'category': 'selecionado', 'year': 2011}, {'content': 'empirical research software architecture : opportunities , challenge , approach', 'category': 'removido', 'year': 2011}, {'content': 'delay secrecy : industry sponsorship jeopardize disclosure academic research ?', 'category': 'removido', 'year': 2011}, {'content': 'method evaluating rigor industrial relevance technology evaluations', 'category': 'removido', 'year': 2011}, {'content': 'takes two tango -- experience report industry -- academia collaboration', 'category': 'selecionado', 'year': 2012}, {'content': 'success factors powering industry-academia collaboration', 'category': 'selecionado', 'year': 2012}, {'content': 'research-based innovation : tale three project model-driven engineering', 'category': 'selecionado', 'year': 2012}, {'content': 'reducing test effort : systematic mapping study exist approach', 'category': 'removido', 'year': 2012}, {'content': 'adapting lean enterprise self-assessment tool software development domain', 'category': 'removido', 'year': 2012}, {'content': 'exploring duality product organizational architecture : test â\\x80\\x9cmirroringâ\\x80\\x9d hypothesis', 'category': 'removido', 'year': 2012}, {'content': 'conducting empirical study industry : balancing rigor relevance', 'category': 'selecionado', 'year': 2013}, {'content': 'conducting long-term case study software firm : experience report', 'category': 'selecionado', 'year': 2013}, {'content': 'empirical software engineering research industry : top 10 challenge', 'category': 'selecionado', 'year': 2013}, {'content': 'researcher consideration conduct empirical study industry', 'category': 'selecionado', 'year': 2013}, {'content': 'success factor empirical study industry-academia collaboration : reflection', 'category': 'selecionado', 'year': 2013}, {'content': 'like hot : automating electric kettle using palcom', 'category': 'removido', 'year': 2013}, {'content': 'decision support framework metric selection goal-based measurement program : gqm-dsfms', 'category': 'removido', 'year': 2013}, {'content': 'countermeasure graph software security risk assessment : action research', 'category': 'removido', 'year': 2013}, {'content': 'improving software security static automate code analysis industry setting', 'category': 'removido', 'year': 2013}, {'content': 'challenges practice align requirement verification validation : case study six company', 'category': 'removido', 'year': 2013}, {'content': 'model-based test suite generation function block diagrams using uppaal model checker', 'category': 'removido', 'year': 2013}, {'content': 'mos : integrate model-based search-based testing tool function block diagrams', 'category': 'removido', 'year': 2013}, {'content': 'challenges flexible safety-critical software development - industrial qualitative survey', 'category': 'removido', 'year': 2013}, {'content': 'worldviews , research methods , relationship validity empirical software engineering research', 'category': 'removido', 'year': 2013}, {'content': 'rearm : reuse-based economic model software reference architectures', 'category': 'removido', 'year': 2013}, {'content': 'benefits drawbacks reference architectures', 'category': 'removido', 'year': 2013}, {'content': 'framework software reference architecture analysis review', 'category': 'removido', 'year': 2013}, {'content': 'building lean thinking telecom software development organization : strength challenge', 'category': 'removido', 'year': 2013}, {'content': 'variability quality attribute service-based software system : systematic literature review', 'category': 'removido', 'year': 2013}, {'content': 'action research model industry-academia collaboration software engineering context', 'category': 'selecionado', 'year': 2014}, {'content': 'academia industry collaboration : getting closer key !', 'category': 'selecionado', 'year': 2014}, {'content': 'tool-driven technology transfer support software architecture decision', 'category': 'selecionado', 'year': 2014}, {'content': 'enablers impediments collaborative research software testing : empirical exploration', 'category': 'selecionado', 'year': 2014}, {'content': 'finding relevant research solutions practical problems : serp taxonomy architecture', 'category': 'selecionado', 'year': 2014}, {'content': 'foundations long-term collaborative research', 'category': 'selecionado', 'year': 2014}, {'content': 'get cogs synch : time horizon aspects industry -- academia collaboration', 'category': 'selecionado', 'year': 2014}, {'content': 'practical experiences designing conducting empirical studies industry-academia collaboration', 'category': 'selecionado', 'year': 2014}, {'content': '4+1 view model industry -- academia collaboration', 'category': 'selecionado', 'year': 2014}, {'content': 'topic selection industry experiments', 'category': 'selecionado', 'year': 2014}, {'content': 'lessons learned applying design science bridging collaboration gap industry academia empirical software engineering', 'category': 'selecionado', 'year': 2014}, {'content': 'embedding research industrial field : case transition software product line', 'category': 'selecionado', 'year': 2014}, {'content': 'bridging gap : se technology transfer practice : study design preliminary results', 'category': 'selecionado', 'year': 2014}, {'content': 'network analysis large scale open source project', 'category': 'removido', 'year': 2014}, {'content': 'alignment practices affect distances software development : theory model', 'category': 'removido', 'year': 2014}, {'content': 'supporting regression test scoping visual analytics', 'category': 'removido', 'year': 2014}, {'content': 'considering rigor relevance evaluate test drive development : systematic review', 'category': 'removido', 'year': 2014}, {'content': 'heuristics thread-level speculation web applications', 'category': 'removido', 'year': 2014}, {'content': 'overview demise nortel networks key lessons learned : systemic effect environment , resilience black-cloud formation', 'category': 'removido', 'year': 2014}, {'content': 'elicitation instrument operationalising gqm+strategies ( gqm+s-ei )', 'category': 'removido', 'year': 2014}, {'content': 'artifacts software reference architectures : case study', 'category': 'removido', 'year': 2014}, {'content': 'combining lean thinking agile methods software development : case study finnish provider wireless embedded systems detailed', 'category': 'removido', 'year': 2014}]\n"
          ]
        }
      ]
    },
    {
      "cell_type": "code",
      "source": [
        "print(\"Size of Test set:\", len(filtered_texts_list_testing))\n",
        "print(\"Size of Trainset:\", len(filtered_texts_list_training))"
      ],
      "metadata": {
        "id": "DU6-45koKZyz",
        "colab": {
          "base_uri": "https://localhost:8080/"
        },
        "outputId": "2f337041-f1f9-4621-fc89-274cbfb7e831"
      },
      "execution_count": 22,
      "outputs": [
        {
          "output_type": "stream",
          "name": "stdout",
          "text": [
            "Size of Test set: 507\n",
            "Size of Trainset: 131\n"
          ]
        }
      ]
    },
    {
      "cell_type": "markdown",
      "source": [
        "## Generate Dataset\n",
        "\n",
        "######  # GenerateDataset(TfidfVectorizer(ngram_range=(1,3), use_idf=True)),\n",
        "\n",
        "### Imports"
      ],
      "metadata": {
        "id": "bcjZdsU316sG"
      }
    },
    {
      "cell_type": "code",
      "source": [
        "from sklearn.feature_extraction.text import TfidfVectorizer"
      ],
      "metadata": {
        "id": "_t3uc4rJNgxx"
      },
      "execution_count": 23,
      "outputs": []
    },
    {
      "cell_type": "code",
      "source": [
        "class GenerateDataset:\n",
        "    def __init__ (self, vectorizer=TfidfVectorizer()):\n",
        "        self._vectorizer = vectorizer\n",
        "\n",
        "datasetGenerator = GenerateDataset(TfidfVectorizer(ngram_range=(1,3), use_idf=True))"
      ],
      "metadata": {
        "id": "IIjRjG9g1_Xl"
      },
      "execution_count": 24,
      "outputs": []
    },
    {
      "cell_type": "code",
      "source": [
        "def generate_dataset(filtered_text_list):\n",
        "    texts = [ text_data['content'] for text_data in filtered_text_list ]\n",
        "\n",
        "    # Category: 1 == 'selecionado' | 0 == 'removido'\n",
        "    categories = [ 1 if text_data['category'] == 'selecionado' else 0 for text_data in filtered_text_list ]\n",
        "    years = [ text_data['year'] for text_data in filtered_text_list ]\n",
        "    features = datasetGenerator._vectorizer.fit_transform(texts)\n",
        "\n",
        "    dataset = {\n",
        "        'texts': texts,\n",
        "        'features': features,\n",
        "        'categories': np.array(categories),\n",
        "        'years': years\n",
        "    }\n",
        "\n",
        "    print(dataset['features'].shape)\n",
        "    return dataset\n"
      ],
      "metadata": {
        "id": "sXJqkz2x9OO4"
      },
      "execution_count": 25,
      "outputs": []
    },
    {
      "cell_type": "code",
      "source": [
        "## 2) Calling method two times for each list (test | train)\n",
        "dataset_training = generate_dataset(filtered_texts_list_training)\n",
        "dataset_testing = generate_dataset(filtered_texts_list_testing)"
      ],
      "metadata": {
        "id": "cx8Li2cKa1IA",
        "colab": {
          "base_uri": "https://localhost:8080/"
        },
        "outputId": "6006580c-d723-4497-ca34-f65c4c14613e"
      },
      "execution_count": 26,
      "outputs": [
        {
          "output_type": "stream",
          "name": "stdout",
          "text": [
            "(131, 1707)\n",
            "(507, 7465)\n"
          ]
        }
      ]
    },
    {
      "cell_type": "code",
      "source": [
        "print(dataset_testing['features'].max) "
      ],
      "metadata": {
        "id": "8xU_B1rUOZQf",
        "colab": {
          "base_uri": "https://localhost:8080/"
        },
        "outputId": "fccded35-8f9c-439d-920d-4dbf9ec3f2c9"
      },
      "execution_count": 27,
      "outputs": [
        {
          "output_type": "stream",
          "name": "stdout",
          "text": [
            "<bound method _minmax_mixin.max of <507x7465 sparse matrix of type '<class 'numpy.float64'>'\n",
            "\twith 11044 stored elements in Compressed Sparse Row format>>\n"
          ]
        }
      ]
    },
    {
      "cell_type": "markdown",
      "source": [
        "# Uses Feature Selection"
      ],
      "metadata": {
        "id": "4msLIgZg1-aj"
      }
    },
    {
      "cell_type": "code",
      "source": [
        "from sklearn.model_selection import StratifiedKFold\n",
        "from sklearn.feature_selection import RFECV, VarianceThreshold, SelectKBest, chi2"
      ],
      "metadata": {
        "id": "oMp9FsJUIXhi"
      },
      "execution_count": 28,
      "outputs": []
    },
    {
      "cell_type": "code",
      "source": [
        "class USESFeatureSelection:\n",
        "    def __init__ (self, k=-1):\n",
        "        assert k > 0\n",
        "        self._k = k\n",
        "        self._affinity_score = []\n",
        "\n",
        "    def _affinity (self, word_frequency_column, categories, category):\n",
        "        ncw = 0\n",
        "        nc = 0\n",
        "        nw = 0\n",
        "        for i in range(0, len(categories)):\n",
        "            if categories[i] == category: nc += 1\n",
        "            if word_frequency_column[i] > 0: nw += 1\n",
        "            if categories[i] == category and word_frequency_column[i] > 0: ncw += 1\n",
        "        return ncw / (nc + nw - ncw)\n",
        "\n",
        "\n",
        "    def _score (self, features, categories):\n",
        "        n_words = features.shape[1]\n",
        "        self._affinity_score = [\n",
        "            self._affinity(features[:,i], categories, 1) -\n",
        "            self._affinity(features[:,i], categories, 0)\n",
        "            for i in range(0, n_words) ]\n",
        "        return (self._affinity_score, [])\n",
        "\n",
        "    def execute(self, dt):\n",
        "        print('===== Feature selection - USES =====')\n",
        "        X = dt['features']\n",
        "        y = dt['categories']\n",
        "        fs = SelectKBest(self._score, k=self._k)\n",
        "        dt['features'] = fs.fit_transform(X, y)\n",
        "        print(dt['features'].shape)\n",
        "        return dt\n"
      ],
      "metadata": {
        "id": "WxemBTP3GWER"
      },
      "execution_count": 29,
      "outputs": []
    },
    {
      "cell_type": "markdown",
      "source": [
        "# Set number of K features at the begining of the file"
      ],
      "metadata": {
        "id": "i8UwHX8L_5YA"
      }
    },
    {
      "cell_type": "code",
      "source": [
        "# Initialize Feature Selection Class\n",
        "featureSelection = USESFeatureSelection(k=k_fs)"
      ],
      "metadata": {
        "id": "CvzfMtq2_psP"
      },
      "execution_count": 30,
      "outputs": []
    },
    {
      "cell_type": "code",
      "source": [
        "# Feature Selection for training\n",
        "dataset_training_kN_fs = featureSelection.execute(dataset_training)"
      ],
      "metadata": {
        "colab": {
          "base_uri": "https://localhost:8080/"
        },
        "outputId": "85bf179c-d301-4fd1-f8c5-af6b264b3637",
        "id": "sbwYjSfY_psQ"
      },
      "execution_count": 31,
      "outputs": [
        {
          "output_type": "stream",
          "name": "stdout",
          "text": [
            "===== Feature selection - USES =====\n",
            "(131, 1000)\n"
          ]
        }
      ]
    },
    {
      "cell_type": "code",
      "source": [
        "# Feature Selection for testing\n",
        "dataset_testing_kN_fs = featureSelection.execute(dataset_testing)"
      ],
      "metadata": {
        "colab": {
          "base_uri": "https://localhost:8080/"
        },
        "outputId": "65d8f2cc-6b50-43d2-a274-da91220cd60e",
        "id": "Z80iblDT_psQ"
      },
      "execution_count": 32,
      "outputs": [
        {
          "output_type": "stream",
          "name": "stdout",
          "text": [
            "===== Feature selection - USES =====\n",
            "(507, 1000)\n"
          ]
        }
      ]
    },
    {
      "cell_type": "code",
      "source": [],
      "metadata": {
        "id": "xSaI4bxTBzq8"
      },
      "execution_count": 32,
      "outputs": []
    },
    {
      "cell_type": "markdown",
      "source": [
        "### K-Fold Split"
      ],
      "metadata": {
        "id": "ecZxQF8BJM5G"
      }
    },
    {
      "cell_type": "code",
      "source": [
        "import random\n",
        "from keras import layers\n",
        "from keras.models import Sequential\n",
        "from keras.wrappers.scikit_learn import KerasClassifier\n",
        "\n",
        "from sklearn import tree, metrics, svm, naive_bayes, ensemble, linear_model, neural_network\n",
        "from sklearn.model_selection import cross_validate, TimeSeriesSplit, GridSearchCV, train_test_split"
      ],
      "metadata": {
        "id": "er7QOi_kJiiP"
      },
      "execution_count": 33,
      "outputs": []
    },
    {
      "cell_type": "markdown",
      "source": [
        "#### Define K-Fold split method"
      ],
      "metadata": {
        "id": "IIAIuEasWGIa"
      }
    },
    {
      "cell_type": "code",
      "source": [
        "class YearsSplit:\n",
        "    def __init__ (self, n_splits=4, years=[]):\n",
        "        self._n_splits = n_splits\n",
        "        self._years = years\n",
        "        self._test_indexes = []\n",
        "        current = max(years)\n",
        "        for i in range(n_splits):\n",
        "            test_index = years.index(current)\n",
        "            if len(years[test_index:]) < 5:\n",
        "                current = max(years[:test_index])\n",
        "                test_index = years.index(current)\n",
        "\n",
        "            self._test_indexes.append(test_index)\n",
        "            current = max(years[:test_index])\n",
        "\n",
        "    def split (self, X, y, groups=None):\n",
        "        previous = len(self._years)\n",
        "        for test_index in self._test_indexes:\n",
        "            train = [ i for i in range(test_index) ]\n",
        "            test = [ i for i in range(test_index, previous) ]\n",
        "            previous = test_index\n",
        "            yield train, test\n"
      ],
      "metadata": {
        "id": "uTvdqzCCJMQ5"
      },
      "execution_count": 34,
      "outputs": []
    },
    {
      "cell_type": "markdown",
      "source": [
        "### Define simple classifier (SVM and DT)"
      ],
      "metadata": {
        "id": "oVxna1YrWKda"
      }
    },
    {
      "cell_type": "code",
      "source": [
        "class SimpleClassifier:\n",
        "    def __init__ (self, seed, n_splits=5):\n",
        "        self._seed = seed\n",
        "        self._n_splits = n_splits\n",
        "\n",
        "    def execute (self, dataset_train, dataset_test):\n",
        "        print(\"Executing...\")\n",
        "        X = dataset_train['features']\n",
        "        y = dataset_train['categories']   \n",
        "        \n",
        "        groups = dataset_train['years']\n",
        "        random.seed(self._seed)\n",
        "\n",
        "        kfold = YearsSplit(n_splits=self._n_splits, years=groups)                 \n",
        "        model = self.get_classifier(X, y)   # Pega modelo de classifier \n",
        "\n",
        "        scores = cross_validate(model, X, y, cv=kfold, scoring=['f1_macro', 'precision_macro', 'recall_macro'])\n",
        "        print(\"OUR APPROACH F-measure: %s on average and %s SD\" %\n",
        "                (scores['test_f1_macro'].mean(), scores['test_f1_macro'].std()))\n",
        "        print(\"OUR APPROACH Precision: %s on average and %s SD\" %\n",
        "                (scores['test_precision_macro'].mean(), scores['test_precision_macro'].std()))\n",
        "        print(\"OUR APPROACH Recall: %s on average and %s SD\" %\n",
        "                (scores['test_recall_macro'].mean(), scores['test_recall_macro'].std()))\n",
        "\n",
        "        X_train = dataset_train['features']\n",
        "        y_train = dataset_train['categories']\n",
        "        X_test = dataset_test['features']\n",
        "        y_test = dataset_test['categories']\n",
        "\n",
        "        model.fit(X_train, y_train)\n",
        "        y_pred = model.predict(X_test) \n",
        "\n",
        "        # TODO: Remove print\n",
        "        print(\"Y_PRED #1:\", len(y_pred), \"\\n\", y_pred, \"\\n\")\n",
        "\n",
        "        scores['probabilities'] = y_pred\n",
        "        scores['y_test'] = y_test\n",
        "\n",
        "        correct_exclusion_rate = []\n",
        "        threasholds = []\n",
        "        missed = []\n",
        "        fscore_threashold = []\n",
        "        exclusion_baseline = []\n",
        "        missed_baseline = []\n",
        "        for train_index, test_index in kfold.split(X, y):\n",
        "            X_train, X_test = X[train_index], X[test_index]\n",
        "            y_train, y_test = y[train_index], y[test_index]\n",
        "            model.fit(X_train, y_train)\n",
        "\n",
        "            y_score = model.predict_proba(X_train)[:, 1] \n",
        "            \n",
        "            # TODO: Remove print\n",
        "            print(\"Y_PRED #2:\", len(y_score), \"\\n\", y_score, \"\\n\")\n",
        "            \n",
        "            precision, recall, threasholds2 = metrics.precision_recall_curve(\n",
        "                    y_train, y_score)\n",
        "            y_score = model.predict_proba(X_test)[:, 1]  \n",
        "        \n",
        "            # TODO: Remove print\n",
        "            print(\"Y_PRED #3:\", len(y_score), \"\\n\", y_score, \"\\n\")\n",
        "        \n",
        "            if (threasholds2[0] > 0.5):\n",
        "                threasholds2 = [0.5]\n",
        "            matrix = metrics.confusion_matrix(\n",
        "                    y_test, [ 0 if i < threasholds2[0] else 1 for i in y_score ])\n",
        "            correct_exclusion_rate.append(\n",
        "                    matrix[0, 0] /\n",
        "                    (matrix[0, 0] + matrix[1, 1] + matrix[0, 1] + matrix[1, 0]))\n",
        "            missed.append(matrix[1, 0] / (matrix[1, 1] + matrix[1, 0]))\n",
        "            threasholds.append(threasholds2[0])\n",
        "            fscore_threashold.append(metrics.f1_score(\n",
        "                y_test, [ 0 if i < threasholds2[0] else 1 for i in y_score ]))\n",
        "\n",
        "            matrix = metrics.confusion_matrix(\n",
        "                    y_test, [ 0 if i <  0.5 else 1 for i in y_score ])\n",
        "            exclusion_baseline.append(\n",
        "                    matrix[0, 0] /\n",
        "                    (matrix[0, 0] + matrix[1, 1] + matrix[0, 1] + matrix[1, 0]))\n",
        "            missed_baseline.append(matrix[1, 0] / (matrix[1, 1] + matrix[1, 0]))\n",
        "\n",
        "        scores['exclusion_rate'] = correct_exclusion_rate\n",
        "        scores['threasholds'] = threasholds\n",
        "        scores['missed'] = missed\n",
        "        scores['fscore_threashold'] = fscore_threashold\n",
        "        scores['exclusion_baseline'] = exclusion_baseline\n",
        "        scores['missed_baseline'] = missed_baseline\n",
        "        \n",
        "        dataset = dict()\n",
        "        dataset['%s_scores' % self.classifier_name] = scores\n",
        "        \n",
        "        return dataset, y_pred"
      ],
      "metadata": {
        "id": "0qcsfGEkJr6R"
      },
      "execution_count": 35,
      "outputs": []
    },
    {
      "cell_type": "markdown",
      "source": [
        "#### Extend Classifiers "
      ],
      "metadata": {
        "id": "6qBlZrewvFCE"
      }
    },
    {
      "cell_type": "code",
      "source": [
        "class DecisionTreeClassifier (SimpleClassifier):\n",
        "    def __init__ (self, seed=42, criterion='entropy', n_splits=5):\n",
        "        SimpleClassifier.__init__(self, seed, n_splits)\n",
        "        self.classifier_name = 'decision_tree'\n",
        "        self._criterion = criterion\n",
        "\n",
        "    def get_classifier (self, X, y):\n",
        "        print('===== Decision Tree Classifier =====')\n",
        "        print('===== Hyperparameter tunning  =====')\n",
        "        model = tree.DecisionTreeClassifier()\n",
        "        params = {\n",
        "            'criterion': [\"gini\", \"entropy\"],\n",
        "            'max_depth': [10, 50, 100, None],\n",
        "            'min_samples_split': [2, 10, 100],\n",
        "            'class_weight': [None, 'balanced']\n",
        "        }\n",
        "        cfl = GridSearchCV(model, params, cv=5, scoring='recall')\n",
        "        cfl.fit(X, y)\n",
        "        for param, value in cfl.best_params_.items():\n",
        "            print(\"%s : %s\" % (param, value))\n",
        "\n",
        "        model = tree.DecisionTreeClassifier(random_state=self._seed)\n",
        "        model.set_params(**cfl.best_params_)\n",
        "        return model\n",
        "\n",
        "\n",
        "class SVMClassifier (SimpleClassifier):\n",
        "    def __init__ (self, seed, n_splits=5):\n",
        "        SimpleClassifier.__init__(self, seed, n_splits=n_splits)\n",
        "        self.classifier_name = 'svm'\n",
        "\n",
        "    def get_classifier (self, X, y):\n",
        "        print('===== SVM Classifier =====')\n",
        "        print('===== Hyperparameter tunning  =====')\n",
        "        params = {\n",
        "            #'kernel': ['linear', 'rbf', 'poly', 'sigmoid'],\n",
        "            'kernel': ['linear', 'rbf'],\n",
        "            'C': [1, 10, 100],\n",
        "            #'degree': [1, 2, 3],\n",
        "            #'coef0': [0, 10, 100],\n",
        "            'tol': [0.001, 0.1, 1],\n",
        "            'class_weight': ['balanced', None]\n",
        "        }\n",
        "        model = svm.SVC(random_state=self._seed, probability=True)\n",
        "        cfl = GridSearchCV(model, params, cv=5, scoring='accuracy')\n",
        "        cfl.fit(X, y)\n",
        "        for param, value in cfl.best_params_.items():\n",
        "            print(\"%s : %s\" % (param, value))\n",
        "\n",
        "        model = svm.SVC(random_state=self._seed, probability=True)\n",
        "        model.set_params(**cfl.best_params_)\n",
        "        return model\n"
      ],
      "metadata": {
        "id": "qdbscTJNKMvp"
      },
      "execution_count": 36,
      "outputs": []
    },
    {
      "cell_type": "code",
      "source": [],
      "metadata": {
        "id": "6lW6EpRtvLpQ"
      },
      "execution_count": 36,
      "outputs": []
    },
    {
      "cell_type": "markdown",
      "source": [
        "### Define fixed seed (42) and number of splits to initialize Classifiers"
      ],
      "metadata": {
        "id": "KONoJPqOWPaK"
      }
    },
    {
      "cell_type": "code",
      "source": [
        "n_splits = 3\n",
        "\n",
        "dt_classifier = DecisionTreeClassifier(seed=42, criterion='gini', n_splits=n_splits)\n",
        "svm_classifier = SVMClassifier(42, n_splits=n_splits)"
      ],
      "metadata": {
        "id": "2wO6Wcl3KSZU"
      },
      "execution_count": 37,
      "outputs": []
    },
    {
      "cell_type": "markdown",
      "source": [
        "## Execute classifier for specific kN features\n"
      ],
      "metadata": {
        "id": "2wsl0bK0Whd6"
      }
    },
    {
      "cell_type": "markdown",
      "source": [
        "## Execute and store results in 'dataset_scores' dict"
      ],
      "metadata": {
        "id": "9pAn4HlseNuL"
      }
    },
    {
      "cell_type": "code",
      "source": [
        "dataset_scores = dict()"
      ],
      "metadata": {
        "id": "7tJjdmk_dUFX"
      },
      "execution_count": 38,
      "outputs": []
    },
    {
      "cell_type": "markdown",
      "source": [
        "#### DT classifier"
      ],
      "metadata": {
        "id": "NGUtdpaoe2dd"
      }
    },
    {
      "cell_type": "code",
      "source": [
        "# Execute DT classifier\n",
        "dt_scores_dataset_kN, dt_y_pred_kN = dt_classifier.execute(dataset_training_kN_fs, dataset_testing_kN_fs)\n",
        "\n",
        "# Add to dt scores\n",
        "dataset_scores['decision_tree_scores'] = dt_scores_dataset_kN['decision_tree_scores']"
      ],
      "metadata": {
        "colab": {
          "base_uri": "https://localhost:8080/"
        },
        "id": "a_nY8O5JE8QC",
        "outputId": "ca9adf88-e3f0-483b-cd1f-f554c401df1a"
      },
      "execution_count": 39,
      "outputs": [
        {
          "output_type": "stream",
          "name": "stdout",
          "text": [
            "Executing...\n",
            "===== Decision Tree Classifier =====\n",
            "===== Hyperparameter tunning  =====\n",
            "class_weight : balanced\n",
            "criterion : gini\n",
            "max_depth : 50\n",
            "min_samples_split : 10\n",
            "OUR APPROACH F-measure: 0.7140883923117807 on average and 0.15136834067283308 SD\n",
            "OUR APPROACH Precision: 0.7972222222222222 on average and 0.13949866143877465 SD\n",
            "OUR APPROACH Recall: 0.7287749287749287 on average and 0.122585941649078 SD\n",
            "Y_PRED #1: 507 \n",
            " [0 0 0 0 0 0 0 0 0 0 0 0 0 0 0 0 0 0 0 0 0 0 0 0 0 0 0 0 0 0 0 0 0 0 0 0 0\n",
            " 0 0 0 0 0 0 1 0 0 0 0 0 0 0 0 0 0 0 0 0 1 0 0 0 0 0 0 0 0 0 0 0 0 0 0 0 0\n",
            " 0 0 0 0 1 0 1 0 0 0 0 0 0 0 0 0 0 0 0 0 0 0 0 0 0 0 1 0 0 0 0 0 0 0 0 0 0\n",
            " 0 0 0 1 0 0 0 0 0 0 0 0 0 0 0 0 0 0 0 0 0 0 0 0 0 0 0 0 0 0 0 0 0 0 0 0 0\n",
            " 0 0 0 0 0 0 0 0 0 0 0 1 0 0 0 1 0 0 0 0 0 0 0 0 0 0 0 0 0 0 0 0 0 0 0 0 0\n",
            " 0 0 0 0 0 0 0 0 0 0 0 0 0 0 0 0 0 0 0 0 0 0 0 0 0 0 0 0 0 0 0 0 0 0 1 0 0\n",
            " 0 0 0 0 0 0 0 0 0 0 0 0 0 0 0 0 0 0 0 0 0 0 0 0 0 0 0 0 0 0 0 0 0 0 0 0 0\n",
            " 0 0 0 0 0 0 0 0 0 0 0 0 0 0 0 0 0 0 0 0 0 0 0 0 0 0 0 0 0 0 0 0 0 0 0 0 0\n",
            " 0 0 0 0 0 0 0 0 0 0 0 0 0 0 0 0 0 0 0 0 0 0 0 0 0 0 0 0 0 0 0 0 0 0 0 0 0\n",
            " 0 0 0 0 0 0 0 0 0 0 0 0 0 0 0 0 0 0 0 0 0 0 0 1 0 0 1 0 0 0 0 0 0 0 0 0 0\n",
            " 0 0 0 0 0 0 0 0 0 0 0 0 0 0 0 0 0 0 1 0 0 0 0 0 0 0 0 0 0 0 0 0 0 0 0 0 0\n",
            " 0 0 0 0 0 0 0 0 0 0 0 0 0 0 0 0 0 0 0 0 0 0 0 0 0 0 0 0 0 0 0 0 0 0 0 0 0\n",
            " 0 0 0 0 0 0 0 0 0 0 0 0 0 0 0 0 0 0 0 0 0 0 0 0 0 0 0 0 0 0 0 0 0 0 0 0 0\n",
            " 0 0 0 0 0 0 0 0 0 0 0 0 0 0 0 0 0 0 0 0 0 0 0 0 0 0] \n",
            "\n",
            "Y_PRED #2: 109 \n",
            " [0.         0.         0.         0.         0.         0.\n",
            " 0.         0.         0.         0.         0.         0.\n",
            " 0.         0.         1.         1.         1.         0.\n",
            " 0.         0.         0.         1.         0.         0.\n",
            " 0.         0.         1.         1.         1.         0.\n",
            " 0.         0.         0.         1.         1.         0.\n",
            " 0.         0.         0.         0.         0.         0.\n",
            " 0.         0.         1.         1.         1.         1.\n",
            " 0.         0.         0.         1.         1.         0.\n",
            " 0.         0.         0.         0.         0.         0.82795699\n",
            " 1.         1.         0.         0.         0.         0.82795699\n",
            " 1.         1.         0.         0.         0.         0.\n",
            " 0.         1.         1.         1.         0.         0.\n",
            " 0.         0.         1.         0.         0.         0.\n",
            " 1.         1.         1.         0.         0.         0.\n",
            " 1.         0.82795699 1.         1.         1.         0.\n",
            " 0.         0.         0.         0.         0.         0.\n",
            " 0.         0.         0.         0.         0.         0.\n",
            " 0.        ] \n",
            "\n",
            "Y_PRED #3: 22 \n",
            " [1.         1.         1.         0.         0.         0.\n",
            " 0.         1.         0.         1.         1.         0.\n",
            " 0.         0.         0.         0.         0.         0.\n",
            " 1.         0.         0.82795699 0.        ] \n",
            "\n",
            "Y_PRED #2: 90 \n",
            " [0.         0.         0.         0.         0.         0.\n",
            " 0.         0.         0.         0.         0.63636364 0.\n",
            " 0.         0.         0.63636364 1.         1.         0.\n",
            " 0.         0.         0.         1.         0.         0.\n",
            " 0.63636364 0.         1.         1.         1.         0.\n",
            " 0.         0.         0.         1.         1.         0.\n",
            " 0.         0.         0.         0.         0.         0.\n",
            " 0.         0.         1.         1.         1.         1.\n",
            " 0.         0.         0.         1.         1.         0.\n",
            " 0.         0.         0.         0.63636364 0.         1.\n",
            " 1.         0.63636364 0.         0.         0.         0.\n",
            " 1.         1.         0.         0.         0.         0.\n",
            " 0.         1.         0.63636364 1.         0.         0.\n",
            " 0.         0.         1.         0.         0.63636364 0.\n",
            " 1.         1.         1.         0.         0.         0.        ] \n",
            "\n",
            "Y_PRED #3: 19 \n",
            " [0.63636364 0.         0.63636364 0.63636364 1.         0.\n",
            " 0.         0.         0.         0.         0.         0.\n",
            " 0.         0.         0.         0.         0.         0.\n",
            " 0.        ] \n",
            "\n",
            "Y_PRED #2: 84 \n",
            " [0.         0.         0.         0.         0.         0.\n",
            " 0.         0.         0.         0.         0.         0.\n",
            " 0.         0.         0.95238095 0.625      1.         0.\n",
            " 0.         0.         0.         1.         0.         0.\n",
            " 0.         0.         1.         1.         1.         0.\n",
            " 0.         0.         0.         0.95238095 1.         0.\n",
            " 0.         0.         0.         0.         0.         0.\n",
            " 0.         0.         1.         1.         1.         1.\n",
            " 0.         0.         0.         1.         0.95238095 0.\n",
            " 0.         0.         0.         0.95238095 0.         1.\n",
            " 1.         0.95238095 0.         0.         0.         0.\n",
            " 0.625      0.95238095 0.625      0.         0.         0.625\n",
            " 0.         1.         0.95238095 0.95238095 0.         0.\n",
            " 0.         0.         0.95238095 0.         0.         0.625     ] \n",
            "\n",
            "Y_PRED #3: 6 \n",
            " [0.95238095 0.         0.         0.         0.         0.        ] \n",
            "\n"
          ]
        }
      ]
    },
    {
      "cell_type": "code",
      "source": [
        "dt = dt_scores_dataset_kN['decision_tree_scores']\n",
        "print('exclusion_rate:', dt['exclusion_rate'])\n",
        "print('threasholds:', dt['threasholds'])\n",
        "print('missed:', dt['missed'])\n",
        "print('fscore_threashold:', dt['fscore_threashold'])\n",
        "print('exclusion_baseline:', dt['exclusion_baseline'])\n",
        "print('missed_baseline:', dt['missed_baseline'])"
      ],
      "metadata": {
        "colab": {
          "base_uri": "https://localhost:8080/"
        },
        "id": "ueCSDiuTtBcZ",
        "outputId": "ae29c38d-ff9a-442e-a57e-7477a58bb16d"
      },
      "execution_count": 40,
      "outputs": [
        {
          "output_type": "stream",
          "name": "stdout",
          "text": [
            "exclusion_rate: [0.3181818181818182, 0.7368421052631579, 0.5]\n",
            "threasholds: [0.5, 0.5, 0.5]\n",
            "missed: [0.5384615384615384, 0.2, 0.6666666666666666]\n",
            "fscore_threashold: [0.5714285714285714, 0.888888888888889, 0.5]\n",
            "exclusion_baseline: [0.3181818181818182, 0.7368421052631579, 0.5]\n",
            "missed_baseline: [0.5384615384615384, 0.2, 0.6666666666666666]\n"
          ]
        }
      ]
    },
    {
      "cell_type": "markdown",
      "source": [
        "#### SVM classifier"
      ],
      "metadata": {
        "id": "KW4GRD8Ve6s_"
      }
    },
    {
      "cell_type": "code",
      "source": [
        "# Execute SVM classifier\n",
        "svm_scores_dataset_kN, svm_y_pred_kN = svm_classifier.execute(dataset_training_kN_fs, dataset_testing_kN_fs)\n",
        "\n",
        "# Add to dt scores\n",
        "dataset_scores['svm_scores'] = svm_scores_dataset_kN['svm_scores']"
      ],
      "metadata": {
        "id": "pvOwE6vsdT_9",
        "colab": {
          "base_uri": "https://localhost:8080/"
        },
        "outputId": "de9f747d-3d30-4e3f-8d6e-a3b21fa57bcd"
      },
      "execution_count": 41,
      "outputs": [
        {
          "output_type": "stream",
          "name": "stdout",
          "text": [
            "Executing...\n",
            "===== SVM Classifier =====\n",
            "===== Hyperparameter tunning  =====\n",
            "C : 10\n",
            "class_weight : balanced\n",
            "kernel : rbf\n",
            "tol : 1\n",
            "OUR APPROACH F-measure: 1.0 on average and 0.0 SD\n",
            "OUR APPROACH Precision: 1.0 on average and 0.0 SD\n",
            "OUR APPROACH Recall: 1.0 on average and 0.0 SD\n",
            "Y_PRED #1: 507 \n",
            " [0 0 0 1 1 1 1 0 0 0 0 0 0 0 0 0 0 0 0 0 0 0 0 0 0 0 0 0 0 0 0 0 0 0 0 0 0\n",
            " 0 0 0 0 0 0 0 0 0 0 0 0 0 0 0 0 0 0 0 0 0 0 0 0 0 0 0 0 0 0 0 0 0 0 0 0 0\n",
            " 0 0 0 0 1 1 1 0 0 0 0 0 0 0 0 0 0 0 0 0 0 0 0 0 0 0 0 0 0 0 0 0 0 0 0 0 0\n",
            " 0 0 0 0 0 0 0 0 0 0 0 0 0 0 0 0 0 0 0 0 0 0 0 0 0 0 0 0 0 0 0 0 0 0 0 0 0\n",
            " 0 0 0 0 0 0 0 0 0 0 0 1 1 1 1 1 0 0 0 0 0 0 0 0 0 0 0 0 0 0 0 0 0 0 0 0 0\n",
            " 0 0 0 0 0 0 0 0 0 0 0 0 0 0 0 0 0 0 0 0 0 0 0 0 0 0 0 0 0 0 0 0 0 0 0 0 0\n",
            " 0 0 0 0 1 1 1 1 1 0 0 0 0 0 0 0 0 0 0 0 0 0 0 0 0 0 0 0 0 0 0 0 0 0 0 0 0\n",
            " 0 0 0 0 0 0 0 0 0 0 0 0 0 0 0 0 0 0 0 0 0 0 0 0 0 0 0 0 0 0 0 0 0 0 0 0 0\n",
            " 0 0 0 0 1 1 1 0 0 0 0 0 0 0 0 0 0 0 0 0 0 0 0 0 0 0 0 0 0 0 0 0 0 0 0 0 0\n",
            " 0 0 0 0 0 0 0 0 0 0 0 0 0 0 0 0 0 0 0 0 0 0 1 1 1 1 1 1 1 1 1 0 0 0 0 0 0\n",
            " 0 0 0 0 0 0 0 0 0 0 0 0 0 0 0 0 0 0 0 0 0 0 0 0 0 0 0 0 0 0 0 0 0 0 0 0 0\n",
            " 0 0 0 0 0 0 0 0 0 0 0 0 0 0 0 0 0 0 0 0 1 1 1 1 1 1 1 0 0 0 0 0 0 0 0 0 0\n",
            " 0 0 1 0 0 0 0 0 0 0 0 0 0 0 0 0 0 0 0 0 0 0 0 0 0 0 0 0 0 0 0 0 0 0 0 0 0\n",
            " 0 0 0 0 0 0 0 0 0 0 0 0 0 0 0 0 0 0 0 0 0 0 0 0 0 0] \n",
            "\n",
            "Y_PRED #2: 109 \n",
            " [5.19849136e-03 2.86211065e-04 8.68415852e-06 1.62793726e-04\n",
            " 1.00000010e-07 7.17386239e-04 2.12262525e-04 9.48736381e-05\n",
            " 6.27047861e-04 2.56492357e-04 2.76068138e-04 1.29026084e-04\n",
            " 3.41554183e-03 1.86548808e-04 9.99999934e-01 9.99999887e-01\n",
            " 9.99986075e-01 4.33339628e-03 2.89906190e-06 1.22423165e-05\n",
            " 7.66647627e-04 9.99999844e-01 1.48039975e-04 1.52123220e-04\n",
            " 1.63944193e-04 1.00000010e-07 9.99999557e-01 9.99999881e-01\n",
            " 9.99998780e-01 3.07687357e-03 1.00000010e-07 3.07232891e-06\n",
            " 9.04247041e-06 9.99995819e-01 9.42409274e-01 5.71990575e-03\n",
            " 7.47623218e-04 3.90609681e-07 5.04670279e-05 1.53420526e-05\n",
            " 1.31331675e-04 2.57819015e-04 1.99859294e-04 1.49081704e-04\n",
            " 9.13948887e-01 9.11852519e-01 9.99999948e-01 9.99999979e-01\n",
            " 5.71865995e-03 1.34879857e-04 4.58516544e-03 9.99999907e-01\n",
            " 9.99999412e-01 2.34887025e-03 1.63504741e-04 1.00000010e-07\n",
            " 2.67948171e-05 1.69034471e-04 1.28683798e-05 9.99999910e-01\n",
            " 9.99997107e-01 9.99999837e-01 1.32917004e-03 1.93043249e-04\n",
            " 2.74769427e-03 4.87110577e-05 9.99999694e-01 9.99999961e-01\n",
            " 2.61015797e-04 1.30091236e-03 3.12619102e-04 4.29646746e-06\n",
            " 1.58400009e-03 9.99993500e-01 9.99999747e-01 9.99991924e-01\n",
            " 6.33286025e-04 3.30150195e-04 1.19416101e-04 3.63196112e-06\n",
            " 9.99999219e-01 5.90801880e-06 2.67120852e-04 1.70719815e-04\n",
            " 9.26426269e-01 9.97311156e-01 9.99999904e-01 1.92779506e-04\n",
            " 2.04031559e-04 3.91100630e-05 9.99994993e-01 9.99999924e-01\n",
            " 9.99999559e-01 9.97311156e-01 9.17274398e-01 2.70810154e-07\n",
            " 1.67345482e-04 4.56966721e-04 3.42116849e-04 2.43590360e-04\n",
            " 6.20718024e-04 1.79649291e-05 3.95589609e-05 3.88140076e-04\n",
            " 3.87283716e-04 1.00000010e-07 7.66440965e-05 9.22139106e-04\n",
            " 9.89000829e-05] \n",
            "\n",
            "Y_PRED #3: 22 \n",
            " [8.03483536e-01 8.91341728e-01 8.23667063e-01 8.33382532e-01\n",
            " 8.67445539e-01 9.01377172e-01 9.05023255e-01 9.24393850e-01\n",
            " 8.33630509e-01 8.76813500e-01 8.19094988e-01 8.67693973e-01\n",
            " 8.70844371e-01 2.42346797e-04 1.43396606e-05 4.45833016e-01\n",
            " 1.61311279e-04 2.30347088e-02 1.26688797e-04 1.25411703e-06\n",
            " 5.06676010e-06 8.03473923e-04] \n",
            "\n",
            "Y_PRED #2: 90 \n",
            " [1.11869111e-02 7.07042712e-04 4.36617825e-05 5.91354512e-04\n",
            " 2.14570221e-07 1.94039021e-03 5.11473260e-04 3.64937989e-04\n",
            " 1.41278941e-03 6.07726673e-04 7.60257883e-04 4.85949869e-04\n",
            " 6.85241049e-03 6.63751624e-04 9.99999574e-01 9.99999409e-01\n",
            " 9.99999860e-01 8.26809216e-03 1.55142758e-05 5.87516607e-05\n",
            " 1.44281591e-03 9.99999688e-01 3.84656433e-04 2.90530899e-04\n",
            " 4.56906270e-04 1.00000010e-07 9.99998558e-01 9.99999762e-01\n",
            " 9.99996576e-01 7.08825727e-03 2.24172610e-07 1.69018606e-05\n",
            " 4.63434092e-05 9.99997526e-01 9.30764603e-01 8.52641124e-03\n",
            " 2.17427119e-03 3.00310897e-06 1.78824963e-04 7.14127975e-05\n",
            " 3.73188430e-04 4.99991582e-04 4.14603273e-04 3.99945678e-04\n",
            " 9.99991852e-01 9.12201294e-01 9.99999832e-01 9.07308462e-01\n",
            " 1.22399079e-02 3.83091812e-04 6.87730069e-03 9.99999707e-01\n",
            " 9.99999187e-01 5.60469252e-03 5.21529491e-04 1.00000010e-07\n",
            " 1.12142525e-04 4.43863106e-04 6.13405587e-05 9.99999909e-01\n",
            " 9.99993807e-01 9.99999744e-01 3.46442998e-03 4.97902802e-04\n",
            " 6.26474646e-03 1.58396386e-04 9.99998992e-01 9.99999833e-01\n",
            " 8.43260350e-04 3.19593600e-03 8.16266264e-04 2.37931771e-05\n",
            " 3.87485992e-03 9.99989326e-01 9.99999410e-01 9.99986435e-01\n",
            " 1.79400541e-03 7.85719446e-04 4.18887432e-04 2.05602354e-05\n",
            " 9.99997997e-01 2.68742453e-05 8.01754738e-04 3.58122017e-04\n",
            " 9.09479016e-01 9.97409882e-01 9.99999642e-01 4.35056489e-04\n",
            " 6.71358180e-04 5.36229644e-05] \n",
            "\n",
            "Y_PRED #3: 19 \n",
            " [8.09097985e-01 8.50356081e-01 6.98006379e-01 8.40339420e-01\n",
            " 8.77764639e-01 2.19019771e-06 5.48815277e-04 1.35140121e-03\n",
            " 9.97971521e-04 1.70463485e-01 1.70800089e-03 7.92188426e-05\n",
            " 1.62161849e-04 2.87448155e-01 1.14548419e-03 1.00000010e-07\n",
            " 2.66782334e-04 2.48641986e-03 1.17491165e-01] \n",
            "\n",
            "Y_PRED #2: 84 \n",
            " [7.74591040e-03 3.22947048e-04 1.71198620e-05 3.24260169e-04\n",
            " 1.00000010e-07 1.14122029e-03 2.21281545e-04 1.89592052e-04\n",
            " 6.47119781e-04 2.82899383e-04 3.72743105e-04 2.06935451e-04\n",
            " 5.18151967e-03 3.71702429e-04 9.99999930e-01 9.99999986e-01\n",
            " 9.99999978e-01 5.23051654e-03 5.92690483e-06 2.37658131e-05\n",
            " 7.77200877e-04 9.99999939e-01 1.45786365e-04 2.07078404e-04\n",
            " 1.73424404e-04 1.00000010e-07 9.99999909e-01 9.99999959e-01\n",
            " 9.99997768e-01 4.68865804e-03 1.00000010e-07 6.13799537e-06\n",
            " 1.75537055e-05 9.99999564e-01 9.55971691e-01 5.04429334e-03\n",
            " 1.16473533e-03 8.86243281e-07 7.55515592e-05 2.94841406e-05\n",
            " 1.50903330e-04 2.06625774e-04 2.19973541e-04 1.85907066e-04\n",
            " 9.99999451e-01 9.99995021e-01 9.99999993e-01 9.99996982e-01\n",
            " 3.04138046e-04 1.62134878e-04 4.30123821e-03 9.99999947e-01\n",
            " 9.99999892e-01 3.62095250e-03 2.25764949e-04 1.00000010e-07\n",
            " 4.47988062e-05 1.71920253e-04 2.49254821e-05 9.99999948e-01\n",
            " 9.99999228e-01 9.99999966e-01 1.98276224e-03 2.16571964e-04\n",
            " 3.73066166e-03 6.91873159e-05 9.99999972e-01 9.99999965e-01\n",
            " 4.42614031e-04 1.83624676e-03 3.65255348e-04 8.39034205e-06\n",
            " 2.44031464e-03 9.99999811e-01 9.99999941e-01 9.99997244e-01\n",
            " 1.03303786e-03 3.63981882e-04 1.93966231e-04 7.44644895e-06\n",
            " 9.99999595e-01 9.85858831e-06 4.15168849e-04 2.20641447e-05] \n",
            "\n",
            "Y_PRED #3: 6 \n",
            " [9.21782277e-01 9.14421917e-01 8.26184376e-01 1.43115051e-02\n",
            " 3.49670974e-04 7.14620680e-05] \n",
            "\n"
          ]
        }
      ]
    },
    {
      "cell_type": "code",
      "source": [
        "dt = svm_scores_dataset_kN['svm_scores']\n",
        "print('exclusion_rate:', dt['exclusion_rate'])\n",
        "print('threasholds:', dt['threasholds'])\n",
        "print('missed:', dt['missed'])\n",
        "print('fscore_threashold:', dt['fscore_threashold'])\n",
        "print('exclusion_baseline:', dt['exclusion_baseline'])\n",
        "print('missed_baseline:', dt['missed_baseline'])"
      ],
      "metadata": {
        "id": "JFTswuMGeWBZ",
        "colab": {
          "base_uri": "https://localhost:8080/"
        },
        "outputId": "f92becbf-d580-4d85-b22d-d42e365d0a1f"
      },
      "execution_count": 42,
      "outputs": [
        {
          "output_type": "stream",
          "name": "stdout",
          "text": [
            "exclusion_rate: [0.4090909090909091, 0.7368421052631579, 0.5]\n",
            "threasholds: [0.5, 0.5, 0.5]\n",
            "missed: [0.0, 0.0, 0.0]\n",
            "fscore_threashold: [1.0, 1.0, 1.0]\n",
            "exclusion_baseline: [0.4090909090909091, 0.7368421052631579, 0.5]\n",
            "missed_baseline: [0.0, 0.0, 0.0]\n"
          ]
        }
      ]
    },
    {
      "cell_type": "code",
      "source": [],
      "metadata": {
        "id": "rVuR78Khj_7M"
      },
      "execution_count": 42,
      "outputs": []
    },
    {
      "cell_type": "markdown",
      "source": [
        "### Compare results:"
      ],
      "metadata": {
        "id": "7xPe0i_IrdLe"
      }
    },
    {
      "cell_type": "code",
      "source": [
        "# DataFrame antes do FeatureSelection\n",
        "df_training1 = pd.DataFrame.from_dict(filtered_texts_list_training)\n",
        "df_testing1 = pd.DataFrame.from_dict(filtered_texts_list_testing)\n",
        "\n",
        "df_training1.head(10) # Exemplo do estado do dataframe"
      ],
      "metadata": {
        "colab": {
          "base_uri": "https://localhost:8080/",
          "height": 363
        },
        "id": "8fAeFKV9m6_B",
        "outputId": "a8d5870e-9d7f-4ff2-80d7-52600d382921"
      },
      "execution_count": 43,
      "outputs": [
        {
          "output_type": "execute_result",
          "data": {
            "text/plain": [
              "                                             content  category  year\n",
              "0            action research—a scientific approach ?  removido  1955\n",
              "1                popper 's definition verisimilitude  removido  1974\n",
              "2     assessment scientific merits action research .  removido  1978\n",
              "3  evolution information technology : implication...  removido  1989\n",
              "4  framework experience learning : essential natu...  removido  1991\n",
              "5  assessment system software engineering scholar...  removido  1994\n",
              "6  experimental software engineering : report sta...  removido  1995\n",
              "7  design natural science research information te...  removido  1995\n",
              "8                        4+1 view model architecture  removido  1995\n",
              "9  role experimentation software engineering : pa...  removido  1996"
            ],
            "text/html": [
              "\n",
              "  <div id=\"df-1bf63f3d-00c5-469a-8a40-eddebda4fb45\">\n",
              "    <div class=\"colab-df-container\">\n",
              "      <div>\n",
              "<style scoped>\n",
              "    .dataframe tbody tr th:only-of-type {\n",
              "        vertical-align: middle;\n",
              "    }\n",
              "\n",
              "    .dataframe tbody tr th {\n",
              "        vertical-align: top;\n",
              "    }\n",
              "\n",
              "    .dataframe thead th {\n",
              "        text-align: right;\n",
              "    }\n",
              "</style>\n",
              "<table border=\"1\" class=\"dataframe\">\n",
              "  <thead>\n",
              "    <tr style=\"text-align: right;\">\n",
              "      <th></th>\n",
              "      <th>content</th>\n",
              "      <th>category</th>\n",
              "      <th>year</th>\n",
              "    </tr>\n",
              "  </thead>\n",
              "  <tbody>\n",
              "    <tr>\n",
              "      <th>0</th>\n",
              "      <td>action research—a scientific approach ?</td>\n",
              "      <td>removido</td>\n",
              "      <td>1955</td>\n",
              "    </tr>\n",
              "    <tr>\n",
              "      <th>1</th>\n",
              "      <td>popper 's definition verisimilitude</td>\n",
              "      <td>removido</td>\n",
              "      <td>1974</td>\n",
              "    </tr>\n",
              "    <tr>\n",
              "      <th>2</th>\n",
              "      <td>assessment scientific merits action research .</td>\n",
              "      <td>removido</td>\n",
              "      <td>1978</td>\n",
              "    </tr>\n",
              "    <tr>\n",
              "      <th>3</th>\n",
              "      <td>evolution information technology : implication...</td>\n",
              "      <td>removido</td>\n",
              "      <td>1989</td>\n",
              "    </tr>\n",
              "    <tr>\n",
              "      <th>4</th>\n",
              "      <td>framework experience learning : essential natu...</td>\n",
              "      <td>removido</td>\n",
              "      <td>1991</td>\n",
              "    </tr>\n",
              "    <tr>\n",
              "      <th>5</th>\n",
              "      <td>assessment system software engineering scholar...</td>\n",
              "      <td>removido</td>\n",
              "      <td>1994</td>\n",
              "    </tr>\n",
              "    <tr>\n",
              "      <th>6</th>\n",
              "      <td>experimental software engineering : report sta...</td>\n",
              "      <td>removido</td>\n",
              "      <td>1995</td>\n",
              "    </tr>\n",
              "    <tr>\n",
              "      <th>7</th>\n",
              "      <td>design natural science research information te...</td>\n",
              "      <td>removido</td>\n",
              "      <td>1995</td>\n",
              "    </tr>\n",
              "    <tr>\n",
              "      <th>8</th>\n",
              "      <td>4+1 view model architecture</td>\n",
              "      <td>removido</td>\n",
              "      <td>1995</td>\n",
              "    </tr>\n",
              "    <tr>\n",
              "      <th>9</th>\n",
              "      <td>role experimentation software engineering : pa...</td>\n",
              "      <td>removido</td>\n",
              "      <td>1996</td>\n",
              "    </tr>\n",
              "  </tbody>\n",
              "</table>\n",
              "</div>\n",
              "      <button class=\"colab-df-convert\" onclick=\"convertToInteractive('df-1bf63f3d-00c5-469a-8a40-eddebda4fb45')\"\n",
              "              title=\"Convert this dataframe to an interactive table.\"\n",
              "              style=\"display:none;\">\n",
              "        \n",
              "  <svg xmlns=\"http://www.w3.org/2000/svg\" height=\"24px\"viewBox=\"0 0 24 24\"\n",
              "       width=\"24px\">\n",
              "    <path d=\"M0 0h24v24H0V0z\" fill=\"none\"/>\n",
              "    <path d=\"M18.56 5.44l.94 2.06.94-2.06 2.06-.94-2.06-.94-.94-2.06-.94 2.06-2.06.94zm-11 1L8.5 8.5l.94-2.06 2.06-.94-2.06-.94L8.5 2.5l-.94 2.06-2.06.94zm10 10l.94 2.06.94-2.06 2.06-.94-2.06-.94-.94-2.06-.94 2.06-2.06.94z\"/><path d=\"M17.41 7.96l-1.37-1.37c-.4-.4-.92-.59-1.43-.59-.52 0-1.04.2-1.43.59L10.3 9.45l-7.72 7.72c-.78.78-.78 2.05 0 2.83L4 21.41c.39.39.9.59 1.41.59.51 0 1.02-.2 1.41-.59l7.78-7.78 2.81-2.81c.8-.78.8-2.07 0-2.86zM5.41 20L4 18.59l7.72-7.72 1.47 1.35L5.41 20z\"/>\n",
              "  </svg>\n",
              "      </button>\n",
              "      \n",
              "  <style>\n",
              "    .colab-df-container {\n",
              "      display:flex;\n",
              "      flex-wrap:wrap;\n",
              "      gap: 12px;\n",
              "    }\n",
              "\n",
              "    .colab-df-convert {\n",
              "      background-color: #E8F0FE;\n",
              "      border: none;\n",
              "      border-radius: 50%;\n",
              "      cursor: pointer;\n",
              "      display: none;\n",
              "      fill: #1967D2;\n",
              "      height: 32px;\n",
              "      padding: 0 0 0 0;\n",
              "      width: 32px;\n",
              "    }\n",
              "\n",
              "    .colab-df-convert:hover {\n",
              "      background-color: #E2EBFA;\n",
              "      box-shadow: 0px 1px 2px rgba(60, 64, 67, 0.3), 0px 1px 3px 1px rgba(60, 64, 67, 0.15);\n",
              "      fill: #174EA6;\n",
              "    }\n",
              "\n",
              "    [theme=dark] .colab-df-convert {\n",
              "      background-color: #3B4455;\n",
              "      fill: #D2E3FC;\n",
              "    }\n",
              "\n",
              "    [theme=dark] .colab-df-convert:hover {\n",
              "      background-color: #434B5C;\n",
              "      box-shadow: 0px 1px 3px 1px rgba(0, 0, 0, 0.15);\n",
              "      filter: drop-shadow(0px 1px 2px rgba(0, 0, 0, 0.3));\n",
              "      fill: #FFFFFF;\n",
              "    }\n",
              "  </style>\n",
              "\n",
              "      <script>\n",
              "        const buttonEl =\n",
              "          document.querySelector('#df-1bf63f3d-00c5-469a-8a40-eddebda4fb45 button.colab-df-convert');\n",
              "        buttonEl.style.display =\n",
              "          google.colab.kernel.accessAllowed ? 'block' : 'none';\n",
              "\n",
              "        async function convertToInteractive(key) {\n",
              "          const element = document.querySelector('#df-1bf63f3d-00c5-469a-8a40-eddebda4fb45');\n",
              "          const dataTable =\n",
              "            await google.colab.kernel.invokeFunction('convertToInteractive',\n",
              "                                                     [key], {});\n",
              "          if (!dataTable) return;\n",
              "\n",
              "          const docLinkHtml = 'Like what you see? Visit the ' +\n",
              "            '<a target=\"_blank\" href=https://colab.research.google.com/notebooks/data_table.ipynb>data table notebook</a>'\n",
              "            + ' to learn more about interactive tables.';\n",
              "          element.innerHTML = '';\n",
              "          dataTable['output_type'] = 'display_data';\n",
              "          await google.colab.output.renderOutput(dataTable, element);\n",
              "          const docLink = document.createElement('div');\n",
              "          docLink.innerHTML = docLinkHtml;\n",
              "          element.appendChild(docLink);\n",
              "        }\n",
              "      </script>\n",
              "    </div>\n",
              "  </div>\n",
              "  "
            ]
          },
          "metadata": {},
          "execution_count": 43
        }
      ]
    },
    {
      "cell_type": "code",
      "source": [
        "# DataFrame após resultado do FeatureSelection\n",
        "df_training2 = pd.DataFrame.from_dict(dataset_training_kN_fs)\n",
        "df_testing2 = pd.DataFrame.from_dict(dataset_testing_kN_fs)\n",
        "\n",
        "df_training2.head(10) # Exemplo do estado do dataframe"
      ],
      "metadata": {
        "colab": {
          "base_uri": "https://localhost:8080/",
          "height": 363
        },
        "id": "Dko53WSOm67T",
        "outputId": "8bd4fbf4-beba-4b0f-c455-da139d279e96"
      },
      "execution_count": 44,
      "outputs": [
        {
          "output_type": "execute_result",
          "data": {
            "text/plain": [
              "                                               texts  \\\n",
              "0            action research—a scientific approach ?   \n",
              "1                popper 's definition verisimilitude   \n",
              "2     assessment scientific merits action research .   \n",
              "3  evolution information technology : implication...   \n",
              "4  framework experience learning : essential natu...   \n",
              "5  assessment system software engineering scholar...   \n",
              "6  experimental software engineering : report sta...   \n",
              "7  design natural science research information te...   \n",
              "8                        4+1 view model architecture   \n",
              "9  role experimentation software engineering : pa...   \n",
              "\n",
              "                                            features  categories  years  \n",
              "0    (0, 522)\\t0.3901063114456045\\n  (0, 523)\\t0....           0   1955  \n",
              "1    (0, 341)\\t0.408248290463863\\n  (0, 342)\\t0.4...           0   1974  \n",
              "2    (0, 592)\\t0.32498264224349727\\n  (0, 593)\\t0...           0   1978  \n",
              "3    (0, 145)\\t0.28490072687831425\\n  (0, 812)\\t0...           0   1989  \n",
              "4                      (0, 151)\\t0.19492098473333994           0   1991  \n",
              "5    (0, 135)\\t0.1491318954486745\\n  (0, 581)\\t0....           0   1994  \n",
              "6    (0, 135)\\t0.14624651720866944\\n  (0, 464)\\t0...           0   1995  \n",
              "7    (0, 503)\\t0.2941056240844393\\n  (0, 504)\\t0....           0   1995  \n",
              "8    (0, 28)\\t0.32342397373223813\\n  (0, 295)\\t0....           0   1995  \n",
              "9    (0, 135)\\t0.12998867713662832\\n  (0, 330)\\t0...           0   1996  "
            ],
            "text/html": [
              "\n",
              "  <div id=\"df-6260b6b5-ba8e-4201-b372-d362100c2fd2\">\n",
              "    <div class=\"colab-df-container\">\n",
              "      <div>\n",
              "<style scoped>\n",
              "    .dataframe tbody tr th:only-of-type {\n",
              "        vertical-align: middle;\n",
              "    }\n",
              "\n",
              "    .dataframe tbody tr th {\n",
              "        vertical-align: top;\n",
              "    }\n",
              "\n",
              "    .dataframe thead th {\n",
              "        text-align: right;\n",
              "    }\n",
              "</style>\n",
              "<table border=\"1\" class=\"dataframe\">\n",
              "  <thead>\n",
              "    <tr style=\"text-align: right;\">\n",
              "      <th></th>\n",
              "      <th>texts</th>\n",
              "      <th>features</th>\n",
              "      <th>categories</th>\n",
              "      <th>years</th>\n",
              "    </tr>\n",
              "  </thead>\n",
              "  <tbody>\n",
              "    <tr>\n",
              "      <th>0</th>\n",
              "      <td>action research—a scientific approach ?</td>\n",
              "      <td>(0, 522)\\t0.3901063114456045\\n  (0, 523)\\t0....</td>\n",
              "      <td>0</td>\n",
              "      <td>1955</td>\n",
              "    </tr>\n",
              "    <tr>\n",
              "      <th>1</th>\n",
              "      <td>popper 's definition verisimilitude</td>\n",
              "      <td>(0, 341)\\t0.408248290463863\\n  (0, 342)\\t0.4...</td>\n",
              "      <td>0</td>\n",
              "      <td>1974</td>\n",
              "    </tr>\n",
              "    <tr>\n",
              "      <th>2</th>\n",
              "      <td>assessment scientific merits action research .</td>\n",
              "      <td>(0, 592)\\t0.32498264224349727\\n  (0, 593)\\t0...</td>\n",
              "      <td>0</td>\n",
              "      <td>1978</td>\n",
              "    </tr>\n",
              "    <tr>\n",
              "      <th>3</th>\n",
              "      <td>evolution information technology : implication...</td>\n",
              "      <td>(0, 145)\\t0.28490072687831425\\n  (0, 812)\\t0...</td>\n",
              "      <td>0</td>\n",
              "      <td>1989</td>\n",
              "    </tr>\n",
              "    <tr>\n",
              "      <th>4</th>\n",
              "      <td>framework experience learning : essential natu...</td>\n",
              "      <td>(0, 151)\\t0.19492098473333994</td>\n",
              "      <td>0</td>\n",
              "      <td>1991</td>\n",
              "    </tr>\n",
              "    <tr>\n",
              "      <th>5</th>\n",
              "      <td>assessment system software engineering scholar...</td>\n",
              "      <td>(0, 135)\\t0.1491318954486745\\n  (0, 581)\\t0....</td>\n",
              "      <td>0</td>\n",
              "      <td>1994</td>\n",
              "    </tr>\n",
              "    <tr>\n",
              "      <th>6</th>\n",
              "      <td>experimental software engineering : report sta...</td>\n",
              "      <td>(0, 135)\\t0.14624651720866944\\n  (0, 464)\\t0...</td>\n",
              "      <td>0</td>\n",
              "      <td>1995</td>\n",
              "    </tr>\n",
              "    <tr>\n",
              "      <th>7</th>\n",
              "      <td>design natural science research information te...</td>\n",
              "      <td>(0, 503)\\t0.2941056240844393\\n  (0, 504)\\t0....</td>\n",
              "      <td>0</td>\n",
              "      <td>1995</td>\n",
              "    </tr>\n",
              "    <tr>\n",
              "      <th>8</th>\n",
              "      <td>4+1 view model architecture</td>\n",
              "      <td>(0, 28)\\t0.32342397373223813\\n  (0, 295)\\t0....</td>\n",
              "      <td>0</td>\n",
              "      <td>1995</td>\n",
              "    </tr>\n",
              "    <tr>\n",
              "      <th>9</th>\n",
              "      <td>role experimentation software engineering : pa...</td>\n",
              "      <td>(0, 135)\\t0.12998867713662832\\n  (0, 330)\\t0...</td>\n",
              "      <td>0</td>\n",
              "      <td>1996</td>\n",
              "    </tr>\n",
              "  </tbody>\n",
              "</table>\n",
              "</div>\n",
              "      <button class=\"colab-df-convert\" onclick=\"convertToInteractive('df-6260b6b5-ba8e-4201-b372-d362100c2fd2')\"\n",
              "              title=\"Convert this dataframe to an interactive table.\"\n",
              "              style=\"display:none;\">\n",
              "        \n",
              "  <svg xmlns=\"http://www.w3.org/2000/svg\" height=\"24px\"viewBox=\"0 0 24 24\"\n",
              "       width=\"24px\">\n",
              "    <path d=\"M0 0h24v24H0V0z\" fill=\"none\"/>\n",
              "    <path d=\"M18.56 5.44l.94 2.06.94-2.06 2.06-.94-2.06-.94-.94-2.06-.94 2.06-2.06.94zm-11 1L8.5 8.5l.94-2.06 2.06-.94-2.06-.94L8.5 2.5l-.94 2.06-2.06.94zm10 10l.94 2.06.94-2.06 2.06-.94-2.06-.94-.94-2.06-.94 2.06-2.06.94z\"/><path d=\"M17.41 7.96l-1.37-1.37c-.4-.4-.92-.59-1.43-.59-.52 0-1.04.2-1.43.59L10.3 9.45l-7.72 7.72c-.78.78-.78 2.05 0 2.83L4 21.41c.39.39.9.59 1.41.59.51 0 1.02-.2 1.41-.59l7.78-7.78 2.81-2.81c.8-.78.8-2.07 0-2.86zM5.41 20L4 18.59l7.72-7.72 1.47 1.35L5.41 20z\"/>\n",
              "  </svg>\n",
              "      </button>\n",
              "      \n",
              "  <style>\n",
              "    .colab-df-container {\n",
              "      display:flex;\n",
              "      flex-wrap:wrap;\n",
              "      gap: 12px;\n",
              "    }\n",
              "\n",
              "    .colab-df-convert {\n",
              "      background-color: #E8F0FE;\n",
              "      border: none;\n",
              "      border-radius: 50%;\n",
              "      cursor: pointer;\n",
              "      display: none;\n",
              "      fill: #1967D2;\n",
              "      height: 32px;\n",
              "      padding: 0 0 0 0;\n",
              "      width: 32px;\n",
              "    }\n",
              "\n",
              "    .colab-df-convert:hover {\n",
              "      background-color: #E2EBFA;\n",
              "      box-shadow: 0px 1px 2px rgba(60, 64, 67, 0.3), 0px 1px 3px 1px rgba(60, 64, 67, 0.15);\n",
              "      fill: #174EA6;\n",
              "    }\n",
              "\n",
              "    [theme=dark] .colab-df-convert {\n",
              "      background-color: #3B4455;\n",
              "      fill: #D2E3FC;\n",
              "    }\n",
              "\n",
              "    [theme=dark] .colab-df-convert:hover {\n",
              "      background-color: #434B5C;\n",
              "      box-shadow: 0px 1px 3px 1px rgba(0, 0, 0, 0.15);\n",
              "      filter: drop-shadow(0px 1px 2px rgba(0, 0, 0, 0.3));\n",
              "      fill: #FFFFFF;\n",
              "    }\n",
              "  </style>\n",
              "\n",
              "      <script>\n",
              "        const buttonEl =\n",
              "          document.querySelector('#df-6260b6b5-ba8e-4201-b372-d362100c2fd2 button.colab-df-convert');\n",
              "        buttonEl.style.display =\n",
              "          google.colab.kernel.accessAllowed ? 'block' : 'none';\n",
              "\n",
              "        async function convertToInteractive(key) {\n",
              "          const element = document.querySelector('#df-6260b6b5-ba8e-4201-b372-d362100c2fd2');\n",
              "          const dataTable =\n",
              "            await google.colab.kernel.invokeFunction('convertToInteractive',\n",
              "                                                     [key], {});\n",
              "          if (!dataTable) return;\n",
              "\n",
              "          const docLinkHtml = 'Like what you see? Visit the ' +\n",
              "            '<a target=\"_blank\" href=https://colab.research.google.com/notebooks/data_table.ipynb>data table notebook</a>'\n",
              "            + ' to learn more about interactive tables.';\n",
              "          element.innerHTML = '';\n",
              "          dataTable['output_type'] = 'display_data';\n",
              "          await google.colab.output.renderOutput(dataTable, element);\n",
              "          const docLink = document.createElement('div');\n",
              "          docLink.innerHTML = docLinkHtml;\n",
              "          element.appendChild(docLink);\n",
              "        }\n",
              "      </script>\n",
              "    </div>\n",
              "  </div>\n",
              "  "
            ]
          },
          "metadata": {},
          "execution_count": 44
        }
      ]
    },
    {
      "cell_type": "code",
      "source": [
        "# DataFrames para analisar DT e SVM após execução \n",
        "from copy import deepcopy\n",
        "\n",
        "# DataFrame DT\n",
        "# dt_df_training = pd.DataFrame.from_dict(dataset_training_kN_fs)\n",
        "dt_df_testing = deepcopy(df_testing2)\n",
        "dt_df_testing['predicted'] = dt_y_pred_kN\n",
        "\n",
        "# DataFrame SVM\n",
        "# svm_df_training = pd.DataFrame.from_dict(dataset_training_kN_fs)\n",
        "svm_df_testing = deepcopy(df_testing2)\n",
        "svm_df_testing['predicted'] = svm_y_pred_kN\n"
      ],
      "metadata": {
        "id": "4iy1SyXxnrZn"
      },
      "execution_count": 45,
      "outputs": []
    },
    {
      "cell_type": "code",
      "source": [
        "df_testing = deepcopy(df_testing2)\n",
        "df_testing['DT_pred'] = dt_y_pred_kN\n",
        "df_testing['SVM_pred'] = svm_y_pred_kN\n"
      ],
      "metadata": {
        "id": "lxjp1O_Qxb8N"
      },
      "execution_count": 46,
      "outputs": []
    },
    {
      "cell_type": "markdown",
      "source": [
        "#### Decision Tree vs SVM"
      ],
      "metadata": {
        "id": "tPYEfq0mrm_3"
      }
    },
    {
      "cell_type": "code",
      "source": [
        "df_testing.head(20)"
      ],
      "metadata": {
        "colab": {
          "base_uri": "https://localhost:8080/",
          "height": 677
        },
        "outputId": "202431ab-1b1b-4cfa-fd5c-2faa763cf71d",
        "id": "iNgrw1ScnrZn"
      },
      "execution_count": 47,
      "outputs": [
        {
          "output_type": "execute_result",
          "data": {
            "text/plain": [
              "                                                texts  \\\n",
              "0    operations technology organizational structure .   \n",
              "1                 design science nested problem solve   \n",
              "2   large-scale empirical study practitioners ' us...   \n",
              "3   planning unknown : lessons learned ten months ...   \n",
              "4   exploratory study technology transfer software...   \n",
              "5   fast feedback cycles empirical software engine...   \n",
              "6   integration se research industry : reflections...   \n",
              "7   towards approach matching cmd dsr improve acad...   \n",
              "8   proposal using design science educational tech...   \n",
              "9   university-industry collaboration open source ...   \n",
              "10  bibliometric analysis turkish software enginee...   \n",
              "11  improved indoor positioning method based recei...   \n",
              "12  industry-academia collaboration software testi...   \n",
              "13  alignment source code quality perspectives exp...   \n",
              "14  measuring software reliability : trend using m...   \n",
              "15  industrial case study improving quality integr...   \n",
              "16  challenges structured reuse adoption—lessons l...   \n",
              "17  establishing long-lasting relationships indust...   \n",
              "18  towards proactive management technical debt so...   \n",
              "19  difficulty factors obtaining access empirical ...   \n",
              "\n",
              "                                             features  categories  years  \\\n",
              "0                        (0, 324)\\t0.2944777476376821           0   1976   \n",
              "1                       (0, 124)\\t0.23131665679577518           0   2009   \n",
              "2     (0, 134)\\t0.13016741554862618\\n  (0, 139)\\t0...           0   2010   \n",
              "3     (0, 183)\\t0.15822664177697937\\n  (0, 186)\\t0...           1   2015   \n",
              "4     (0, 146)\\t0.14072179760709141\\n  (0, 183)\\t0...           1   2015   \n",
              "5     (0, 121)\\t0.2898421162832981\\n  (0, 122)\\t0....           1   2015   \n",
              "6     (0, 176)\\t0.230029738282692\\n  (0, 226)\\t0.2...           1   2015   \n",
              "7     (0, 5)\\t0.09142433180595995\\n  (0, 16)\\t0.13...           0   2015   \n",
              "8     (0, 124)\\t0.17914005455415025\\n  (0, 353)\\t0...           0   2015   \n",
              "9     (0, 77)\\t0.09858311922841677\\n  (0, 243)\\t0....           0   2015   \n",
              "10    (0, 146)\\t0.11779419761539188\\n  (0, 155)\\t0...           0   2015   \n",
              "11                                                              0   2015   \n",
              "12    (0, 5)\\t0.12796989396113945\\n  (0, 6)\\t0.162...           0   2015   \n",
              "13                      (0, 234)\\t0.13345142926719739           0   2015   \n",
              "14    (0, 598)\\t0.23576057404995066\\n  (0, 599)\\t0...           0   2015   \n",
              "15    (0, 234)\\t0.11891111822382902\\n  (0, 760)\\t0...           0   2015   \n",
              "16    (0, 55)\\t0.20667491318998846\\n  (0, 287)\\t0....           0   2015   \n",
              "17    (0, 5)\\t0.1503867041689235\\n  (0, 243)\\t0.11...           0   2015   \n",
              "18                                                              0   2015   \n",
              "19    (0, 134)\\t0.14445700637024272\\n  (0, 243)\\t0...           0   2015   \n",
              "\n",
              "    DT_pred  SVM_pred  \n",
              "0         0         0  \n",
              "1         0         0  \n",
              "2         0         0  \n",
              "3         0         1  \n",
              "4         0         1  \n",
              "5         0         1  \n",
              "6         0         1  \n",
              "7         0         0  \n",
              "8         0         0  \n",
              "9         0         0  \n",
              "10        0         0  \n",
              "11        0         0  \n",
              "12        0         0  \n",
              "13        0         0  \n",
              "14        0         0  \n",
              "15        0         0  \n",
              "16        0         0  \n",
              "17        0         0  \n",
              "18        0         0  \n",
              "19        0         0  "
            ],
            "text/html": [
              "\n",
              "  <div id=\"df-513efa50-4ada-4f75-8582-eac69bf72f5b\">\n",
              "    <div class=\"colab-df-container\">\n",
              "      <div>\n",
              "<style scoped>\n",
              "    .dataframe tbody tr th:only-of-type {\n",
              "        vertical-align: middle;\n",
              "    }\n",
              "\n",
              "    .dataframe tbody tr th {\n",
              "        vertical-align: top;\n",
              "    }\n",
              "\n",
              "    .dataframe thead th {\n",
              "        text-align: right;\n",
              "    }\n",
              "</style>\n",
              "<table border=\"1\" class=\"dataframe\">\n",
              "  <thead>\n",
              "    <tr style=\"text-align: right;\">\n",
              "      <th></th>\n",
              "      <th>texts</th>\n",
              "      <th>features</th>\n",
              "      <th>categories</th>\n",
              "      <th>years</th>\n",
              "      <th>DT_pred</th>\n",
              "      <th>SVM_pred</th>\n",
              "    </tr>\n",
              "  </thead>\n",
              "  <tbody>\n",
              "    <tr>\n",
              "      <th>0</th>\n",
              "      <td>operations technology organizational structure .</td>\n",
              "      <td>(0, 324)\\t0.2944777476376821</td>\n",
              "      <td>0</td>\n",
              "      <td>1976</td>\n",
              "      <td>0</td>\n",
              "      <td>0</td>\n",
              "    </tr>\n",
              "    <tr>\n",
              "      <th>1</th>\n",
              "      <td>design science nested problem solve</td>\n",
              "      <td>(0, 124)\\t0.23131665679577518</td>\n",
              "      <td>0</td>\n",
              "      <td>2009</td>\n",
              "      <td>0</td>\n",
              "      <td>0</td>\n",
              "    </tr>\n",
              "    <tr>\n",
              "      <th>2</th>\n",
              "      <td>large-scale empirical study practitioners ' us...</td>\n",
              "      <td>(0, 134)\\t0.13016741554862618\\n  (0, 139)\\t0...</td>\n",
              "      <td>0</td>\n",
              "      <td>2010</td>\n",
              "      <td>0</td>\n",
              "      <td>0</td>\n",
              "    </tr>\n",
              "    <tr>\n",
              "      <th>3</th>\n",
              "      <td>planning unknown : lessons learned ten months ...</td>\n",
              "      <td>(0, 183)\\t0.15822664177697937\\n  (0, 186)\\t0...</td>\n",
              "      <td>1</td>\n",
              "      <td>2015</td>\n",
              "      <td>0</td>\n",
              "      <td>1</td>\n",
              "    </tr>\n",
              "    <tr>\n",
              "      <th>4</th>\n",
              "      <td>exploratory study technology transfer software...</td>\n",
              "      <td>(0, 146)\\t0.14072179760709141\\n  (0, 183)\\t0...</td>\n",
              "      <td>1</td>\n",
              "      <td>2015</td>\n",
              "      <td>0</td>\n",
              "      <td>1</td>\n",
              "    </tr>\n",
              "    <tr>\n",
              "      <th>5</th>\n",
              "      <td>fast feedback cycles empirical software engine...</td>\n",
              "      <td>(0, 121)\\t0.2898421162832981\\n  (0, 122)\\t0....</td>\n",
              "      <td>1</td>\n",
              "      <td>2015</td>\n",
              "      <td>0</td>\n",
              "      <td>1</td>\n",
              "    </tr>\n",
              "    <tr>\n",
              "      <th>6</th>\n",
              "      <td>integration se research industry : reflections...</td>\n",
              "      <td>(0, 176)\\t0.230029738282692\\n  (0, 226)\\t0.2...</td>\n",
              "      <td>1</td>\n",
              "      <td>2015</td>\n",
              "      <td>0</td>\n",
              "      <td>1</td>\n",
              "    </tr>\n",
              "    <tr>\n",
              "      <th>7</th>\n",
              "      <td>towards approach matching cmd dsr improve acad...</td>\n",
              "      <td>(0, 5)\\t0.09142433180595995\\n  (0, 16)\\t0.13...</td>\n",
              "      <td>0</td>\n",
              "      <td>2015</td>\n",
              "      <td>0</td>\n",
              "      <td>0</td>\n",
              "    </tr>\n",
              "    <tr>\n",
              "      <th>8</th>\n",
              "      <td>proposal using design science educational tech...</td>\n",
              "      <td>(0, 124)\\t0.17914005455415025\\n  (0, 353)\\t0...</td>\n",
              "      <td>0</td>\n",
              "      <td>2015</td>\n",
              "      <td>0</td>\n",
              "      <td>0</td>\n",
              "    </tr>\n",
              "    <tr>\n",
              "      <th>9</th>\n",
              "      <td>university-industry collaboration open source ...</td>\n",
              "      <td>(0, 77)\\t0.09858311922841677\\n  (0, 243)\\t0....</td>\n",
              "      <td>0</td>\n",
              "      <td>2015</td>\n",
              "      <td>0</td>\n",
              "      <td>0</td>\n",
              "    </tr>\n",
              "    <tr>\n",
              "      <th>10</th>\n",
              "      <td>bibliometric analysis turkish software enginee...</td>\n",
              "      <td>(0, 146)\\t0.11779419761539188\\n  (0, 155)\\t0...</td>\n",
              "      <td>0</td>\n",
              "      <td>2015</td>\n",
              "      <td>0</td>\n",
              "      <td>0</td>\n",
              "    </tr>\n",
              "    <tr>\n",
              "      <th>11</th>\n",
              "      <td>improved indoor positioning method based recei...</td>\n",
              "      <td></td>\n",
              "      <td>0</td>\n",
              "      <td>2015</td>\n",
              "      <td>0</td>\n",
              "      <td>0</td>\n",
              "    </tr>\n",
              "    <tr>\n",
              "      <th>12</th>\n",
              "      <td>industry-academia collaboration software testi...</td>\n",
              "      <td>(0, 5)\\t0.12796989396113945\\n  (0, 6)\\t0.162...</td>\n",
              "      <td>0</td>\n",
              "      <td>2015</td>\n",
              "      <td>0</td>\n",
              "      <td>0</td>\n",
              "    </tr>\n",
              "    <tr>\n",
              "      <th>13</th>\n",
              "      <td>alignment source code quality perspectives exp...</td>\n",
              "      <td>(0, 234)\\t0.13345142926719739</td>\n",
              "      <td>0</td>\n",
              "      <td>2015</td>\n",
              "      <td>0</td>\n",
              "      <td>0</td>\n",
              "    </tr>\n",
              "    <tr>\n",
              "      <th>14</th>\n",
              "      <td>measuring software reliability : trend using m...</td>\n",
              "      <td>(0, 598)\\t0.23576057404995066\\n  (0, 599)\\t0...</td>\n",
              "      <td>0</td>\n",
              "      <td>2015</td>\n",
              "      <td>0</td>\n",
              "      <td>0</td>\n",
              "    </tr>\n",
              "    <tr>\n",
              "      <th>15</th>\n",
              "      <td>industrial case study improving quality integr...</td>\n",
              "      <td>(0, 234)\\t0.11891111822382902\\n  (0, 760)\\t0...</td>\n",
              "      <td>0</td>\n",
              "      <td>2015</td>\n",
              "      <td>0</td>\n",
              "      <td>0</td>\n",
              "    </tr>\n",
              "    <tr>\n",
              "      <th>16</th>\n",
              "      <td>challenges structured reuse adoption—lessons l...</td>\n",
              "      <td>(0, 55)\\t0.20667491318998846\\n  (0, 287)\\t0....</td>\n",
              "      <td>0</td>\n",
              "      <td>2015</td>\n",
              "      <td>0</td>\n",
              "      <td>0</td>\n",
              "    </tr>\n",
              "    <tr>\n",
              "      <th>17</th>\n",
              "      <td>establishing long-lasting relationships indust...</td>\n",
              "      <td>(0, 5)\\t0.1503867041689235\\n  (0, 243)\\t0.11...</td>\n",
              "      <td>0</td>\n",
              "      <td>2015</td>\n",
              "      <td>0</td>\n",
              "      <td>0</td>\n",
              "    </tr>\n",
              "    <tr>\n",
              "      <th>18</th>\n",
              "      <td>towards proactive management technical debt so...</td>\n",
              "      <td></td>\n",
              "      <td>0</td>\n",
              "      <td>2015</td>\n",
              "      <td>0</td>\n",
              "      <td>0</td>\n",
              "    </tr>\n",
              "    <tr>\n",
              "      <th>19</th>\n",
              "      <td>difficulty factors obtaining access empirical ...</td>\n",
              "      <td>(0, 134)\\t0.14445700637024272\\n  (0, 243)\\t0...</td>\n",
              "      <td>0</td>\n",
              "      <td>2015</td>\n",
              "      <td>0</td>\n",
              "      <td>0</td>\n",
              "    </tr>\n",
              "  </tbody>\n",
              "</table>\n",
              "</div>\n",
              "      <button class=\"colab-df-convert\" onclick=\"convertToInteractive('df-513efa50-4ada-4f75-8582-eac69bf72f5b')\"\n",
              "              title=\"Convert this dataframe to an interactive table.\"\n",
              "              style=\"display:none;\">\n",
              "        \n",
              "  <svg xmlns=\"http://www.w3.org/2000/svg\" height=\"24px\"viewBox=\"0 0 24 24\"\n",
              "       width=\"24px\">\n",
              "    <path d=\"M0 0h24v24H0V0z\" fill=\"none\"/>\n",
              "    <path d=\"M18.56 5.44l.94 2.06.94-2.06 2.06-.94-2.06-.94-.94-2.06-.94 2.06-2.06.94zm-11 1L8.5 8.5l.94-2.06 2.06-.94-2.06-.94L8.5 2.5l-.94 2.06-2.06.94zm10 10l.94 2.06.94-2.06 2.06-.94-2.06-.94-.94-2.06-.94 2.06-2.06.94z\"/><path d=\"M17.41 7.96l-1.37-1.37c-.4-.4-.92-.59-1.43-.59-.52 0-1.04.2-1.43.59L10.3 9.45l-7.72 7.72c-.78.78-.78 2.05 0 2.83L4 21.41c.39.39.9.59 1.41.59.51 0 1.02-.2 1.41-.59l7.78-7.78 2.81-2.81c.8-.78.8-2.07 0-2.86zM5.41 20L4 18.59l7.72-7.72 1.47 1.35L5.41 20z\"/>\n",
              "  </svg>\n",
              "      </button>\n",
              "      \n",
              "  <style>\n",
              "    .colab-df-container {\n",
              "      display:flex;\n",
              "      flex-wrap:wrap;\n",
              "      gap: 12px;\n",
              "    }\n",
              "\n",
              "    .colab-df-convert {\n",
              "      background-color: #E8F0FE;\n",
              "      border: none;\n",
              "      border-radius: 50%;\n",
              "      cursor: pointer;\n",
              "      display: none;\n",
              "      fill: #1967D2;\n",
              "      height: 32px;\n",
              "      padding: 0 0 0 0;\n",
              "      width: 32px;\n",
              "    }\n",
              "\n",
              "    .colab-df-convert:hover {\n",
              "      background-color: #E2EBFA;\n",
              "      box-shadow: 0px 1px 2px rgba(60, 64, 67, 0.3), 0px 1px 3px 1px rgba(60, 64, 67, 0.15);\n",
              "      fill: #174EA6;\n",
              "    }\n",
              "\n",
              "    [theme=dark] .colab-df-convert {\n",
              "      background-color: #3B4455;\n",
              "      fill: #D2E3FC;\n",
              "    }\n",
              "\n",
              "    [theme=dark] .colab-df-convert:hover {\n",
              "      background-color: #434B5C;\n",
              "      box-shadow: 0px 1px 3px 1px rgba(0, 0, 0, 0.15);\n",
              "      filter: drop-shadow(0px 1px 2px rgba(0, 0, 0, 0.3));\n",
              "      fill: #FFFFFF;\n",
              "    }\n",
              "  </style>\n",
              "\n",
              "      <script>\n",
              "        const buttonEl =\n",
              "          document.querySelector('#df-513efa50-4ada-4f75-8582-eac69bf72f5b button.colab-df-convert');\n",
              "        buttonEl.style.display =\n",
              "          google.colab.kernel.accessAllowed ? 'block' : 'none';\n",
              "\n",
              "        async function convertToInteractive(key) {\n",
              "          const element = document.querySelector('#df-513efa50-4ada-4f75-8582-eac69bf72f5b');\n",
              "          const dataTable =\n",
              "            await google.colab.kernel.invokeFunction('convertToInteractive',\n",
              "                                                     [key], {});\n",
              "          if (!dataTable) return;\n",
              "\n",
              "          const docLinkHtml = 'Like what you see? Visit the ' +\n",
              "            '<a target=\"_blank\" href=https://colab.research.google.com/notebooks/data_table.ipynb>data table notebook</a>'\n",
              "            + ' to learn more about interactive tables.';\n",
              "          element.innerHTML = '';\n",
              "          dataTable['output_type'] = 'display_data';\n",
              "          await google.colab.output.renderOutput(dataTable, element);\n",
              "          const docLink = document.createElement('div');\n",
              "          docLink.innerHTML = docLinkHtml;\n",
              "          element.appendChild(docLink);\n",
              "        }\n",
              "      </script>\n",
              "    </div>\n",
              "  </div>\n",
              "  "
            ]
          },
          "metadata": {},
          "execution_count": 47
        }
      ]
    },
    {
      "cell_type": "code",
      "source": [
        "# 'SVM_pred' or 'DT_pred'\n",
        "def get_real_negatives(classifier_type: str):\n",
        "    return df_testing.loc[(df_testing['categories'] == 0) & (df_testing['categories'] == df_testing[classifier_type]), ['texts', 'categories', classifier_type]]\n",
        "\n",
        "def get_real_positives(classifier_type: str):\n",
        "    return df_testing.loc[(df_testing['categories'] == 1) & (df_testing['categories'] == df_testing[classifier_type]), ['texts', 'categories', classifier_type]]\n",
        "\n",
        "def get_false_negative(classifier_type: str):\n",
        "    return df_testing.loc[(df_testing['categories'] == 1) & (df_testing[classifier_type] == 0), ['texts', 'categories', classifier_type]]\n",
        "\n",
        "def get_false_positive(classifier_type: str):\n",
        "    return df_testing.loc[(df_testing['categories'] == 0) & (df_testing[classifier_type] == 1), ['texts', 'categories', classifier_type]] "
      ],
      "metadata": {
        "id": "DIezcgGH6uv5"
      },
      "execution_count": 48,
      "outputs": []
    },
    {
      "cell_type": "markdown",
      "source": [
        "#### DT analysis"
      ],
      "metadata": {
        "id": "O8z8teBz3cBj"
      }
    },
    {
      "cell_type": "code",
      "source": [
        "cls_type = 'DT_pred'\n",
        "df_dt_real_negatives = get_real_negatives(cls_type)\n",
        "df_dt_real_positives = get_real_positives(cls_type)\n",
        "df_dt_false_negative = get_false_negative(cls_type)\n",
        "df_dt_false_positive = get_false_positive(cls_type)"
      ],
      "metadata": {
        "id": "kn0bfCPW3ZAl"
      },
      "execution_count": 49,
      "outputs": []
    },
    {
      "cell_type": "code",
      "source": [
        "print(\"RN\",len(df_dt_real_negatives))\n",
        "print(\"RP\", len(df_dt_real_positives))\n",
        "print(\"FN\", len(df_dt_false_negative))\n",
        "print(\"FP\", len(df_dt_false_positive))"
      ],
      "metadata": {
        "colab": {
          "base_uri": "https://localhost:8080/"
        },
        "id": "4WNTICcH4PTB",
        "outputId": "4798118b-1d3a-4f6d-bf35-f7a47507518a"
      },
      "execution_count": 50,
      "outputs": [
        {
          "output_type": "stream",
          "name": "stdout",
          "text": [
            "RN 466\n",
            "RP 6\n",
            "FN 29\n",
            "FP 6\n"
          ]
        }
      ]
    },
    {
      "cell_type": "code",
      "source": [
        "df_dt_real_positives"
      ],
      "metadata": {
        "colab": {
          "base_uri": "https://localhost:8080/",
          "height": 238
        },
        "id": "YsWp_GWc4UIq",
        "outputId": "29e553d4-332b-47fa-9f20-88155093529c"
      },
      "execution_count": 51,
      "outputs": [
        {
          "output_type": "execute_result",
          "data": {
            "text/plain": [
              "                                                 texts  categories  DT_pred\n",
              "78   researcher ’ experiences supporting industrial...           1        1\n",
              "80   research framework build spi proposal small or...           1        1\n",
              "159  meeting industry-academia research collaborati...           1        1\n",
              "163  model-based testing digital tvs : industry-as-...           1        1\n",
              "356  together stronger : evidence-based reflection ...           1        1\n",
              "359  lessons learned research co-creation : making ...           1        1"
            ],
            "text/html": [
              "\n",
              "  <div id=\"df-cfbb08e8-12be-4262-a042-92b89e0889de\">\n",
              "    <div class=\"colab-df-container\">\n",
              "      <div>\n",
              "<style scoped>\n",
              "    .dataframe tbody tr th:only-of-type {\n",
              "        vertical-align: middle;\n",
              "    }\n",
              "\n",
              "    .dataframe tbody tr th {\n",
              "        vertical-align: top;\n",
              "    }\n",
              "\n",
              "    .dataframe thead th {\n",
              "        text-align: right;\n",
              "    }\n",
              "</style>\n",
              "<table border=\"1\" class=\"dataframe\">\n",
              "  <thead>\n",
              "    <tr style=\"text-align: right;\">\n",
              "      <th></th>\n",
              "      <th>texts</th>\n",
              "      <th>categories</th>\n",
              "      <th>DT_pred</th>\n",
              "    </tr>\n",
              "  </thead>\n",
              "  <tbody>\n",
              "    <tr>\n",
              "      <th>78</th>\n",
              "      <td>researcher ’ experiences supporting industrial...</td>\n",
              "      <td>1</td>\n",
              "      <td>1</td>\n",
              "    </tr>\n",
              "    <tr>\n",
              "      <th>80</th>\n",
              "      <td>research framework build spi proposal small or...</td>\n",
              "      <td>1</td>\n",
              "      <td>1</td>\n",
              "    </tr>\n",
              "    <tr>\n",
              "      <th>159</th>\n",
              "      <td>meeting industry-academia research collaborati...</td>\n",
              "      <td>1</td>\n",
              "      <td>1</td>\n",
              "    </tr>\n",
              "    <tr>\n",
              "      <th>163</th>\n",
              "      <td>model-based testing digital tvs : industry-as-...</td>\n",
              "      <td>1</td>\n",
              "      <td>1</td>\n",
              "    </tr>\n",
              "    <tr>\n",
              "      <th>356</th>\n",
              "      <td>together stronger : evidence-based reflection ...</td>\n",
              "      <td>1</td>\n",
              "      <td>1</td>\n",
              "    </tr>\n",
              "    <tr>\n",
              "      <th>359</th>\n",
              "      <td>lessons learned research co-creation : making ...</td>\n",
              "      <td>1</td>\n",
              "      <td>1</td>\n",
              "    </tr>\n",
              "  </tbody>\n",
              "</table>\n",
              "</div>\n",
              "      <button class=\"colab-df-convert\" onclick=\"convertToInteractive('df-cfbb08e8-12be-4262-a042-92b89e0889de')\"\n",
              "              title=\"Convert this dataframe to an interactive table.\"\n",
              "              style=\"display:none;\">\n",
              "        \n",
              "  <svg xmlns=\"http://www.w3.org/2000/svg\" height=\"24px\"viewBox=\"0 0 24 24\"\n",
              "       width=\"24px\">\n",
              "    <path d=\"M0 0h24v24H0V0z\" fill=\"none\"/>\n",
              "    <path d=\"M18.56 5.44l.94 2.06.94-2.06 2.06-.94-2.06-.94-.94-2.06-.94 2.06-2.06.94zm-11 1L8.5 8.5l.94-2.06 2.06-.94-2.06-.94L8.5 2.5l-.94 2.06-2.06.94zm10 10l.94 2.06.94-2.06 2.06-.94-2.06-.94-.94-2.06-.94 2.06-2.06.94z\"/><path d=\"M17.41 7.96l-1.37-1.37c-.4-.4-.92-.59-1.43-.59-.52 0-1.04.2-1.43.59L10.3 9.45l-7.72 7.72c-.78.78-.78 2.05 0 2.83L4 21.41c.39.39.9.59 1.41.59.51 0 1.02-.2 1.41-.59l7.78-7.78 2.81-2.81c.8-.78.8-2.07 0-2.86zM5.41 20L4 18.59l7.72-7.72 1.47 1.35L5.41 20z\"/>\n",
              "  </svg>\n",
              "      </button>\n",
              "      \n",
              "  <style>\n",
              "    .colab-df-container {\n",
              "      display:flex;\n",
              "      flex-wrap:wrap;\n",
              "      gap: 12px;\n",
              "    }\n",
              "\n",
              "    .colab-df-convert {\n",
              "      background-color: #E8F0FE;\n",
              "      border: none;\n",
              "      border-radius: 50%;\n",
              "      cursor: pointer;\n",
              "      display: none;\n",
              "      fill: #1967D2;\n",
              "      height: 32px;\n",
              "      padding: 0 0 0 0;\n",
              "      width: 32px;\n",
              "    }\n",
              "\n",
              "    .colab-df-convert:hover {\n",
              "      background-color: #E2EBFA;\n",
              "      box-shadow: 0px 1px 2px rgba(60, 64, 67, 0.3), 0px 1px 3px 1px rgba(60, 64, 67, 0.15);\n",
              "      fill: #174EA6;\n",
              "    }\n",
              "\n",
              "    [theme=dark] .colab-df-convert {\n",
              "      background-color: #3B4455;\n",
              "      fill: #D2E3FC;\n",
              "    }\n",
              "\n",
              "    [theme=dark] .colab-df-convert:hover {\n",
              "      background-color: #434B5C;\n",
              "      box-shadow: 0px 1px 3px 1px rgba(0, 0, 0, 0.15);\n",
              "      filter: drop-shadow(0px 1px 2px rgba(0, 0, 0, 0.3));\n",
              "      fill: #FFFFFF;\n",
              "    }\n",
              "  </style>\n",
              "\n",
              "      <script>\n",
              "        const buttonEl =\n",
              "          document.querySelector('#df-cfbb08e8-12be-4262-a042-92b89e0889de button.colab-df-convert');\n",
              "        buttonEl.style.display =\n",
              "          google.colab.kernel.accessAllowed ? 'block' : 'none';\n",
              "\n",
              "        async function convertToInteractive(key) {\n",
              "          const element = document.querySelector('#df-cfbb08e8-12be-4262-a042-92b89e0889de');\n",
              "          const dataTable =\n",
              "            await google.colab.kernel.invokeFunction('convertToInteractive',\n",
              "                                                     [key], {});\n",
              "          if (!dataTable) return;\n",
              "\n",
              "          const docLinkHtml = 'Like what you see? Visit the ' +\n",
              "            '<a target=\"_blank\" href=https://colab.research.google.com/notebooks/data_table.ipynb>data table notebook</a>'\n",
              "            + ' to learn more about interactive tables.';\n",
              "          element.innerHTML = '';\n",
              "          dataTable['output_type'] = 'display_data';\n",
              "          await google.colab.output.renderOutput(dataTable, element);\n",
              "          const docLink = document.createElement('div');\n",
              "          docLink.innerHTML = docLinkHtml;\n",
              "          element.appendChild(docLink);\n",
              "        }\n",
              "      </script>\n",
              "    </div>\n",
              "  </div>\n",
              "  "
            ]
          },
          "metadata": {},
          "execution_count": 51
        }
      ]
    },
    {
      "cell_type": "markdown",
      "source": [
        "#### SVM analysis"
      ],
      "metadata": {
        "id": "WxUtnrnA3gzf"
      }
    },
    {
      "cell_type": "code",
      "source": [
        "cls_type = 'SVM_pred'\n",
        "df_svm_real_negatives = get_real_negatives(cls_type)\n",
        "df_svm_real_positives = get_real_positives(cls_type)\n",
        "df_svm_false_negative = get_false_negative(cls_type)\n",
        "df_svm_false_positive = get_false_positive(cls_type)"
      ],
      "metadata": {
        "id": "Ldey0vS03Yh9"
      },
      "execution_count": 52,
      "outputs": []
    },
    {
      "cell_type": "code",
      "source": [
        "print(\"RN\",len(df_svm_real_negatives))\n",
        "print(\"RP\",len(df_svm_real_positives))\n",
        "print(\"FN\",len(df_svm_false_negative))\n",
        "print(\"FP\",len(df_svm_false_positive))\n",
        "\n",
        "print(\"\\n\",df_svm_false_positive)"
      ],
      "metadata": {
        "colab": {
          "base_uri": "https://localhost:8080/"
        },
        "id": "qlTYjrXj6uhi",
        "outputId": "cf1b69ad-4ece-4a36-88be-92c9ff1f036a"
      },
      "execution_count": 53,
      "outputs": [
        {
          "output_type": "stream",
          "name": "stdout",
          "text": [
            "RN 470\n",
            "RP 35\n",
            "FN 0\n",
            "FP 2\n",
            "\n",
            "                                                  texts  categories  SVM_pred\n",
            "433  guiding selection research methodology industr...           0         1\n",
            "446  case study industry–academia communication joi...           0         1\n"
          ]
        }
      ]
    },
    {
      "cell_type": "code",
      "source": [
        "df_svm_real_positives"
      ],
      "metadata": {
        "colab": {
          "base_uri": "https://localhost:8080/",
          "height": 1000
        },
        "id": "MQIYlCys74Q-",
        "outputId": "df10d6f1-61e8-40e9-83d9-5ae30e852a71"
      },
      "execution_count": 54,
      "outputs": [
        {
          "output_type": "execute_result",
          "data": {
            "text/plain": [
              "                                                 texts  categories  SVM_pred\n",
              "3    planning unknown : lessons learned ten months ...           1         1\n",
              "4    exploratory study technology transfer software...           1         1\n",
              "5    fast feedback cycles empirical software engine...           1         1\n",
              "6    integration se research industry : reflections...           1         1\n",
              "78   researcher ’ experiences supporting industrial...           1         1\n",
              "79   softcoder approach : promoting software engine...           1         1\n",
              "80   research framework build spi proposal small or...           1         1\n",
              "159  meeting industry-academia research collaborati...           1         1\n",
              "160  industry-academia collaborations software engi...           1         1\n",
              "161  industry -- academia collaboration software te...           1         1\n",
              "162  serp-test : taxonomy support industry -- acade...           1         1\n",
              "163  model-based testing digital tvs : industry-as-...           1         1\n",
              "226  leveraging organizational climate theory under...           1         1\n",
              "227  protocol tools conducting agile software engin...           1         1\n",
              "228  recruitment , engagement feedback empirical so...           1         1\n",
              "229  continuous collaborative technology transfer :...           1         1\n",
              "230  towards model transfer knowledge software engi...           1         1\n",
              "300  characterizing industry-academia collaboration...           1         1\n",
              "301  generative modeling games exploratory industry...           1         1\n",
              "302  contextualizing research evidence knowledge tr...           1         1\n",
              "355  successful engagement practitioners software e...           1         1\n",
              "356  together stronger : evidence-based reflection ...           1         1\n",
              "357  fostering industry-academia collaboration soft...           1         1\n",
              "358  exploring improving industry-academia communic...           1         1\n",
              "359  lessons learned research co-creation : making ...           1         1\n",
              "360  university-software industry collaboration : e...           1         1\n",
              "361  framework improve university -- industry colla...           1         1\n",
              "362  third generation industrial co-production soft...           1         1\n",
              "363  design science paradigm frame empirical softwa...           1         1\n",
              "427  industry-academia research collaboration softw...           1         1\n",
              "428  guiding selection research methodology industr...           1         1\n",
              "429  case study industry -- academia communication ...           1         1\n",
              "430  knowledge management university-software indus...           1         1\n",
              "431  exploring dimensions university-company collab...           1         1\n",
              "432  context checklist industrial software engineer...           1         1"
            ],
            "text/html": [
              "\n",
              "  <div id=\"df-b55aa63e-e0cc-4575-ade3-370b5a7511bd\">\n",
              "    <div class=\"colab-df-container\">\n",
              "      <div>\n",
              "<style scoped>\n",
              "    .dataframe tbody tr th:only-of-type {\n",
              "        vertical-align: middle;\n",
              "    }\n",
              "\n",
              "    .dataframe tbody tr th {\n",
              "        vertical-align: top;\n",
              "    }\n",
              "\n",
              "    .dataframe thead th {\n",
              "        text-align: right;\n",
              "    }\n",
              "</style>\n",
              "<table border=\"1\" class=\"dataframe\">\n",
              "  <thead>\n",
              "    <tr style=\"text-align: right;\">\n",
              "      <th></th>\n",
              "      <th>texts</th>\n",
              "      <th>categories</th>\n",
              "      <th>SVM_pred</th>\n",
              "    </tr>\n",
              "  </thead>\n",
              "  <tbody>\n",
              "    <tr>\n",
              "      <th>3</th>\n",
              "      <td>planning unknown : lessons learned ten months ...</td>\n",
              "      <td>1</td>\n",
              "      <td>1</td>\n",
              "    </tr>\n",
              "    <tr>\n",
              "      <th>4</th>\n",
              "      <td>exploratory study technology transfer software...</td>\n",
              "      <td>1</td>\n",
              "      <td>1</td>\n",
              "    </tr>\n",
              "    <tr>\n",
              "      <th>5</th>\n",
              "      <td>fast feedback cycles empirical software engine...</td>\n",
              "      <td>1</td>\n",
              "      <td>1</td>\n",
              "    </tr>\n",
              "    <tr>\n",
              "      <th>6</th>\n",
              "      <td>integration se research industry : reflections...</td>\n",
              "      <td>1</td>\n",
              "      <td>1</td>\n",
              "    </tr>\n",
              "    <tr>\n",
              "      <th>78</th>\n",
              "      <td>researcher ’ experiences supporting industrial...</td>\n",
              "      <td>1</td>\n",
              "      <td>1</td>\n",
              "    </tr>\n",
              "    <tr>\n",
              "      <th>79</th>\n",
              "      <td>softcoder approach : promoting software engine...</td>\n",
              "      <td>1</td>\n",
              "      <td>1</td>\n",
              "    </tr>\n",
              "    <tr>\n",
              "      <th>80</th>\n",
              "      <td>research framework build spi proposal small or...</td>\n",
              "      <td>1</td>\n",
              "      <td>1</td>\n",
              "    </tr>\n",
              "    <tr>\n",
              "      <th>159</th>\n",
              "      <td>meeting industry-academia research collaborati...</td>\n",
              "      <td>1</td>\n",
              "      <td>1</td>\n",
              "    </tr>\n",
              "    <tr>\n",
              "      <th>160</th>\n",
              "      <td>industry-academia collaborations software engi...</td>\n",
              "      <td>1</td>\n",
              "      <td>1</td>\n",
              "    </tr>\n",
              "    <tr>\n",
              "      <th>161</th>\n",
              "      <td>industry -- academia collaboration software te...</td>\n",
              "      <td>1</td>\n",
              "      <td>1</td>\n",
              "    </tr>\n",
              "    <tr>\n",
              "      <th>162</th>\n",
              "      <td>serp-test : taxonomy support industry -- acade...</td>\n",
              "      <td>1</td>\n",
              "      <td>1</td>\n",
              "    </tr>\n",
              "    <tr>\n",
              "      <th>163</th>\n",
              "      <td>model-based testing digital tvs : industry-as-...</td>\n",
              "      <td>1</td>\n",
              "      <td>1</td>\n",
              "    </tr>\n",
              "    <tr>\n",
              "      <th>226</th>\n",
              "      <td>leveraging organizational climate theory under...</td>\n",
              "      <td>1</td>\n",
              "      <td>1</td>\n",
              "    </tr>\n",
              "    <tr>\n",
              "      <th>227</th>\n",
              "      <td>protocol tools conducting agile software engin...</td>\n",
              "      <td>1</td>\n",
              "      <td>1</td>\n",
              "    </tr>\n",
              "    <tr>\n",
              "      <th>228</th>\n",
              "      <td>recruitment , engagement feedback empirical so...</td>\n",
              "      <td>1</td>\n",
              "      <td>1</td>\n",
              "    </tr>\n",
              "    <tr>\n",
              "      <th>229</th>\n",
              "      <td>continuous collaborative technology transfer :...</td>\n",
              "      <td>1</td>\n",
              "      <td>1</td>\n",
              "    </tr>\n",
              "    <tr>\n",
              "      <th>230</th>\n",
              "      <td>towards model transfer knowledge software engi...</td>\n",
              "      <td>1</td>\n",
              "      <td>1</td>\n",
              "    </tr>\n",
              "    <tr>\n",
              "      <th>300</th>\n",
              "      <td>characterizing industry-academia collaboration...</td>\n",
              "      <td>1</td>\n",
              "      <td>1</td>\n",
              "    </tr>\n",
              "    <tr>\n",
              "      <th>301</th>\n",
              "      <td>generative modeling games exploratory industry...</td>\n",
              "      <td>1</td>\n",
              "      <td>1</td>\n",
              "    </tr>\n",
              "    <tr>\n",
              "      <th>302</th>\n",
              "      <td>contextualizing research evidence knowledge tr...</td>\n",
              "      <td>1</td>\n",
              "      <td>1</td>\n",
              "    </tr>\n",
              "    <tr>\n",
              "      <th>355</th>\n",
              "      <td>successful engagement practitioners software e...</td>\n",
              "      <td>1</td>\n",
              "      <td>1</td>\n",
              "    </tr>\n",
              "    <tr>\n",
              "      <th>356</th>\n",
              "      <td>together stronger : evidence-based reflection ...</td>\n",
              "      <td>1</td>\n",
              "      <td>1</td>\n",
              "    </tr>\n",
              "    <tr>\n",
              "      <th>357</th>\n",
              "      <td>fostering industry-academia collaboration soft...</td>\n",
              "      <td>1</td>\n",
              "      <td>1</td>\n",
              "    </tr>\n",
              "    <tr>\n",
              "      <th>358</th>\n",
              "      <td>exploring improving industry-academia communic...</td>\n",
              "      <td>1</td>\n",
              "      <td>1</td>\n",
              "    </tr>\n",
              "    <tr>\n",
              "      <th>359</th>\n",
              "      <td>lessons learned research co-creation : making ...</td>\n",
              "      <td>1</td>\n",
              "      <td>1</td>\n",
              "    </tr>\n",
              "    <tr>\n",
              "      <th>360</th>\n",
              "      <td>university-software industry collaboration : e...</td>\n",
              "      <td>1</td>\n",
              "      <td>1</td>\n",
              "    </tr>\n",
              "    <tr>\n",
              "      <th>361</th>\n",
              "      <td>framework improve university -- industry colla...</td>\n",
              "      <td>1</td>\n",
              "      <td>1</td>\n",
              "    </tr>\n",
              "    <tr>\n",
              "      <th>362</th>\n",
              "      <td>third generation industrial co-production soft...</td>\n",
              "      <td>1</td>\n",
              "      <td>1</td>\n",
              "    </tr>\n",
              "    <tr>\n",
              "      <th>363</th>\n",
              "      <td>design science paradigm frame empirical softwa...</td>\n",
              "      <td>1</td>\n",
              "      <td>1</td>\n",
              "    </tr>\n",
              "    <tr>\n",
              "      <th>427</th>\n",
              "      <td>industry-academia research collaboration softw...</td>\n",
              "      <td>1</td>\n",
              "      <td>1</td>\n",
              "    </tr>\n",
              "    <tr>\n",
              "      <th>428</th>\n",
              "      <td>guiding selection research methodology industr...</td>\n",
              "      <td>1</td>\n",
              "      <td>1</td>\n",
              "    </tr>\n",
              "    <tr>\n",
              "      <th>429</th>\n",
              "      <td>case study industry -- academia communication ...</td>\n",
              "      <td>1</td>\n",
              "      <td>1</td>\n",
              "    </tr>\n",
              "    <tr>\n",
              "      <th>430</th>\n",
              "      <td>knowledge management university-software indus...</td>\n",
              "      <td>1</td>\n",
              "      <td>1</td>\n",
              "    </tr>\n",
              "    <tr>\n",
              "      <th>431</th>\n",
              "      <td>exploring dimensions university-company collab...</td>\n",
              "      <td>1</td>\n",
              "      <td>1</td>\n",
              "    </tr>\n",
              "    <tr>\n",
              "      <th>432</th>\n",
              "      <td>context checklist industrial software engineer...</td>\n",
              "      <td>1</td>\n",
              "      <td>1</td>\n",
              "    </tr>\n",
              "  </tbody>\n",
              "</table>\n",
              "</div>\n",
              "      <button class=\"colab-df-convert\" onclick=\"convertToInteractive('df-b55aa63e-e0cc-4575-ade3-370b5a7511bd')\"\n",
              "              title=\"Convert this dataframe to an interactive table.\"\n",
              "              style=\"display:none;\">\n",
              "        \n",
              "  <svg xmlns=\"http://www.w3.org/2000/svg\" height=\"24px\"viewBox=\"0 0 24 24\"\n",
              "       width=\"24px\">\n",
              "    <path d=\"M0 0h24v24H0V0z\" fill=\"none\"/>\n",
              "    <path d=\"M18.56 5.44l.94 2.06.94-2.06 2.06-.94-2.06-.94-.94-2.06-.94 2.06-2.06.94zm-11 1L8.5 8.5l.94-2.06 2.06-.94-2.06-.94L8.5 2.5l-.94 2.06-2.06.94zm10 10l.94 2.06.94-2.06 2.06-.94-2.06-.94-.94-2.06-.94 2.06-2.06.94z\"/><path d=\"M17.41 7.96l-1.37-1.37c-.4-.4-.92-.59-1.43-.59-.52 0-1.04.2-1.43.59L10.3 9.45l-7.72 7.72c-.78.78-.78 2.05 0 2.83L4 21.41c.39.39.9.59 1.41.59.51 0 1.02-.2 1.41-.59l7.78-7.78 2.81-2.81c.8-.78.8-2.07 0-2.86zM5.41 20L4 18.59l7.72-7.72 1.47 1.35L5.41 20z\"/>\n",
              "  </svg>\n",
              "      </button>\n",
              "      \n",
              "  <style>\n",
              "    .colab-df-container {\n",
              "      display:flex;\n",
              "      flex-wrap:wrap;\n",
              "      gap: 12px;\n",
              "    }\n",
              "\n",
              "    .colab-df-convert {\n",
              "      background-color: #E8F0FE;\n",
              "      border: none;\n",
              "      border-radius: 50%;\n",
              "      cursor: pointer;\n",
              "      display: none;\n",
              "      fill: #1967D2;\n",
              "      height: 32px;\n",
              "      padding: 0 0 0 0;\n",
              "      width: 32px;\n",
              "    }\n",
              "\n",
              "    .colab-df-convert:hover {\n",
              "      background-color: #E2EBFA;\n",
              "      box-shadow: 0px 1px 2px rgba(60, 64, 67, 0.3), 0px 1px 3px 1px rgba(60, 64, 67, 0.15);\n",
              "      fill: #174EA6;\n",
              "    }\n",
              "\n",
              "    [theme=dark] .colab-df-convert {\n",
              "      background-color: #3B4455;\n",
              "      fill: #D2E3FC;\n",
              "    }\n",
              "\n",
              "    [theme=dark] .colab-df-convert:hover {\n",
              "      background-color: #434B5C;\n",
              "      box-shadow: 0px 1px 3px 1px rgba(0, 0, 0, 0.15);\n",
              "      filter: drop-shadow(0px 1px 2px rgba(0, 0, 0, 0.3));\n",
              "      fill: #FFFFFF;\n",
              "    }\n",
              "  </style>\n",
              "\n",
              "      <script>\n",
              "        const buttonEl =\n",
              "          document.querySelector('#df-b55aa63e-e0cc-4575-ade3-370b5a7511bd button.colab-df-convert');\n",
              "        buttonEl.style.display =\n",
              "          google.colab.kernel.accessAllowed ? 'block' : 'none';\n",
              "\n",
              "        async function convertToInteractive(key) {\n",
              "          const element = document.querySelector('#df-b55aa63e-e0cc-4575-ade3-370b5a7511bd');\n",
              "          const dataTable =\n",
              "            await google.colab.kernel.invokeFunction('convertToInteractive',\n",
              "                                                     [key], {});\n",
              "          if (!dataTable) return;\n",
              "\n",
              "          const docLinkHtml = 'Like what you see? Visit the ' +\n",
              "            '<a target=\"_blank\" href=https://colab.research.google.com/notebooks/data_table.ipynb>data table notebook</a>'\n",
              "            + ' to learn more about interactive tables.';\n",
              "          element.innerHTML = '';\n",
              "          dataTable['output_type'] = 'display_data';\n",
              "          await google.colab.output.renderOutput(dataTable, element);\n",
              "          const docLink = document.createElement('div');\n",
              "          docLink.innerHTML = docLinkHtml;\n",
              "          element.appendChild(docLink);\n",
              "        }\n",
              "      </script>\n",
              "    </div>\n",
              "  </div>\n",
              "  "
            ]
          },
          "metadata": {},
          "execution_count": 54
        }
      ]
    },
    {
      "cell_type": "code",
      "source": [
        "print(df_svm_real_positives)\n"
      ],
      "metadata": {
        "colab": {
          "base_uri": "https://localhost:8080/"
        },
        "id": "dQc7C-O2slla",
        "outputId": "3d7cca02-0482-47ac-e42a-4b3a497ad689"
      },
      "execution_count": 55,
      "outputs": [
        {
          "output_type": "stream",
          "name": "stdout",
          "text": [
            "                                                 texts  categories  SVM_pred\n",
            "3    planning unknown : lessons learned ten months ...           1         1\n",
            "4    exploratory study technology transfer software...           1         1\n",
            "5    fast feedback cycles empirical software engine...           1         1\n",
            "6    integration se research industry : reflections...           1         1\n",
            "78   researcher ’ experiences supporting industrial...           1         1\n",
            "79   softcoder approach : promoting software engine...           1         1\n",
            "80   research framework build spi proposal small or...           1         1\n",
            "159  meeting industry-academia research collaborati...           1         1\n",
            "160  industry-academia collaborations software engi...           1         1\n",
            "161  industry -- academia collaboration software te...           1         1\n",
            "162  serp-test : taxonomy support industry -- acade...           1         1\n",
            "163  model-based testing digital tvs : industry-as-...           1         1\n",
            "226  leveraging organizational climate theory under...           1         1\n",
            "227  protocol tools conducting agile software engin...           1         1\n",
            "228  recruitment , engagement feedback empirical so...           1         1\n",
            "229  continuous collaborative technology transfer :...           1         1\n",
            "230  towards model transfer knowledge software engi...           1         1\n",
            "300  characterizing industry-academia collaboration...           1         1\n",
            "301  generative modeling games exploratory industry...           1         1\n",
            "302  contextualizing research evidence knowledge tr...           1         1\n",
            "355  successful engagement practitioners software e...           1         1\n",
            "356  together stronger : evidence-based reflection ...           1         1\n",
            "357  fostering industry-academia collaboration soft...           1         1\n",
            "358  exploring improving industry-academia communic...           1         1\n",
            "359  lessons learned research co-creation : making ...           1         1\n",
            "360  university-software industry collaboration : e...           1         1\n",
            "361  framework improve university -- industry colla...           1         1\n",
            "362  third generation industrial co-production soft...           1         1\n",
            "363  design science paradigm frame empirical softwa...           1         1\n",
            "427  industry-academia research collaboration softw...           1         1\n",
            "428  guiding selection research methodology industr...           1         1\n",
            "429  case study industry -- academia communication ...           1         1\n",
            "430  knowledge management university-software indus...           1         1\n",
            "431  exploring dimensions university-company collab...           1         1\n",
            "432  context checklist industrial software engineer...           1         1\n"
          ]
        }
      ]
    },
    {
      "cell_type": "markdown",
      "source": [
        "## Convert dataframe to CSV and send to drive"
      ],
      "metadata": {
        "id": "_zoBLmfts_Gv"
      }
    },
    {
      "cell_type": "code",
      "source": [
        "df_report = df_testing\n",
        "\n",
        "unused_columns = ['features', 'years']\n",
        "df_report.drop(unused_columns, inplace=True, axis=1)\n",
        "df_report.rename(columns = {'categories':'Was Selected?'}, inplace = True)\n",
        "\n",
        "with codecs.open(result_file_path, 'w', encoding='utf-8') as report_file:\n",
        "    df_report.to_csv(report_file, index=False)"
      ],
      "metadata": {
        "id": "6KBbuejMw-FT"
      },
      "execution_count": 56,
      "outputs": []
    },
    {
      "cell_type": "markdown",
      "source": [
        "# END"
      ],
      "metadata": {
        "id": "ibELgG7qoQpP"
      }
    }
  ]
}