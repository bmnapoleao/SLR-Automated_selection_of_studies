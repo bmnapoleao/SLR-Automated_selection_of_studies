{
 "cells": [
  {
   "cell_type": "code",
   "execution_count": null,
   "id": "1ea325af",
   "metadata": {},
   "outputs": [],
   "source": []
  },
  {
   "cell_type": "code",
   "execution_count": 2,
   "id": "da28878e",
   "metadata": {},
   "outputs": [],
   "source": [
    "import numpy as np\n",
    "import pandas as pd\n",
    "import os\n",
    "\n",
    "# Get the current directory \n",
    "current_dir = os.path.dirname(os.getcwd())\n"
   ]
  },
  {
   "cell_type": "markdown",
   "id": "f053a150",
   "metadata": {},
   "source": [
    "## Loading CSVs"
   ]
  },
  {
   "cell_type": "code",
   "execution_count": null,
   "id": "11677ebc",
   "metadata": {},
   "outputs": [],
   "source": [
    "rq1_rf_xlsx_file = os.path.join(current_dir, 'analysis/rq1_gridsearch_anovaf_fs-k1200.xlsx')\n",
    "ml_pd = pd.read_excel(rq1_rf_xlsx_file, sheet_name='Probabilities', engine='openpyxl')\n",
    "ml_pd = ml_pd.loc[:, ~ml_pd.columns.str.contains('^Unnamed')]"
   ]
  },
  {
   "cell_type": "markdown",
   "id": "574f1a0b",
   "metadata": {},
   "source": [
    "### RQ1 - RF threshold analysis"
   ]
  },
  {
   "cell_type": "code",
   "execution_count": 5,
   "id": "c93b215c",
   "metadata": {},
   "outputs": [],
   "source": [
    "def calculateFscore(true_positives, false_positives, false_negatives): \n",
    "    # Calculate Precision\n",
    "    if true_positives + false_positives > 0:\n",
    "        precision = true_positives / (true_positives + false_positives)\n",
    "    else:\n",
    "        precision = 0  # To handle the case when TP and FP are both zero\n",
    "\n",
    "    # Calculate Recall\n",
    "    if true_positives + false_negatives > 0:\n",
    "        recall = true_positives / (true_positives + false_negatives)\n",
    "    else:\n",
    "        recall = 0  # To handle the case when TP and FN are both zero\n",
    "\n",
    "    # Calculate F1 Score\n",
    "    if precision + recall > 0:\n",
    "        f1_score = 2 * (precision * recall) / (precision + recall)\n",
    "    else:\n",
    "        f1_score = 0  # To handle the case when precision and recall are both zero\n",
    "\n",
    "    print(f\"Precision: {precision:.4f}\")\n",
    "    print(f\"Recall: {recall:.4f}\")\n",
    "    print(f\"F1 Score: {f1_score:.4f}\")\n",
    "\n",
    "\n",
    "def computeScoresByThreshold(df, threshold = 0.5):\n",
    "    df['Predicted'] = (df['RFOREST_proba'] >= threshold).astype(int)\n",
    "\n",
    "    # Calculate True Positives (TP), False Positives (FP), True Negatives (TN), False Negatives (FN)\n",
    "    true_positives = ((df['Predicted'] == 1) & (df['Was Selected?'] == 1)).sum()\n",
    "    false_positives = ((df['Predicted'] == 1) & (df['Was Selected?'] == 0)).sum()\n",
    "    true_negatives = ((df['Predicted'] == 0) & (df['Was Selected?'] == 0)).sum()\n",
    "    false_negatives = ((df['Predicted'] == 0) & (df['Was Selected?'] == 1)).sum()\n",
    "\n",
    "    print(f\"True Negatives: {true_negatives}\")\n",
    "    print(f\"True Positives: {true_positives}\")\n",
    "    print(f\"False Negatives: {false_negatives}\")\n",
    "    print(f\"False Positives: {false_positives}\")\n",
    "\n",
    "    calculateFscore(true_positives, false_positives, false_negatives)\n"
   ]
  },
  {
   "cell_type": "code",
   "execution_count": 6,
   "id": "94a8610f",
   "metadata": {},
   "outputs": [
    {
     "name": "stdout",
     "output_type": "stream",
     "text": [
      "True Negatives: 430\n",
      "True Positives: 24\n",
      "False Negatives: 14\n",
      "False Positives: 83\n",
      "Precision: 0.2243\n",
      "Recall: 0.6316\n",
      "F1 Score: 0.3310\n"
     ]
    }
   ],
   "source": [
    "computeScoresByThreshold(ml_pd, 0.5)"
   ]
  },
  {
   "cell_type": "code",
   "execution_count": 7,
   "id": "3782cf7b",
   "metadata": {},
   "outputs": [
    {
     "name": "stdout",
     "output_type": "stream",
     "text": [
      "True Negatives: 468\n",
      "True Positives: 20\n",
      "False Negatives: 18\n",
      "False Positives: 45\n",
      "Precision: 0.3077\n",
      "Recall: 0.5263\n",
      "F1 Score: 0.3883\n"
     ]
    }
   ],
   "source": [
    "computeScoresByThreshold(ml_pd, 0.60)"
   ]
  },
  {
   "cell_type": "code",
   "execution_count": 8,
   "id": "ce2440f2",
   "metadata": {},
   "outputs": [
    {
     "name": "stdout",
     "output_type": "stream",
     "text": [
      "True Negatives: 485\n",
      "True Positives: 16\n",
      "False Negatives: 22\n",
      "False Positives: 28\n",
      "Precision: 0.3636\n",
      "Recall: 0.4211\n",
      "F1 Score: 0.3902\n"
     ]
    }
   ],
   "source": [
    "computeScoresByThreshold(ml_pd, 0.65)"
   ]
  },
  {
   "cell_type": "code",
   "execution_count": 9,
   "id": "55926590",
   "metadata": {},
   "outputs": [
    {
     "name": "stdout",
     "output_type": "stream",
     "text": [
      "True Negatives: 498\n",
      "True Positives: 14\n",
      "False Negatives: 24\n",
      "False Positives: 15\n",
      "Precision: 0.4828\n",
      "Recall: 0.3684\n",
      "F1 Score: 0.4179\n"
     ]
    }
   ],
   "source": [
    "computeScoresByThreshold(ml_pd, 0.70)"
   ]
  }
 ],
 "metadata": {
  "kernelspec": {
   "display_name": "base",
   "language": "python",
   "name": "python3"
  },
  "language_info": {
   "codemirror_mode": {
    "name": "ipython",
    "version": 3
   },
   "file_extension": ".py",
   "mimetype": "text/x-python",
   "name": "python",
   "nbconvert_exporter": "python",
   "pygments_lexer": "ipython3",
   "version": "3.11.7"
  }
 },
 "nbformat": 4,
 "nbformat_minor": 5
}
