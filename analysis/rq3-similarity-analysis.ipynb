{
 "cells": [
  {
   "cell_type": "code",
   "execution_count": null,
   "id": "da28878e",
   "metadata": {},
   "outputs": [],
   "source": [
    "import numpy as np\n",
    "import pandas as pd\n",
    "import os\n",
    "\n",
    "# Get the current directory \n",
    "current_dir = os.path.dirname(os.getcwd())\n",
    "\n"
   ]
  },
  {
   "cell_type": "markdown",
   "id": "f053a150",
   "metadata": {},
   "source": [
    "## Loading CSVs"
   ]
  },
  {
   "cell_type": "code",
   "execution_count": 14,
   "id": "d51d0642",
   "metadata": {},
   "outputs": [],
   "source": [
    "reviewers_file_path = os.path.join(current_dir, 'analysis/assessment-team-table.csv')\n",
    "reviewers_pd = pd.read_csv(reviewers_file_path)\n",
    "reviewers_pd = reviewers_pd.loc[:, ~reviewers_pd.columns.str.contains('^Unnamed')]\n",
    "\n",
    "ml_xlsx_file = os.path.join(current_dir, 'analysis/rq1_gridsearch_anovaf_fs-k1200.xlsx')\n",
    "\n",
    "ml_pd = pd.read_excel(ml_xlsx_file, sheet_name='Probabilities', engine='openpyxl')\n",
    "ml_pd = ml_pd.loc[:, ~ml_pd.columns.str.contains('^Unnamed')]\n"
   ]
  },
  {
   "cell_type": "code",
   "execution_count": null,
   "id": "c93b215c",
   "metadata": {},
   "outputs": [
    {
     "name": "stdout",
     "output_type": "stream",
     "text": [
      "551\n"
     ]
    },
    {
     "data": {
      "text/html": [
       "<div>\n",
       "<style scoped>\n",
       "    .dataframe tbody tr th:only-of-type {\n",
       "        vertical-align: middle;\n",
       "    }\n",
       "\n",
       "    .dataframe tbody tr th {\n",
       "        vertical-align: top;\n",
       "    }\n",
       "\n",
       "    .dataframe thead th {\n",
       "        text-align: right;\n",
       "    }\n",
       "</style>\n",
       "<table border=\"1\" class=\"dataframe\">\n",
       "  <thead>\n",
       "    <tr style=\"text-align: right;\">\n",
       "      <th></th>\n",
       "      <th>uuid</th>\n",
       "      <th>Titles</th>\n",
       "      <th>FR</th>\n",
       "      <th>SVM</th>\n",
       "      <th>RF</th>\n",
       "      <th>R1</th>\n",
       "      <th>R2</th>\n",
       "      <th>R3</th>\n",
       "    </tr>\n",
       "  </thead>\n",
       "  <tbody>\n",
       "    <tr>\n",
       "      <th>0</th>\n",
       "      <td>69094027-4a16-4b1a-b3c9-41b45283a8d4</td>\n",
       "      <td>A Large-Scale Empirical Study of Practitioners...</td>\n",
       "      <td>0</td>\n",
       "      <td>0</td>\n",
       "      <td>0</td>\n",
       "      <td>0</td>\n",
       "      <td>0</td>\n",
       "      <td>0</td>\n",
       "    </tr>\n",
       "    <tr>\n",
       "      <th>1</th>\n",
       "      <td>9e3430a7-9f4c-4966-aa54-6e81be0f693c</td>\n",
       "      <td>From User-Centered to Adoption-Centered Design...</td>\n",
       "      <td>0</td>\n",
       "      <td>2</td>\n",
       "      <td>0</td>\n",
       "      <td>0</td>\n",
       "      <td>0</td>\n",
       "      <td>0</td>\n",
       "    </tr>\n",
       "    <tr>\n",
       "      <th>2</th>\n",
       "      <td>ec2ceb27-5ff3-4109-b252-58a2ca13d5a1</td>\n",
       "      <td>Fontys ICT, Partners in Education Program: Int...</td>\n",
       "      <td>0</td>\n",
       "      <td>2</td>\n",
       "      <td>2</td>\n",
       "      <td>0</td>\n",
       "      <td>0</td>\n",
       "      <td>0</td>\n",
       "    </tr>\n",
       "    <tr>\n",
       "      <th>3</th>\n",
       "      <td>532d077e-ea35-42fa-a22d-8f8432dc5649</td>\n",
       "      <td>Teaching Software Developers to Perform UX Tasks</td>\n",
       "      <td>0</td>\n",
       "      <td>0</td>\n",
       "      <td>0</td>\n",
       "      <td>0</td>\n",
       "      <td>0</td>\n",
       "      <td>0</td>\n",
       "    </tr>\n",
       "    <tr>\n",
       "      <th>4</th>\n",
       "      <td>6b70aaf1-1f6d-4903-8c37-2a8fcd9d10e4</td>\n",
       "      <td>Applying Options Thinking to Shape Generativit...</td>\n",
       "      <td>0</td>\n",
       "      <td>2</td>\n",
       "      <td>0</td>\n",
       "      <td>0</td>\n",
       "      <td>0</td>\n",
       "      <td>0</td>\n",
       "    </tr>\n",
       "  </tbody>\n",
       "</table>\n",
       "</div>"
      ],
      "text/plain": [
       "                                   uuid  \\\n",
       "0  69094027-4a16-4b1a-b3c9-41b45283a8d4   \n",
       "1  9e3430a7-9f4c-4966-aa54-6e81be0f693c   \n",
       "2  ec2ceb27-5ff3-4109-b252-58a2ca13d5a1   \n",
       "3  532d077e-ea35-42fa-a22d-8f8432dc5649   \n",
       "4  6b70aaf1-1f6d-4903-8c37-2a8fcd9d10e4   \n",
       "\n",
       "                                              Titles  FR  SVM  RF  R1  R2  R3  \n",
       "0  A Large-Scale Empirical Study of Practitioners...   0    0   0   0   0   0  \n",
       "1  From User-Centered to Adoption-Centered Design...   0    2   0   0   0   0  \n",
       "2  Fontys ICT, Partners in Education Program: Int...   0    2   2   0   0   0  \n",
       "3   Teaching Software Developers to Perform UX Tasks   0    0   0   0   0   0  \n",
       "4  Applying Options Thinking to Shape Generativit...   0    2   0   0   0   0  "
      ]
     },
     "execution_count": 15,
     "metadata": {},
     "output_type": "execute_result"
    }
   ],
   "source": [
    "# Merge the dataframes on 'uuid' (usind the uuid or the id of the bib entry avoids mistakes caused strings mismatch when comparing different .bib files)\n",
    "merged_df = pd.merge(ml_pd, reviewers_pd, on=['uuid', 'Was Selected?'], how='outer')\n",
    "print(len(merged_df))\n",
    "\n",
    "# Normalize ML proba to compare with reviewers\n",
    "def normalize_ml_proba(value):\n",
    "    if value <= 0.5:\n",
    "        return 0\n",
    "    elif value <= 0.6:\n",
    "        return 1\n",
    "    else:\n",
    "        return 2\n",
    "    \n",
    "\n",
    "# Apply normalization to the 'ML_proba' column\n",
    "merged_df.rename(columns={'RFOREST_proba': 'RF', 'SVM_proba': 'SVM', 'Was Selected?': 'FR', 'Titles_x': 'Titles'}, inplace=True)\n",
    "merged_df.drop('Titles_y', axis=1, inplace=True)\n",
    "merged_df['RF'] = merged_df['RF'].apply(normalize_ml_proba)\n",
    "merged_df['SVM'] = merged_df['SVM'].apply(normalize_ml_proba)\n",
    "\n",
    "# Normalize the final results (FR) column (0 - excluded | 2 - included)\n",
    "merged_df['FR'] = merged_df['FR'] * 2\n",
    "\n",
    "merged_df.head(5)"
   ]
  },
  {
   "cell_type": "markdown",
   "id": "75838ff7",
   "metadata": {},
   "source": [
    "## Calculate the Euclidean Distance"
   ]
  },
  {
   "cell_type": "code",
   "execution_count": null,
   "id": "6bfaeb65",
   "metadata": {},
   "outputs": [],
   "source": [
    "\n",
    "def computeED(df, ml_algo):\n",
    "    euclidean_distances = dict()\n",
    "    ML = ml_algo\n",
    "\n",
    "    # Calculate Euclidean distances between RF, R1, R2, R3 vs FR individually\n",
    "    # EuclideanDistance(i, FR)\n",
    "    euclidean_distances['distance_R1_FR'] = np.sqrt(((df['R1'] - df['FR']) ** 2).sum())\n",
    "    euclidean_distances['distance_R2_FR'] = np.sqrt(((df['R2'] - df['FR']) ** 2).sum())\n",
    "    euclidean_distances['distance_R3_FR'] = np.sqrt(((df['R3'] - df['FR']) ** 2).sum())\n",
    "    euclidean_distances[f'distance_{ML}_FR'] = np.sqrt(((df[ML] - df['FR']) ** 2).sum())\n",
    "\n",
    "    # Calculate Euclidean distances between pairs of RF, R1, R2, R3 vs FR\n",
    "    # EuclideanDistance(avg(i,j), FR)\n",
    "    euclidean_distances['distance_pair_R1_R2'] = np.sqrt(((((df['R1'] + df['R2']) / 2) - (df['FR'])) ** 2).sum())\n",
    "    euclidean_distances['distance_pair_R1_R3'] = np.sqrt(((((df['R1'] + df['R3']) / 2) - (df['FR'])) ** 2).sum())\n",
    "    euclidean_distances['distance_pair_R2_R3'] = np.sqrt(((((df['R2'] + df['R3']) / 2) - (df['FR'])) ** 2).sum())\n",
    "    euclidean_distances[f'distance_pair_R1_{ML}'] = np.sqrt(((((df['R1'] + df[ML]) / 2) - (df['FR'])) ** 2).sum())\n",
    "    euclidean_distances[f'distance_pair_R2_{ML}'] = np.sqrt(((((df['R2'] + df[ML]) / 2) - (df['FR'])) ** 2).sum())\n",
    "    euclidean_distances[f'distance_pair_R3_{ML}'] = np.sqrt(((((df['R3'] + df[ML]) / 2) - (df['FR'])) ** 2).sum())\n",
    "\n",
    "    # Calculate Euclidean distances between groups of RF, R1, R2, R3 vs FR\n",
    "    # EuclideanDistance(avg(i,j,k), FR)\n",
    "    euclidean_distances['distance_group_R1_R2_R3'] = np.sqrt(((((df['R1'] + df['R2'] + df['R3']) / 3) - (df['FR'])) ** 2).sum())\n",
    "    euclidean_distances[f'distance_group_{ML}_R2_R3'] = np.sqrt(((((df[ML] + df['R2'] + df['R3']) / 3) - (df['FR'])) ** 2).sum())\n",
    "    euclidean_distances[f'distance_group_R1_{ML}_R3'] = np.sqrt(((((df['R1'] + df[ML] + df['R3']) / 3) - (df['FR'])) ** 2).sum())\n",
    "    euclidean_distances[f'distance_group_R1_R2_{ML}'] = np.sqrt(((((df['R1'] + df['R2'] + df[ML]) / 3) - (df['FR'])) ** 2).sum())\n",
    "\n",
    "    print(f'Euclidean Distances for {ML}:')\n",
    "    print(f'\\tR1 vs FR =  ', (euclidean_distances['distance_R1_FR']))\n",
    "    print(f'\\tR2 vs FR =  ', (euclidean_distances['distance_R2_FR']))\n",
    "    print(f'\\tR3 vs FR =  ', (euclidean_distances['distance_R3_FR']))\n",
    "    print(f'\\t{ML} vs FR =  ', (euclidean_distances[f'distance_{ML}_FR']))\n",
    "    print(f'\\t----------------------------')\n",
    "    print(f'\\tpair(R1,R2) vs FR =  ', (euclidean_distances['distance_pair_R1_R2']))\n",
    "    print(f'\\tpair(R1,R3) vs FR =  ', (euclidean_distances['distance_pair_R1_R3']))\n",
    "    print(f'\\tpair(R2,R3) vs FR =  ', (euclidean_distances['distance_pair_R2_R3']))\n",
    "    print(f'\\tpair(R1,{ML}) vs FR =  ', (euclidean_distances[f'distance_pair_R1_{ML}']))\n",
    "    print(f'\\tpair(R2,{ML}) vs FR =  ', (euclidean_distances[f'distance_pair_R2_{ML}']))\n",
    "    print(f'\\tpair(R3,{ML}) vs FR =  ', (euclidean_distances[f'distance_pair_R3_{ML}']))\n",
    "    print(f'\\t----------------------------')\n",
    "    print(f'\\tgroup(R1,R2,R3) vs FR =  ', (euclidean_distances['distance_group_R1_R2_R3'])) \n",
    "    print(f'\\tgroup({ML},R2,R3) vs FR =  ', (euclidean_distances[f'distance_group_{ML}_R2_R3'])) \n",
    "    print(f'\\tgroup(R1,{ML},R3) vs FR =  ', (euclidean_distances[f'distance_group_R1_{ML}_R3'])) \n",
    "    print(f'\\tgroup(R1,R2,{ML}) vs FR =  ', (euclidean_distances[f'distance_group_R1_R2_{ML}'])) \n",
    "    print(f'\\t----------------------------')"
   ]
  },
  {
   "cell_type": "markdown",
   "id": "ba09b709",
   "metadata": {},
   "source": [
    "### Random Forest (RF)"
   ]
  },
  {
   "cell_type": "code",
   "execution_count": 25,
   "id": "79dcb0e6",
   "metadata": {},
   "outputs": [
    {
     "name": "stdout",
     "output_type": "stream",
     "text": [
      "Euclidean Distances for RF:\n",
      "\tR1 vs FR =   12.0\n",
      "\tR2 vs FR =   9.9498743710662\n",
      "\tR3 vs FR =   11.180339887498949\n",
      "\tRF vs FR =   16.673332000533065\n",
      "\t----------------------------\n",
      "\tpair(R1,R2) vs FR =   8.902246907382429\n",
      "\tpair(R1,R3) vs FR =   9.233092656309694\n",
      "\tpair(R2,R3) vs FR =   8.972179222463181\n",
      "\tpair(R1,RF) vs FR =   11.575836902790225\n",
      "\tpair(R2,RF) vs FR =   11.478240283248997\n",
      "\tpair(R3,RF) vs FR =   11.800423721205947\n",
      "\t----------------------------\n",
      "\tgroup(R1,R2,R3) vs FR =   8.246211251235321\n",
      "\tgroup(RF,R2,R3) vs FR =   10.022197585581939\n",
      "\tgroup(R1,RF,R3) vs FR =   9.927515074556954\n",
      "\tgroup(R1,R2,RF) vs FR =   9.769567259835231\n",
      "\t----------------------------\n"
     ]
    }
   ],
   "source": [
    "computeED(merged_df, 'RF')"
   ]
  },
  {
   "cell_type": "markdown",
   "id": "6e0d6945",
   "metadata": {},
   "source": [
    "### SVM"
   ]
  },
  {
   "cell_type": "code",
   "execution_count": 26,
   "id": "1c8988fb",
   "metadata": {},
   "outputs": [
    {
     "name": "stdout",
     "output_type": "stream",
     "text": [
      "Euclidean Distances for SVM:\n",
      "\tR1 vs FR =   12.0\n",
      "\tR2 vs FR =   9.9498743710662\n",
      "\tR3 vs FR =   11.180339887498949\n",
      "\tSVM vs FR =   29.614185789921695\n",
      "\t----------------------------\n",
      "\tpair(R1,R2) vs FR =   8.902246907382429\n",
      "\tpair(R1,R3) vs FR =   9.233092656309694\n",
      "\tpair(R2,R3) vs FR =   8.972179222463181\n",
      "\tpair(R1,SVM) vs FR =   17.48570845004571\n",
      "\tpair(R2,SVM) vs FR =   16.837458240482736\n",
      "\tpair(R3,SVM) vs FR =   17.24818831066034\n",
      "\t----------------------------\n",
      "\tgroup(R1,R2,R3) vs FR =   8.246211251235321\n",
      "\tgroup(SVM,R2,R3) vs FR =   13.102162671355698\n",
      "\tgroup(R1,SVM,R3) vs FR =   13.366625103842281\n",
      "\tgroup(R1,R2,SVM) vs FR =   13.140268896284683\n",
      "\t----------------------------\n"
     ]
    }
   ],
   "source": [
    "computeED(merged_df, 'SVM')"
   ]
  }
 ],
 "metadata": {
  "kernelspec": {
   "display_name": "base",
   "language": "python",
   "name": "python3"
  },
  "language_info": {
   "codemirror_mode": {
    "name": "ipython",
    "version": 3
   },
   "file_extension": ".py",
   "mimetype": "text/x-python",
   "name": "python",
   "nbconvert_exporter": "python",
   "pygments_lexer": "ipython3",
   "version": "3.11.7"
  }
 },
 "nbformat": 4,
 "nbformat_minor": 5
}
