{
 "cells": [
  {
   "cell_type": "code",
   "execution_count": null,
   "id": "1ea325af",
   "metadata": {},
   "outputs": [],
   "source": []
  },
  {
   "cell_type": "code",
   "execution_count": null,
   "id": "da28878e",
   "metadata": {},
   "outputs": [],
   "source": [
    "import pandas as pd\n",
    "import os\n",
    "\n",
    "# Get the current directory \n",
    "current_dir = os.path.dirname(os.getcwd())\n"
   ]
  },
  {
   "cell_type": "markdown",
   "id": "f053a150",
   "metadata": {},
   "source": [
    "## Loading CSVs"
   ]
  },
  {
   "cell_type": "code",
   "execution_count": 12,
   "id": "11677ebc",
   "metadata": {},
   "outputs": [],
   "source": [
    "rq2_svm_xlsx_file = os.path.join(current_dir, 'analysis/rq2-gridsearch-pearson-fs-recall-macro-1200k.xlsx')\n",
    "ml_pd = pd.read_excel(rq2_svm_xlsx_file, sheet_name='Probabilities', engine='openpyxl')\n",
    "ml_pd = ml_pd.loc[:, ~ml_pd.columns.str.contains('^Unnamed')]"
   ]
  },
  {
   "cell_type": "markdown",
   "id": "574f1a0b",
   "metadata": {},
   "source": [
    "### RQ2 - SVM threshold analysis"
   ]
  },
  {
   "cell_type": "code",
   "execution_count": 13,
   "id": "c93b215c",
   "metadata": {},
   "outputs": [],
   "source": [
    "def calculateFscore(true_positives, false_positives, false_negatives): \n",
    "    # Calculate Precision\n",
    "    if true_positives + false_positives > 0:\n",
    "        precision = true_positives / (true_positives + false_positives)\n",
    "    else:\n",
    "        precision = 0  # To handle the case when TP and FP are both zero\n",
    "\n",
    "    # Calculate Recall\n",
    "    if true_positives + false_negatives > 0:\n",
    "        recall = true_positives / (true_positives + false_negatives)\n",
    "    else:\n",
    "        recall = 0  # To handle the case when TP and FN are both zero\n",
    "\n",
    "    # Calculate F1 Score\n",
    "    if precision + recall > 0:\n",
    "        f1_score = 2 * (precision * recall) / (precision + recall)\n",
    "    else:\n",
    "        f1_score = 0  # To handle the case when precision and recall are both zero\n",
    "\n",
    "    print(f\"Precision: {precision:.4f}\")\n",
    "    print(f\"Recall: {recall:.4f}\")\n",
    "    print(f\"F1 Score: {f1_score:.4f}\")\n",
    "\n",
    "\n",
    "def computeScoresByThreshold(df, threshold = 0.5):\n",
    "    df['Predicted'] = (df['SVM_proba'] >= threshold).astype(int)\n",
    "\n",
    "    # Calculate True Positives (TP), False Positives (FP), True Negatives (TN), False Negatives (FN)\n",
    "    true_positives = ((df['Predicted'] == 1) & (df['Was Selected?'] == 1)).sum()\n",
    "    false_positives = ((df['Predicted'] == 1) & (df['Was Selected?'] == 0)).sum()\n",
    "    true_negatives = ((df['Predicted'] == 0) & (df['Was Selected?'] == 0)).sum()\n",
    "    false_negatives = ((df['Predicted'] == 0) & (df['Was Selected?'] == 1)).sum()\n",
    "\n",
    "    print(f\"True Negatives: {true_negatives}\")\n",
    "    print(f\"True Positives: {true_positives}\")\n",
    "    print(f\"False Negatives: {false_negatives}\")\n",
    "    print(f\"False Positives: {false_positives}\")\n",
    "\n",
    "    calculateFscore(true_positives, false_positives, false_negatives)\n"
   ]
  },
  {
   "cell_type": "code",
   "execution_count": 14,
   "id": "94a8610f",
   "metadata": {},
   "outputs": [
    {
     "name": "stdout",
     "output_type": "stream",
     "text": [
      "True Negatives: 183\n",
      "True Positives: 38\n",
      "False Negatives: 0\n",
      "False Positives: 330\n",
      "Precision: 0.1033\n",
      "Recall: 1.0000\n",
      "F1 Score: 0.1872\n"
     ]
    }
   ],
   "source": [
    "computeScoresByThreshold(ml_pd, 0.5)"
   ]
  },
  {
   "cell_type": "code",
   "execution_count": 15,
   "id": "3782cf7b",
   "metadata": {},
   "outputs": [
    {
     "name": "stdout",
     "output_type": "stream",
     "text": [
      "True Negatives: 265\n",
      "True Positives: 37\n",
      "False Negatives: 1\n",
      "False Positives: 248\n",
      "Precision: 0.1298\n",
      "Recall: 0.9737\n",
      "F1 Score: 0.2291\n"
     ]
    }
   ],
   "source": [
    "computeScoresByThreshold(ml_pd, 0.75)"
   ]
  },
  {
   "cell_type": "code",
   "execution_count": 16,
   "id": "ce2440f2",
   "metadata": {},
   "outputs": [
    {
     "name": "stdout",
     "output_type": "stream",
     "text": [
      "True Negatives: 283\n",
      "True Positives: 36\n",
      "False Negatives: 2\n",
      "False Positives: 230\n",
      "Precision: 0.1353\n",
      "Recall: 0.9474\n",
      "F1 Score: 0.2368\n"
     ]
    }
   ],
   "source": [
    "computeScoresByThreshold(ml_pd, 0.80)"
   ]
  },
  {
   "cell_type": "code",
   "execution_count": 17,
   "id": "55926590",
   "metadata": {},
   "outputs": [
    {
     "name": "stdout",
     "output_type": "stream",
     "text": [
      "True Negatives: 307\n",
      "True Positives: 34\n",
      "False Negatives: 4\n",
      "False Positives: 206\n",
      "Precision: 0.1417\n",
      "Recall: 0.8947\n",
      "F1 Score: 0.2446\n"
     ]
    }
   ],
   "source": [
    "computeScoresByThreshold(ml_pd, 0.85)"
   ]
  }
 ],
 "metadata": {
  "kernelspec": {
   "display_name": "base",
   "language": "python",
   "name": "python3"
  },
  "language_info": {
   "codemirror_mode": {
    "name": "ipython",
    "version": 3
   },
   "file_extension": ".py",
   "mimetype": "text/x-python",
   "name": "python",
   "nbconvert_exporter": "python",
   "pygments_lexer": "ipython3",
   "version": "3.11.7"
  }
 },
 "nbformat": 4,
 "nbformat_minor": 5
}
